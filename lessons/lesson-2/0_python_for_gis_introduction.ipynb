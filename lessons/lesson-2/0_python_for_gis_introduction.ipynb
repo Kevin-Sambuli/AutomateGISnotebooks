{
 "cells": [
  {
   "cell_type": "code",
   "execution_count": null,
   "metadata": {},
   "outputs": [],
   "source": [
    "from shapely.geometry import Polygon, Point, shape, MultiPolygon, mapping\n",
    "from geojson import Feature, Point, FeatureCollection\n",
    "from folium.plugins import MarkerCluster\n",
    "from geo.Geoserver import Geoserver\n",
    "from geopandas.tools import sjoin\n",
    "import matplotlib.pyplot as plt\n",
    "from folium import IFrame\n",
    "import geopandas as gpd\n",
    "import pandas as pd\n",
    "# import pysal as ps\n",
    "%matplotlib inline\n",
    "import psycopg2\n",
    "import requests\n",
    "import shapely\n",
    "import geojson\n",
    "import json\n",
    "import topojson as tp\n",
    "import folium\n",
    "import pprint\n",
    "import fiona\n",
    "import os\n",
    "\n",
    "\n",
    "import shapely.wkt\n",
    "import unicodedata\n",
    "import osgeo.ogr\n",
    "# from pysal import mapping as maps"
   ]
  },
  {
   "cell_type": "code",
   "execution_count": 14,
   "metadata": {},
   "outputs": [
    {
     "data": {
      "text/html": [
       "<style>\n",
       "h1 {\n",
       "  border: 1.5px solid #333;\n",
       "  padding: 8px 12px;\n",
       "  background-image: linear-gradient(180deg, #fff, rgb(160, 147, 147));\n",
       "  position: static;\n",
       "}\n",
       "\n",
       "h2 {\n",
       "/*  border: 1.5px solid #333;*/\n",
       "/*  padding: 8px 12px;*/\n",
       "  color:#50bdb3;\n",
       "/*  background-image: linear-gradient(180deg, #fff, rgb(160, 147, 147));*/\n",
       "  position: static;\n",
       "}\n",
       "\n",
       "\n",
       "</style>"
      ],
      "text/plain": [
       "<IPython.core.display.HTML object>"
      ]
     },
     "execution_count": 14,
     "metadata": {},
     "output_type": "execute_result"
    }
   ],
   "source": [
    "# Styling notebook\n",
    "from IPython.core.display import HTML\n",
    "def css_styling():\n",
    "    styles = open(\"custom.css\", \"r\").read()\n",
    "    return HTML(styles)\n",
    "css_styling()"
   ]
  },
  {
   "cell_type": "markdown",
   "metadata": {},
   "source": [
    "# What is Python for GIS"
   ]
  },
  {
   "cell_type": "code",
   "execution_count": null,
   "metadata": {},
   "outputs": [],
   "source": []
  },
  {
   "cell_type": "markdown",
   "metadata": {},
   "source": [
    "\n",
    "\n",
    "Python for GIS refers to the use of the Python programming language in Geographic Information Systems (GIS) applications. \n",
    "GIS is a field that deals with the collection, analysis, and management of geospatial data, which can be represented in the \n",
    "form of maps, satellite imagery, aerial photographs, and other data sources.\n",
    "\n",
    "\n",
    "Python is a popular language for GIS because it offers a range of libraries and tools that are specifically designed for \n",
    "\n",
    "working with geospatial data. Some of the most commonly used Python libraries for GIS include:\n",
    "\n",
    "## GeoPandas: \n",
    "    - A library that extends the Pandas library to include support for geospatial data, making it easy to work with vector data such as points, lines, and polygons.\n",
    "\n",
    "## Shapely:\n",
    "    - A library for working with 2D geometry objects, such as points, lines, and polygons.\n",
    "\n",
    "## Fiona: \n",
    "    - A library for reading and writing geospatial data in various formats, including Shapefiles and GeoJSON.\n",
    "\n",
    "## PyProj: \n",
    "    - A library for performing coordinate system transformations, which is an essential task in GIS.\n",
    "\n",
    "## GDAL: \n",
    "    - A library for working with raster data, such as satellite imagery and digital elevation models."
   ]
  },
  {
   "cell_type": "code",
   "execution_count": null,
   "metadata": {},
   "outputs": [],
   "source": []
  },
  {
   "cell_type": "markdown",
   "metadata": {},
   "source": [
    "# Importance of having this Skill"
   ]
  },
  {
   "cell_type": "markdown",
   "metadata": {},
   "source": [
    "\n",
    "Learning Python for GIS is becoming increasingly important due to the growing demand for professionals who can work with geospatial data in various industries, such as urban planning, agriculture, natural resource management, disaster management, and many others. Here are some reasons why learning Python is essential for GIS:\n",
    "\n",
    "## Data processing and analysis: \n",
    "    - Python offers a wide range of libraries and tools that make it easy to process, manipulate and analyze geospatial data. This includes performing calculations, creating and managing databases, and automating workflows.\n",
    "\n",
    "## Visualization: \n",
    "    - Python offers powerful libraries such as Matplotlib, Seaborn, and Plotly that enable data visualization, which is critical for communicating insights from geospatial data to stakeholders.\n",
    "\n",
    "## Integration with other tools: \n",
    "    - Python integrates well with other software and tools, such as QGIS, ArcGIS, and Google Earth Engine, which are widely used in GIS applications. This allows for seamless workflows and data exchange.\n",
    "\n",
    "## Flexibility and scalability: \n",
    "    - Python is a versatile language that can be used to build small-scale scripts or large-scale applications for managing geospatial data, making it suitable for both novice and advanced users.\n",
    "\n",
    "## Community support:\n",
    "    - Python has a large and active community of developers who contribute to libraries, tools, and online resources. This means that users can access a wealth of knowledge and resources to support their work in GIS.\n",
    "\n",
    "Overall, learning Python for GIS is an essential skill for anyone who wants to work with geospatial data in a professional context, as it provides a powerful toolset for data processing, analysis, and visualization."
   ]
  },
  {
   "cell_type": "code",
   "execution_count": null,
   "metadata": {},
   "outputs": [],
   "source": []
  },
  {
   "cell_type": "markdown",
   "metadata": {},
   "source": [
    "# COURSE OUTLINE"
   ]
  },
  {
   "cell_type": "markdown",
   "metadata": {},
   "source": [
    "# Introduction to Python and GIS\n",
    "\n",
    "- Introduction to Python and its applications in GIS\n",
    "- Installing Python and relevant libraries\n",
    "- Basic Python syntax, data types, and control structures\n",
    "- Reading and writing data using Python\n",
    "-  Introduction to GIS concepts and data types\n",
    "\n",
    "# Working with Geospatial Data in Python\n",
    "\n",
    "- Introduction to Geospatial Data formats (Vector and Raster data)\n",
    "- Reading and writing vector data using Geopandas and Fiona\n",
    "- Reading and writing raster data using GDAL\n",
    "- Geospatial data processing and analysis using Python\n",
    "- Visualization of geospatial data using Matplotlib, Seaborn, and Plotly\n",
    "\n",
    "# Advanced GIS Applications with Python\n",
    "### Advanced Python Programming\n",
    "#### Programming Paradigm\n",
    "     - Procedural Programming\n",
    "     - Functional Programming\n",
    "     - Object Oriented Programming (OOP)\n",
    "         - Classes\n",
    "         - Class methods\n",
    "#### Python Fundamentals\n",
    "    - Advanced datatypes and data types manipulations\n",
    "    - list comprehensions\n",
    "#### Raster manipulation with python\n",
    "    - clipping/masking raster datasets\n",
    "    - supervised classification\n",
    "    \n",
    "####  Coordinate reference systems and projections\n",
    "\n",
    "#### Visualization or vector and raster datsets in python\n",
    "    - Folium\n",
    "    - matplotlib\n",
    "    - LeafMap\n",
    "    - GeeMap\n",
    "    - Greppo\n",
    "    \n",
    "#### Geospatial analysis and modeling using Python libraries such as PySAL and Rasterio\n",
    "#### Integrating Python with GIS software such as \n",
    "    - QGIS and ArcGIS\n",
    "    \n",
    "#### Web mapping using Python libraries such as \n",
    "    - Folium\n",
    "    - django-leaflet\n",
    "    - django-geojson\n",
    "#### Working with remote sensing data and machine learning for image analysis\n",
    "#### web GIS development using Flask or Django/Geodjango\n",
    "    - Design of Spatial Forms\n",
    "    - Web based Digitization and Editing\n",
    "    - User Authentication and Data Security(Geofencing)\n",
    "#### Advanced data Sorting and Filtering using REST_API\n",
    "    - DRF\n",
    "    - FastApi\n",
    "#### Integration with Client Web Mapping JavaScript Libraries\n",
    "    - Leaflet\n",
    "    - Openlayers\n",
    "    - Mapbox\n",
    "    - Google Maps\n",
    "    \n",
    "#### Web Based Map Printing - Download web Map in PDF\n",
    "    \n",
    "#### Geocoding\n",
    "#### Integration with Database\n",
    "    - PostgreSQL/PostGIS \n",
    "    - creating Views\n",
    "    - creating indexes\n",
    "    \n",
    "#### Integrating with Geoserver\n",
    "      - Layer Stylings\n",
    "      - Scale based Layer Styling\n",
    "      - Layer security\n",
    "      - Layer caching and creating Custom OSM\n",
    "      - Data Security(Geofencing)\n",
    "      - User Roles and Authentication\n",
    "      - Automated Shapefile upload from web to Geoserver\n",
    "  \n",
    "#### Integrating with Google Earth Engine(JavaScript and Python API)\n",
    "        - Calculating spectral Indices\n",
    "            - NDVI - Normalized Difference Vegetation Index\n",
    "            - SAVI - Soil Adjusted Vegetation Index \n",
    "            - EVI - Enhanced Vegetation Index\n",
    "  \n",
    "\n",
    "# Project work\n",
    "## Design and implementation of a small-scale GIS project using Python\n",
    "    - Design an Authentication System That shows Registered users on a web map\n",
    "    - Group projects involving geospatial data analysis and visualization\n",
    "    - Advanced projects such as remote sensing image classification or network analysis\n",
    "\n",
    "\n"
   ]
  },
  {
   "cell_type": "code",
   "execution_count": null,
   "metadata": {},
   "outputs": [],
   "source": []
  },
  {
   "cell_type": "code",
   "execution_count": null,
   "metadata": {},
   "outputs": [],
   "source": []
  },
  {
   "cell_type": "markdown",
   "metadata": {},
   "source": [
    "# Introduction to Geospatial Data formats (Vector and Raster data)"
   ]
  },
  {
   "cell_type": "markdown",
   "metadata": {},
   "source": [
    "## Vector Data "
   ]
  },
  {
   "cell_type": "markdown",
   "metadata": {},
   "source": [
    "Vector data is a type of geospatial data used in GIS that represents geographic features as points, lines, and polygons. \n",
    "These features are defined by their geometric properties such as location, size, and shape, as well as their attributes \n",
    "such as name, population, or elevation.\n",
    "\n",
    "Vector data is composed of two basic elements: \n",
    "- Points and their connecting lines, and \n",
    "- Areas bounded by closed lines, or polygons.\n",
    "\n",
    "Points represent features with no area, such as a city or a landmark, while lines represent features with a linear extent, such as a river or a road. \n",
    "\n",
    "Polygons represent features with an area, such as a country or a lake.\n",
    "\n",
    "Vector data is often used to represent discrete objects or features such as buildings, roads, and administrative boundaries. It is stored as a set of coordinates and attributes, with each point, line, or polygon having a unique identifier and a set of attributes that describe its properties.\n",
    "\n",
    "Some common formats for storing vector data include \n",
    "- shapefiles,\n",
    "- GeoJSON, \n",
    "- KML, and \n",
    "- ESRI File Geodatabase. \n",
    "\n",
    "Vector data can be processed, analyzed, and visualized using GIS software and Python libraries such as Geopandas, Fiona, and Shapely.\n",
    "\n",
    "Overall, vector data is a fundamental data type in GIS and is widely used in various applications, such as urban planning, natural resource management, and disaster response.\n",
    "\n"
   ]
  },
  {
   "cell_type": "markdown",
   "metadata": {},
   "source": [
    "# Vector Data I/O in Python"
   ]
  },
  {
   "cell_type": "markdown",
   "metadata": {},
   "source": [
    "There are various different file formats and data sources for geographic information. \n",
    "I will show some typical examples how to read (and write) data from different sources"
   ]
  },
  {
   "cell_type": "markdown",
   "metadata": {},
   "source": [
    "### Vector datasets consist of points, lines, and polygons that are defined by their geometries and attributes.\n",
    "#### Python provides a powerful and flexible platform for working with vector datasets in GIS. Its ability to manipulate, analyze, and visualize geospatial data makes it an ideal tool for a wide range of GIS applications.\n",
    "\n",
    "\n",
    "Python has several libraries, such as Geopandas, Fiona, and Shapely, that allow for the reading, writing, and manipulation of vector datasets.\n",
    "\n",
    "\n",
    "Geopandas\n",
    "- a popular Python library that provides a high-level interface for working with vector datasets in Python. It is built on top of Pandas and provides functionality for reading, writing, and manipulating vector datasets in various formats, including shapefiles, GeoJSON, and KML.\n",
    "\n",
    "Fiona\n",
    "- a Python library that provides lower-level access to vector datasets in various formats, including shapefiles and GeoJSON. It provides a simple and efficient interface for reading and writing vector datasets, and it can be used in combination with other Python libraries for data manipulation and analysis.\n",
    "\n",
    "Shapely\n",
    "- a Python library that provides advanced geometry processing capabilities for vector datasets. It can be used to perform various geometric operations, such as buffer analysis, spatial intersections, and distance calculations, on vector datasets.\n",
    "\n",
    "Python also provides functionality for visualizing vector datasets using various plotting libraries, such as \n",
    "Matplotlib, Seaborn, and Plotly. \n",
    "These libraries allow for the creation of interactive and informative maps that can be used for data exploration and communication.\n",
    "\n",
    "\n",
    "\n",
    "\n"
   ]
  },
  {
   "cell_type": "markdown",
   "metadata": {},
   "source": [
    "# Using fiona to read spatial data\n",
    "\n",
    "- Fiona streams simple feature data to and from GIS formats like GeoPackage and Shapefile.\n",
    "\n",
    "- Fiona can read and write real-world data using multi-layered GIS formats, zipped and in-memory virtual file systems, from files on your hard drive or in cloud storage\n",
    "\n",
    "- Fiona depends on GDAL but is different from GDAL's own bindings. Fiona is designed to be highly productive and \n",
    "to make it easy to write code which is easy to read."
   ]
  },
  {
   "cell_type": "markdown",
   "metadata": {},
   "source": [
    "# Useful links\n",
    "- https://github.com/Toblerity/Fiona/tree/master/examples\n",
    "- https://gist.github.com/tmcw/5078699\n",
    "- https://github.com/Kevin-Sambuli/AutomateGISnotebooks\n",
    "- https://macwright.com/2012/10/31/gis-with-python-shapely-fiona.html\n",
    "- https://youtu.be/fxUagyDxDGs\n",
    "- https://skelouse.github.io/faster_mapping_with_folium"
   ]
  },
  {
   "cell_type": "code",
   "execution_count": 15,
   "metadata": {},
   "outputs": [],
   "source": [
    "# See all available drivers supported by GDAL\n",
    "import fiona"
   ]
  },
  {
   "cell_type": "code",
   "execution_count": null,
   "metadata": {},
   "outputs": [],
   "source": [
    "# help(fiona)"
   ]
  },
  {
   "cell_type": "markdown",
   "metadata": {},
   "source": [
    "# File formats"
   ]
  },
  {
   "cell_type": "code",
   "execution_count": null,
   "metadata": {},
   "outputs": [],
   "source": [
    "# check which file formats are supported by fiona\n",
    "fiona.supported_drivers"
   ]
  },
  {
   "cell_type": "code",
   "execution_count": null,
   "metadata": {},
   "outputs": [],
   "source": [
    "# Check supported format drivers\n",
    "gpd.io.file.fiona.drvsupport.supported_drivers\n",
    "\n",
    "# Same as:\n",
    "# fiona.supported_drivers"
   ]
  },
  {
   "cell_type": "code",
   "execution_count": 18,
   "metadata": {},
   "outputs": [
    {
     "name": "stdout",
     "output_type": "stream",
     "text": [
      "True\n"
     ]
    }
   ],
   "source": [
    "# Open a file for reading. We'll call this the \"source.\"\n",
    "\n",
    "data_dir = r\" C:\\Users\\DELL\\Desktop\\jupyter\\AutomateGISnotebooks\\lessons\\data\"\n",
    "\n",
    "try:\n",
    "    with fiona.open('../data/plots2.shp') as src: \n",
    "        pprint.pprint(src[1])\n",
    "        \n",
    "        assert True is False\n",
    "except:\n",
    "    print(src.closed)\n",
    "#     raise\n",
    "\n"
   ]
  },
  {
   "cell_type": "code",
   "execution_count": 19,
   "metadata": {},
   "outputs": [],
   "source": [
    "#  getting the driver used to open the file\n",
    "\n",
    "data= fiona.open('../data/plots2.shp')\n",
    "\n",
    "# data= fiona.open('ardhi/myfile.geojson')\n",
    "# data.driver\n"
   ]
  },
  {
   "cell_type": "code",
   "execution_count": 22,
   "metadata": {},
   "outputs": [
    {
     "data": {
      "text/plain": [
       "{'init': 'epsg:4326'}"
      ]
     },
     "execution_count": 22,
     "metadata": {},
     "output_type": "execute_result"
    }
   ],
   "source": [
    "# getting the epsg code of the opened shapefile\n",
    "data.crs"
   ]
  },
  {
   "cell_type": "code",
   "execution_count": null,
   "metadata": {},
   "outputs": [],
   "source": [
    "from fiona.crs import to_string, from_string, from_epsg\n",
    "\n",
    "# print(to_string(data.crs))\n",
    "\n",
    "# print(from_epsg(3857))"
   ]
  },
  {
   "cell_type": "markdown",
   "metadata": {},
   "source": [
    "## Getting bounds of the opened shapefile"
   ]
  },
  {
   "cell_type": "code",
   "execution_count": null,
   "metadata": {},
   "outputs": [],
   "source": [
    "data.bounds"
   ]
  },
  {
   "cell_type": "code",
   "execution_count": null,
   "metadata": {},
   "outputs": [],
   "source": [
    "# import pprint"
   ]
  },
  {
   "cell_type": "code",
   "execution_count": null,
   "metadata": {},
   "outputs": [],
   "source": [
    "#  Describe the schema of the opened shapefile and check the columns and its data types\n",
    "pprint.pprint(data.schema)"
   ]
  },
  {
   "cell_type": "code",
   "execution_count": null,
   "metadata": {},
   "outputs": [],
   "source": [
    "# create geometry object from a json or geojson\n",
    "# Json.loads converts a normal json to python dictionary\n",
    "s = shape(json.loads('{\"type\": \"Point\", \"coordinates\": [36.0, -1.0]}'))\n",
    "# s"
   ]
  },
  {
   "cell_type": "code",
   "execution_count": null,
   "metadata": {},
   "outputs": [],
   "source": [
    "# prints the type of object class you are working on\n",
    "pprint.pprint(s)\n",
    "\n",
    "# prints the type of object class you are working on converted to Well Known Text\n",
    "pprint.pprint(s.wkt)\n",
    "\n",
    "# prints the type of object class you are working on converted to Well Known Binary\n",
    "pprint.pprint(s.wkb)"
   ]
  },
  {
   "cell_type": "code",
   "execution_count": null,
   "metadata": {},
   "outputs": [],
   "source": [
    "# Writing the data as json format\n",
    "print(json.dumps(mapping(s)))"
   ]
  },
  {
   "cell_type": "markdown",
   "metadata": {},
   "source": [
    "# Turning Arbitrary Data into Geodata"
   ]
  },
  {
   "cell_type": "markdown",
   "metadata": {},
   "source": [
    "First: grab the documentation to Python’s CSV reader. It’s a good one, and pretty simple to use. \n",
    "    Using one of the code examples on that page, you can make"
   ]
  },
  {
   "cell_type": "code",
   "execution_count": null,
   "metadata": {},
   "outputs": [],
   "source": []
  },
  {
   "cell_type": "code",
   "execution_count": 27,
   "metadata": {},
   "outputs": [],
   "source": [
    "import csv\n",
    "from shapely.geometry import Point, MultiPoint ,mapping, shape\n",
    "from fiona import collection"
   ]
  },
  {
   "cell_type": "code",
   "execution_count": null,
   "metadata": {},
   "outputs": [],
   "source": [
    "# Opening the csv using the csv module and reading each line a s row\n",
    "with open('cities.csv', 'r') as f:\n",
    "    reader = csv.DictReader(f)\n",
    "    for row in reader:\n",
    "#         print row\n",
    "        print(row)"
   ]
  },
  {
   "cell_type": "code",
   "execution_count": null,
   "metadata": {},
   "outputs": [],
   "source": []
  },
  {
   "cell_type": "code",
   "execution_count": null,
   "metadata": {},
   "outputs": [],
   "source": [
    "# Converting Point geometry from lat and long from the datasets\n",
    "\n",
    "with open('cities.csv', 'r') as f:\n",
    "    reader = csv.DictReader(f)\n",
    "    for row in reader:\n",
    "        point = Point(float(row['lng']), float(row['lat']))\n",
    "                                                   \n",
    "point # returns the last point from the list"
   ]
  },
  {
   "cell_type": "code",
   "execution_count": null,
   "metadata": {},
   "outputs": [],
   "source": []
  },
  {
   "cell_type": "markdown",
   "metadata": {},
   "source": [
    "### Okay, now to save those points. Let’s bring in Fiona, and save these points to a shapefile."
   ]
  },
  {
   "cell_type": "code",
   "execution_count": 23,
   "metadata": {},
   "outputs": [
    {
     "name": "stdout",
     "output_type": "stream",
     "text": [
      "Results folder exists already.\n"
     ]
    }
   ],
   "source": [
    "# Determine output directory\n",
    "output_folder = r\"C:\\Users\\DELL\\Desktop\\jupyter\\AutomateGISnotebooks\\lessons\\data\"\n",
    "\n",
    "# Create a new folder called 'Results' \n",
    "result_folder = os.path.join(output_folder, 'Results')\n",
    "\n",
    "# Check if the folder exists already\n",
    "if not os.path.exists(result_folder):\n",
    "    \n",
    "    print(\"Creating a folder for the results..\")\n",
    "    \n",
    "    # If it does not exist, create one\n",
    "    os.makedirs(result_folder)\n",
    "    \n",
    "else:\n",
    "    print(\"Results folder exists already.\")"
   ]
  },
  {
   "cell_type": "markdown",
   "metadata": {},
   "source": [
    "# Creating shapefile from the csv data\n",
    "### - First create a mapping of what attributes you shapefile should have\n",
    "### - Loop through the csv and create attributes and create the geometry"
   ]
  },
  {
   "cell_type": "code",
   "execution_count": 32,
   "metadata": {},
   "outputs": [],
   "source": [
    "\n",
    "schema = { 'geometry': 'Point', \n",
    "              'properties': { 'name': 'str', 'population': 'int', 'county' : 'str' } \n",
    "         }\n",
    "\n",
    "with collection( \"..\\data\\Results\\cities.shp\", \"w\", \"ESRI Shapefile\", schema) as output:\n",
    "    \n",
    "    with open('../data/cities.csv', 'r') as f:\n",
    "        reader = csv.DictReader(f)\n",
    "        \n",
    "        for row in reader:\n",
    "            point = Point(float(row['lng']), float(row['lat']))\n",
    "            \n",
    "            output.write({\n",
    "                'properties': {\n",
    "                    'name': row['city'],\n",
    "                    'population': row['population'],\n",
    "                    'county': row['admin_name']\n",
    "                },\n",
    "                'geometry': mapping(point) \n",
    "            })"
   ]
  },
  {
   "cell_type": "code",
   "execution_count": 34,
   "metadata": {},
   "outputs": [],
   "source": [
    "# Reading the shapefile using geopandas\n",
    "path_to_data = r\"C:\\Users\\DELL\\Desktop\\jupyter\\AutomateGISnotebooks\\lessons\\data\\Results\\cities.shp\"\n",
    "\n",
    "gdf = gpd.read_file(path_to_data)\n",
    "\n",
    "\n",
    "# gdf\n",
    "# gdf.head()"
   ]
  },
  {
   "cell_type": "code",
   "execution_count": 35,
   "metadata": {},
   "outputs": [],
   "source": [
    "# Plot the generated points\n",
    "gdf.plot()"
   ]
  },
  {
   "cell_type": "markdown",
   "metadata": {},
   "source": [
    "# Buffering Points"
   ]
  },
  {
   "cell_type": "markdown",
   "metadata": {},
   "source": [
    "## Accessing the geometry part of the shapefile to allow buffering"
   ]
  },
  {
   "cell_type": "code",
   "execution_count": null,
   "metadata": {},
   "outputs": [],
   "source": [
    "with collection(path_to_data, \"r\") as dinput:\n",
    "    for point in dinput:\n",
    "        print (shape(point['geometry']))"
   ]
  },
  {
   "cell_type": "code",
   "execution_count": null,
   "metadata": {},
   "outputs": [],
   "source": [
    "\n",
    "with collection(path_to_data, \"r\") as dinput:\n",
    "    # schema = input.schema.copy()\n",
    "    schema = { 'geometry': 'Polygon', 'properties': { 'name': 'str' } }\n",
    "    \n",
    "    with collection(\n",
    "        \"Results\\citybuffer.shp\", \"w\", \"ESRI Shapefile\", schema) as output:\n",
    "        for point in dinput:\n",
    "            output.write({\n",
    "                'properties': {\n",
    "                    'name': point['properties']['name']\n",
    "                },\n",
    "                'geometry': mapping(shape(point['geometry']).buffer(5.0))\n",
    "            })"
   ]
  },
  {
   "cell_type": "code",
   "execution_count": null,
   "metadata": {},
   "outputs": [],
   "source": [
    "# Reading the shapefile using geopandas\n",
    "path_to_data = r\"C:\\Users\\DELL\\Desktop\\jupyter\\Results\\citybuffer.shp\"\n",
    "\n",
    "gdf = gpd.read_file(path_to_data)\n",
    "\n",
    "\n",
    "gdf.head()"
   ]
  },
  {
   "cell_type": "code",
   "execution_count": null,
   "metadata": {},
   "outputs": [],
   "source": [
    "gdf.plot()"
   ]
  },
  {
   "cell_type": "code",
   "execution_count": null,
   "metadata": {},
   "outputs": [],
   "source": [
    "from shapely.geometry import mapping, shape\n",
    "from shapely.ops import cascaded_union\n",
    "from fiona import collection\n",
    "\n",
    "with collection(\"Results\\citybuffer.shp\", \"r\") as input:\n",
    "    \n",
    "    schema = input.schema.copy()\n",
    "    \n",
    "    with collection(\n",
    "            \"Results\\citybu_union.shp\", \"w\", \"ESRI Shapefile\", schema) as output:\n",
    "        shapes = []\n",
    "        \n",
    "        for f in input:\n",
    "            shapes.append(shape(f['geometry']))\n",
    "            \n",
    "        # Merging the shapefile using cscade union, it takes in a list of geometries as its first entry   \n",
    "        merged = cascaded_union(shapes)\n",
    "        \n",
    "        output.write({\n",
    "            'properties': {\n",
    "                'name': 'Buffer Area'\n",
    "                },\n",
    "            'geometry': mapping(merged)\n",
    "            })"
   ]
  },
  {
   "cell_type": "code",
   "execution_count": null,
   "metadata": {},
   "outputs": [],
   "source": []
  },
  {
   "cell_type": "code",
   "execution_count": null,
   "metadata": {},
   "outputs": [],
   "source": []
  },
  {
   "cell_type": "markdown",
   "metadata": {},
   "source": [
    "# Shapely and geometric objects"
   ]
  },
  {
   "cell_type": "markdown",
   "metadata": {},
   "source": [
    "The most fundamental geometric objects are \n",
    "    - Points, \n",
    "    - Lines and \n",
    "    - Polygons \n",
    "\n",
    "which are the basic ingredients when working with spatial data in vector format. \n",
    "\n",
    "Python has a specific module called Shapely for doing various geometric operations. \n",
    "\n",
    "Basic knowledge of using Shapely is fundamental for understanding how geometries are stored and handled in GeoPandas."
   ]
  },
  {
   "cell_type": "markdown",
   "metadata": {},
   "source": [
    "## Geometric objects consist of coordinate tuples where:\n",
    "\n",
    "- Point\n",
    "object represents a single point in space. Points can be either two-dimensional (x, y) or three dimensional (x, y, z).\n",
    "\n",
    "- LineString\n",
    "object (i.e. a line) represents a sequence of points joined together to form a line. Hence, a line consist of a list of at least two coordinate tuples\n",
    "\n",
    "- Polygon\n",
    "object represents a filled area that consists of a list of at least three coordinate tuples that forms the outerior ring and a (possible) list of hole polygons.\n",
    "\n",
    "## It is also possible to have a collection of geometric objects (e.g. Polygons with multiple parts):\n",
    "\n",
    "- MultiPoint\n",
    "object represents a collection of points and consists of a list of coordinate-tuples\n",
    "\n",
    "- MultiLineString\n",
    "object represents a collection of lines and consists of a list of line-like sequences\n",
    "\n",
    "- MultiPolygon\n",
    "object represents a collection of polygons that consists of a list of polygon-like sequences that construct from exterior ring and (possible) hole list tuples\n",
    "\n",
    "## Useful attributes and methods in Shapely include:\n",
    "\n",
    "    - Creating lines and polygons based on a collection of point objects.\n",
    "\n",
    "    - Calculating areas/length/bounds etc. of input geometries\n",
    "\n",
    "    - Conducting geometric operations based on the input geometries such as union, difference, distance etc.\n",
    "\n",
    "    - Conducting spatial queries between geometries such as intersects, touches, crosses, within etc."
   ]
  },
  {
   "cell_type": "markdown",
   "metadata": {},
   "source": [
    "# Useful links\n",
    "- https://shapely.readthedocs.io/en/stable/manual.html?highlight=shapely.ops#shapely.ops.polygonize"
   ]
  },
  {
   "cell_type": "code",
   "execution_count": null,
   "metadata": {},
   "outputs": [],
   "source": []
  },
  {
   "cell_type": "markdown",
   "metadata": {},
   "source": [
    " ## Point\n",
    "Creating point is easy, you pass x and y coordinates into Point() -object (+ possibly also z -coordinate):"
   ]
  },
  {
   "cell_type": "code",
   "execution_count": null,
   "metadata": {},
   "outputs": [],
   "source": [
    "# Import necessary geometric objects from shapely module\n",
    "from shapely.geometry import Point, LineString, Polygon\n"
   ]
  },
  {
   "cell_type": "code",
   "execution_count": null,
   "metadata": {},
   "outputs": [],
   "source": [
    "# Create Point geometric object(s) with coordinates\n",
    "\n",
    "point1 = Point(36, -1)\n",
    "point2 = Point(37,  2)\n",
    "point3 = Point(36, -4)\n",
    "# point3D = Point(9.26, -2.456, 0.57)"
   ]
  },
  {
   "cell_type": "code",
   "execution_count": null,
   "metadata": {},
   "outputs": [],
   "source": [
    "point1"
   ]
  },
  {
   "cell_type": "code",
   "execution_count": null,
   "metadata": {},
   "outputs": [],
   "source": [
    "# you can check the type of geometry you are working om\n",
    "type(point1)"
   ]
  },
  {
   "cell_type": "markdown",
   "metadata": {},
   "source": [
    "## Point attributes and functions"
   ]
  },
  {
   "cell_type": "markdown",
   "metadata": {},
   "source": [
    "Points and other shapely objects have useful built-in attributes and methods. Using the available attributes, we can for example extract the coordinate values of a Point and calculate the Euclidian distance between points."
   ]
  },
  {
   "cell_type": "markdown",
   "metadata": {},
   "source": [
    "### geom_type\n",
    "geom_type attribute contains information about the geometry type of the Shapely object:"
   ]
  },
  {
   "cell_type": "code",
   "execution_count": null,
   "metadata": {},
   "outputs": [],
   "source": [
    " # helps you know the geomerty type\n",
    "point1.geom_type"
   ]
  },
  {
   "cell_type": "markdown",
   "metadata": {},
   "source": [
    "### coords \n",
    "attribute contains the coordinate information as a Coordinate\n",
    "Sequence which is another data type related to Shapely."
   ]
  },
  {
   "cell_type": "code",
   "execution_count": null,
   "metadata": {},
   "outputs": [],
   "source": [
    "# Get xy coordinate tuple\n",
    "list(point1.coords)"
   ]
  },
  {
   "cell_type": "code",
   "execution_count": null,
   "metadata": {},
   "outputs": [],
   "source": [
    "# Read x and y coordinates separately\n",
    "x = point1.x\n",
    "y = point1.y\n",
    "\n",
    "# print( x, y)"
   ]
  },
  {
   "cell_type": "code",
   "execution_count": null,
   "metadata": {},
   "outputs": [],
   "source": [
    "# Calculate the distance between point1 and point2\n",
    "dist = point1.distance(point2)\n",
    "\n",
    "# Print out a nicely formatted info message\n",
    "print(f\"Distance between the points is {dist} units\")"
   ]
  },
  {
   "cell_type": "markdown",
   "metadata": {},
   "source": [
    "##  LineString\n",
    "Creating LineString -objects is fairly similar to creating Shapely Points.\n",
    "\n",
    "Now instead using a single coordinate-tuple we can construct the line using either a list of shapely Point -objects or pass the points as coordinate-tuples:"
   ]
  },
  {
   "cell_type": "code",
   "execution_count": null,
   "metadata": {},
   "outputs": [],
   "source": [
    "# Create a LineString from our Point objects\n",
    "# line = LineString([point1, point2, point3])\n",
    "line = LineString([point1, point2])"
   ]
  },
  {
   "cell_type": "code",
   "execution_count": null,
   "metadata": {},
   "outputs": [],
   "source": [
    "line"
   ]
  },
  {
   "cell_type": "code",
   "execution_count": null,
   "metadata": {},
   "outputs": [],
   "source": [
    "print(line)\n",
    "\n",
    "\n",
    "# Check data type of the line object\n",
    "type(line)\n",
    "\n",
    "\n",
    "# Check geometry type of the line object\n",
    "line.geom_type"
   ]
  },
  {
   "cell_type": "markdown",
   "metadata": {},
   "source": [
    "## LineString attributes and functions\n",
    "LineString -object has many useful built-in attributes and functionalities. It is for instance possible to extract the coordinates or the length of a LineString (line), calculate the centroid of the line, create points along the line at specific distance, calculate the closest distance from a line to specified Point and simplify the geometry. See full list of functionalities from Shapely documentation. Here, we go through a few of them.\n",
    "\n",
    "We can extract the coordinates of a LineString similarly as with Point"
   ]
  },
  {
   "cell_type": "code",
   "execution_count": null,
   "metadata": {},
   "outputs": [],
   "source": [
    "# Get xy coordinate tuples\n",
    "list(line.coords)"
   ]
  },
  {
   "cell_type": "code",
   "execution_count": null,
   "metadata": {},
   "outputs": [],
   "source": [
    "# Extract x and y coordinates separately\n",
    "xcoords = list(line.xy[0])\n",
    "ycoords = list(line.xy[1])"
   ]
  },
  {
   "cell_type": "code",
   "execution_count": null,
   "metadata": {},
   "outputs": [],
   "source": [
    "print(xcoords)\n",
    "print(ycoords)"
   ]
  },
  {
   "cell_type": "code",
   "execution_count": null,
   "metadata": {},
   "outputs": [],
   "source": [
    "# Get the lenght of the line\n",
    "\n",
    "l_length = line.length\n",
    "print(f\"Length of our line: {l_length} units\")"
   ]
  },
  {
   "cell_type": "code",
   "execution_count": null,
   "metadata": {},
   "outputs": [],
   "source": [
    "# Get the centroid of the line\n",
    "print(line.centroid)"
   ]
  },
  {
   "cell_type": "markdown",
   "metadata": {},
   "source": [
    "## Polygon\n",
    "Creating a Polygon -object continues the same logic of how Point and LineString were created but Polygon object only accepts a sequence of coordinates as input.\n",
    "\n",
    "Polygon needs at least three coordinate-tuples (three points are reguired to form a surface):"
   ]
  },
  {
   "cell_type": "code",
   "execution_count": null,
   "metadata": {},
   "outputs": [],
   "source": [
    "# Create a Polygon from the coordinates\n",
    "\n",
    "point1 = (2.2, 4.2)\n",
    "point2 =  (7.2, -25.1),\n",
    "point3 =  (9.26, -2.456)\n",
    "\n",
    "poly = Polygon([(2.2, 4.2), (7.2, -25.1), (9.26, -2.456)])\n",
    "\n",
    "# poly"
   ]
  },
  {
   "cell_type": "code",
   "execution_count": null,
   "metadata": {},
   "outputs": [],
   "source": [
    "# Create a Polygon based on information from the Shapely points\n",
    "# point1 = Point(36, -1)\n",
    "# point2 = Point(37,  2)\n",
    "# point3 = Point(36, -4)\n",
    "\n",
    "poly2 = Polygon([[p.x, p.y] for p in [point1, point2, point3]])"
   ]
  },
  {
   "cell_type": "code",
   "execution_count": null,
   "metadata": {},
   "outputs": [],
   "source": [
    "poly2"
   ]
  },
  {
   "cell_type": "code",
   "execution_count": null,
   "metadata": {},
   "outputs": [],
   "source": [
    "print(poly2)"
   ]
  },
  {
   "cell_type": "markdown",
   "metadata": {},
   "source": [
    "Notice that Polygon representation has double parentheses around the coordinates (i.e. POLYGON ((<values in here>)) ). This is because Polygon can also have holes inside of it.\n",
    "\n",
    "Check also the data type:"
   ]
  },
  {
   "cell_type": "code",
   "execution_count": null,
   "metadata": {},
   "outputs": [],
   "source": [
    "# Data type\n",
    "type(poly)\n",
    "\n",
    "\n",
    "# Geometry type\n",
    "poly.geom_type\n",
    "\n",
    "\n",
    "# Check the help for Polygon objects:\n",
    "help(Polygon)"
   ]
  },
  {
   "cell_type": "markdown",
   "metadata": {},
   "source": [
    "### As the help of Polygon -object tells, a Polygon can be constructed using exterior coordinates and interior coordinates (optional) where the interior coordinates creates a hole inside the Polygon:\n",
    "\n",
    "Let’s see how we can create a Polygon with a hole:"
   ]
  },
  {
   "cell_type": "code",
   "execution_count": null,
   "metadata": {},
   "outputs": [],
   "source": [
    "# Define the outer border\n",
    "border = [(-180, 90), (-180, -90), (180, -90), (180, 90)]"
   ]
  },
  {
   "cell_type": "code",
   "execution_count": null,
   "metadata": {},
   "outputs": [],
   "source": [
    "# Outer polygon\n",
    "world = Polygon(shell=border)\n",
    "# print(world)"
   ]
  },
  {
   "cell_type": "code",
   "execution_count": null,
   "metadata": {},
   "outputs": [],
   "source": [
    "world"
   ]
  },
  {
   "cell_type": "code",
   "execution_count": null,
   "metadata": {},
   "outputs": [],
   "source": [
    "# Let's create a single big hole where we leave ten units at the boundaries\n",
    "# Note: there could be multiple holes, so we need to provide list of coordinates for the hole inside a list\n",
    "hole = [[(-170, 80), (-170, -80), (170, -80), (170, 80)]]"
   ]
  },
  {
   "cell_type": "code",
   "execution_count": null,
   "metadata": {},
   "outputs": [],
   "source": [
    "# Now we can construct our Polygon with the hole inside\n",
    "frame = Polygon(shell=border, holes=hole)\n",
    "# print(frame)"
   ]
  },
  {
   "cell_type": "code",
   "execution_count": null,
   "metadata": {},
   "outputs": [],
   "source": [
    "frame"
   ]
  },
  {
   "cell_type": "markdown",
   "metadata": {},
   "source": [
    "As we can see the Polygon has now two different tuples of coordinates. The first one represents the outerior and the second one represents the hole inside of the Polygon."
   ]
  },
  {
   "cell_type": "markdown",
   "metadata": {},
   "source": [
    "## Polygon attributes and functions\n",
    "We can again access different attributes directly from the Polygon object itself that can be really useful for many analyses, such as area, centroid, bounding box, exterior, and exterior-length. See a full list of methods in the Shapely User Manual.\n",
    "\n",
    "Here, we can see a few of the available attributes and how to access them:"
   ]
  },
  {
   "cell_type": "code",
   "execution_count": null,
   "metadata": {},
   "outputs": [],
   "source": [
    "# Print the outputs\n",
    "print(f\"Polygon centroid: {world.centroid}\")\n",
    "print(f\"Polygon Area: {world.area}\")\n",
    "print(f\"Polygon Bounding Box: {world.bounds}\")\n",
    "print(f\"Polygon Exterior: {world.exterior}\")\n",
    "print(f\"Polygon Exterior Length: {world.exterior.length}\")"
   ]
  },
  {
   "cell_type": "markdown",
   "metadata": {},
   "source": [
    "## Check your understanding\n",
    "Plot these shapes using Shapely!\n",
    "\n",
    "### example coords: (30, 2.01), (31.91, 0.62), (31.18, -1.63), (28.82, -1.63), (28.09, 0.62)\n",
    "\n",
    "Pentagon, \n",
    "\n",
    "Triangle\n",
    "\n",
    "Square\n",
    "\n",
    "Cicrle"
   ]
  },
  {
   "cell_type": "markdown",
   "metadata": {},
   "source": [
    "# Answers"
   ]
  },
  {
   "cell_type": "code",
   "execution_count": null,
   "metadata": {},
   "outputs": [],
   "source": [
    "# Pentagon - Coordinates borrowed from this thread: https://tex.stackexchange.com/questions/179843/make-a-polygon-with-automatically-labelled-nodes-according-to-their-coordinates \n",
    "# Pentagon\n",
    "Polygon([(30, 2.01), (31.91, 0.62), (31.18, -1.63), (28.82, -1.63), (28.09, 0.62)])"
   ]
  },
  {
   "cell_type": "code",
   "execution_count": null,
   "metadata": {},
   "outputs": [],
   "source": [
    "# Triangle\n",
    "Polygon([(0,0), (2,4), (4,0)])"
   ]
  },
  {
   "cell_type": "code",
   "execution_count": null,
   "metadata": {},
   "outputs": [],
   "source": [
    "# Square\n",
    "Polygon([(0,0), (0,4), (4,4), (4,0)])"
   ]
  },
  {
   "cell_type": "code",
   "execution_count": null,
   "metadata": {},
   "outputs": [],
   "source": [
    "# Circle (using a buffer around a point)\n",
    "point = Point((0,0))\n",
    "point.buffer(1)"
   ]
  },
  {
   "cell_type": "markdown",
   "metadata": {},
   "source": [
    "# Geometry collections (optional)\n",
    "In some occassions it is useful to store multiple geometries (for example, several points or several polygons) in a single feature. \n",
    "\n",
    "A practical example would be a country that is composed of several islands. In such case, all these polygons share the same attributes on the country-level and it might be reasonable to store that country as geometry collection that contains all the polygons. The attribute table would then contain one row of information with country-level attributes, and the geometry related to those attributes would represent several polygon.\n",
    "\n",
    "In Shapely, collections of \n",
    "- points are implemented by using a MultiPoint -object, \n",
    "- collections of curves by using a MultiLineString -object, and \n",
    "- collections of surfaces by a MultiPolygon -object."
   ]
  },
  {
   "cell_type": "code",
   "execution_count": null,
   "metadata": {},
   "outputs": [],
   "source": [
    "# Import constructors for creating geometry collections\n",
    "from shapely.geometry import MultiPoint, MultiLineString, MultiPolygon"
   ]
  },
  {
   "cell_type": "code",
   "execution_count": null,
   "metadata": {},
   "outputs": [],
   "source": [
    "# Create a MultiPoint object of our points 1,2 and 3\n",
    "multi_point = MultiPoint([point1, point2, point3])\n",
    "\n",
    "# It is also possible to pass coordinate tuples inside\n",
    "multi_point2 = MultiPoint([(2.2, 4.2), (7.2, -25.1), (9.26, -2.456)])\n",
    "\n",
    "# We can also create a MultiLineString with two lines\n",
    "line1 = LineString([point1, point2])\n",
    "line2 = LineString([point2, point3])\n",
    "multi_line = MultiLineString([line1, line2])\n",
    "\n",
    "# Print object definitions\n",
    "print(multi_point)\n",
    "print(multi_line)"
   ]
  },
  {
   "cell_type": "code",
   "execution_count": null,
   "metadata": {},
   "outputs": [],
   "source": [
    "multi_point"
   ]
  },
  {
   "cell_type": "code",
   "execution_count": null,
   "metadata": {},
   "outputs": [],
   "source": [
    "multi_line"
   ]
  },
  {
   "cell_type": "code",
   "execution_count": null,
   "metadata": {},
   "outputs": [],
   "source": []
  },
  {
   "cell_type": "markdown",
   "metadata": {},
   "source": [
    "## Real Working Example\n",
    "### First work on geopandas\n",
    "- Digital Divide Data Dataset - \n",
    "- Nairobi parcels"
   ]
  },
  {
   "cell_type": "code",
   "execution_count": null,
   "metadata": {},
   "outputs": [],
   "source": []
  },
  {
   "cell_type": "code",
   "execution_count": null,
   "metadata": {},
   "outputs": [],
   "source": []
  }
 ],
 "metadata": {
  "kernelspec": {
   "display_name": "Python 3",
   "language": "python",
   "name": "python3"
  },
  "language_info": {
   "codemirror_mode": {
    "name": "ipython",
    "version": 3
   },
   "file_extension": ".py",
   "mimetype": "text/x-python",
   "name": "python",
   "nbconvert_exporter": "python",
   "pygments_lexer": "ipython3",
   "version": "3.7.3"
  }
 },
 "nbformat": 4,
 "nbformat_minor": 2
}
