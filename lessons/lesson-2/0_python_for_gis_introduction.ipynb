{
 "cells": [
  {
   "cell_type": "code",
   "execution_count": 109,
   "metadata": {},
   "outputs": [],
   "source": [
    "from shapely.geometry import Polygon, Point, shape, MultiPolygon, mapping\n",
    "from geojson import Feature, Point, FeatureCollection\n",
    "from folium.plugins import MarkerCluster\n",
    "from geo.Geoserver import Geoserver\n",
    "from geopandas.tools import sjoin\n",
    "import matplotlib.pyplot as plt\n",
    "from folium import IFrame\n",
    "import geopandas as gpd\n",
    "import pandas as pd\n",
    "# import pysal as ps\n",
    "%matplotlib inline\n",
    "import psycopg2\n",
    "import requests\n",
    "import shapely\n",
    "import geojson\n",
    "import json\n",
    "import topojson as tp\n",
    "import folium\n",
    "import pprint\n",
    "import fiona\n",
    "import os\n",
    "\n",
    "\n",
    "import shapely.wkt\n",
    "import unicodedata\n",
    "import osgeo.ogr\n",
    "# from pysal import mapping as maps"
   ]
  },
  {
   "cell_type": "code",
   "execution_count": 96,
   "metadata": {},
   "outputs": [
    {
     "data": {
      "text/html": [
       "<style>\n",
       "h1 {\n",
       "  border: 1.5px solid #333;\n",
       "  padding: 8px 12px;\n",
       "  background-image: linear-gradient(180deg, #fff, rgb(160, 147, 147));\n",
       "  position: static;\n",
       "}\n",
       "\n",
       "h2 {\n",
       "/*  border: 1.5px solid #333;*/\n",
       "/*  padding: 8px 12px;*/\n",
       "  color:#50bdb3;\n",
       "/*  background-image: linear-gradient(180deg, #fff, rgb(160, 147, 147));*/\n",
       "  position: static;\n",
       "}\n",
       "\n",
       "\n",
       "</style>"
      ],
      "text/plain": [
       "<IPython.core.display.HTML object>"
      ]
     },
     "execution_count": 96,
     "metadata": {},
     "output_type": "execute_result"
    }
   ],
   "source": [
    "# Styling notebook\n",
    "from IPython.core.display import HTML\n",
    "def css_styling():\n",
    "    styles = open(\"custom.css\", \"r\").read()\n",
    "    return HTML(styles)\n",
    "css_styling()"
   ]
  },
  {
   "cell_type": "markdown",
   "metadata": {},
   "source": [
    "# What is Python for GIS"
   ]
  },
  {
   "cell_type": "code",
   "execution_count": null,
   "metadata": {},
   "outputs": [],
   "source": []
  },
  {
   "cell_type": "markdown",
   "metadata": {},
   "source": [
    "\n",
    "\n",
    "Python for GIS refers to the use of the Python programming language in Geographic Information Systems (GIS) applications. \n",
    "GIS is a field that deals with the collection, analysis, and management of geospatial data, which can be represented in the \n",
    "form of maps, satellite imagery, aerial photographs, and other data sources.\n",
    "\n",
    "\n",
    "Python is a popular language for GIS because it offers a range of libraries and tools that are specifically designed for \n",
    "\n",
    "working with geospatial data. Some of the most commonly used Python libraries for GIS include:\n",
    "\n",
    "## GeoPandas: \n",
    "    - A library that extends the Pandas library to include support for geospatial data, making it easy to work with vector data such as points, lines, and polygons.\n",
    "\n",
    "## Shapely:\n",
    "    - A library for working with 2D geometry objects, such as points, lines, and polygons.\n",
    "\n",
    "## Fiona: \n",
    "    - A library for reading and writing geospatial data in various formats, including Shapefiles and GeoJSON.\n",
    "\n",
    "## PyProj: \n",
    "    - A library for performing coordinate system transformations, which is an essential task in GIS.\n",
    "\n",
    "## GDAL: \n",
    "    - A library for working with raster data, such as satellite imagery and digital elevation models."
   ]
  },
  {
   "cell_type": "code",
   "execution_count": null,
   "metadata": {},
   "outputs": [],
   "source": []
  },
  {
   "cell_type": "markdown",
   "metadata": {},
   "source": [
    "# Importance of having this Skill"
   ]
  },
  {
   "cell_type": "markdown",
   "metadata": {},
   "source": [
    "\n",
    "Learning Python for GIS is becoming increasingly important due to the growing demand for professionals who can work with geospatial data in various industries, such as urban planning, agriculture, natural resource management, disaster management, and many others. Here are some reasons why learning Python is essential for GIS:\n",
    "\n",
    "## Data processing and analysis: \n",
    "    - Python offers a wide range of libraries and tools that make it easy to process, manipulate and analyze geospatial data. This includes performing calculations, creating and managing databases, and automating workflows.\n",
    "\n",
    "## Visualization: \n",
    "    - Python offers powerful libraries such as Matplotlib, Seaborn, and Plotly that enable data visualization, which is critical for communicating insights from geospatial data to stakeholders.\n",
    "\n",
    "## Integration with other tools: \n",
    "    - Python integrates well with other software and tools, such as QGIS, ArcGIS, and Google Earth Engine, which are widely used in GIS applications. This allows for seamless workflows and data exchange.\n",
    "\n",
    "## Flexibility and scalability: \n",
    "    - Python is a versatile language that can be used to build small-scale scripts or large-scale applications for managing geospatial data, making it suitable for both novice and advanced users.\n",
    "\n",
    "## Community support:\n",
    "    - Python has a large and active community of developers who contribute to libraries, tools, and online resources. This means that users can access a wealth of knowledge and resources to support their work in GIS.\n",
    "\n",
    "Overall, learning Python for GIS is an essential skill for anyone who wants to work with geospatial data in a professional context, as it provides a powerful toolset for data processing, analysis, and visualization."
   ]
  },
  {
   "cell_type": "code",
   "execution_count": null,
   "metadata": {},
   "outputs": [],
   "source": []
  },
  {
   "cell_type": "markdown",
   "metadata": {},
   "source": [
    "# COURSE OUTLINE"
   ]
  },
  {
   "cell_type": "markdown",
   "metadata": {},
   "source": [
    "# Introduction to Python and GIS\n",
    "\n",
    "- Introduction to Python and its applications in GIS\n",
    "- Installing Python and relevant libraries\n",
    "- Basic Python syntax, data types, and control structures\n",
    "- Reading and writing data using Python\n",
    "-  Introduction to GIS concepts and data types\n",
    "\n",
    "# Working with Geospatial Data in Python\n",
    "\n",
    "- Introduction to Geospatial Data formats (Vector and Raster data)\n",
    "- Reading and writing vector data using Geopandas and Fiona\n",
    "- Reading and writing raster data using GDAL\n",
    "- Geospatial data processing and analysis using Python\n",
    "- Visualization of geospatial data using Matplotlib, Seaborn, and Plotly\n",
    "\n",
    "# Advanced GIS Applications with Python\n",
    "### Advanced Python Programming\n",
    "#### Programming Paradigm\n",
    "     - Procedural Programming\n",
    "     - Functional Programming\n",
    "     - Object Oriented Programming (OOP)\n",
    "         - Classes\n",
    "         - Class methods\n",
    "#### Python Fundamentals\n",
    "    - Advanced datatypes and data types manipulations\n",
    "    - list comprehensions\n",
    "#### Raster manipulation with python\n",
    "    - clipping/masking raster datasets\n",
    "    - supervised classification\n",
    "    \n",
    "####  Coordinate reference systems and projections\n",
    "\n",
    "#### Visualization or vector and raster datsets in python\n",
    "    - Folium\n",
    "    - matplotlib\n",
    "    - LeafMap\n",
    "    - GeeMap\n",
    "    - Greppo\n",
    "    \n",
    "#### Geospatial analysis and modeling using Python libraries such as PySAL and Rasterio\n",
    "#### Integrating Python with GIS software such as \n",
    "    - QGIS and ArcGIS\n",
    "    \n",
    "#### Web mapping using Python libraries such as \n",
    "    - Folium\n",
    "    - django-leaflet\n",
    "    - django-geojson\n",
    "#### Working with remote sensing data and machine learning for image analysis\n",
    "#### web GIS development using Flask or Django/Geodjango\n",
    "    - Design of Spatial Forms\n",
    "    - Web based Digitization and Editing\n",
    "    - User Authentication and Data Security(Geofencing)\n",
    "#### Advanced data Sorting and Filtering using REST_API\n",
    "    - DRF\n",
    "    - FastApi\n",
    "#### Integration with Client Web Mapping JavaScript Libraries\n",
    "    - Leaflet\n",
    "    - Openlayers\n",
    "    - Mapbox\n",
    "    - Google Maps\n",
    "    \n",
    "#### Web Based Map Printing - Download web Map in PDF\n",
    "    \n",
    "#### Geocoding\n",
    "#### Integration with Database\n",
    "    - PostgreSQL/PostGIS \n",
    "    - creating Views\n",
    "    - creating indexes\n",
    "    \n",
    "#### Integrating with Geoserver\n",
    "      - Layer Stylings\n",
    "      - Scale based Layer Styling\n",
    "      - Layer security\n",
    "      - Layer caching and creating Custom OSM\n",
    "      - Data Security(Geofencing)\n",
    "      - User Roles and Authentication\n",
    "      - Automated Shapefile upload from web to Geoserver\n",
    "  \n",
    "#### Integrating with Google Earth Engine(JavaScript and Python API)\n",
    "        - Calculating spectral Indices\n",
    "            - NDVI - Normalized Difference Vegetation Index\n",
    "            - SAVI - Soil Adjusted Vegetation Index \n",
    "            - EVI - Enhanced Vegetation Index\n",
    "  \n",
    "\n",
    "# Project work\n",
    "## Design and implementation of a small-scale GIS project using Python\n",
    "    - Design an Authentication System That shows Registered users on a web map\n",
    "    - Group projects involving geospatial data analysis and visualization\n",
    "    - Advanced projects such as remote sensing image classification or network analysis\n",
    "\n",
    "\n"
   ]
  },
  {
   "cell_type": "code",
   "execution_count": null,
   "metadata": {},
   "outputs": [],
   "source": []
  },
  {
   "cell_type": "code",
   "execution_count": null,
   "metadata": {},
   "outputs": [],
   "source": []
  },
  {
   "cell_type": "markdown",
   "metadata": {},
   "source": [
    "# Introduction to Geospatial Data formats (Vector and Raster data)"
   ]
  },
  {
   "cell_type": "markdown",
   "metadata": {},
   "source": [
    "## Vector Data "
   ]
  },
  {
   "cell_type": "markdown",
   "metadata": {},
   "source": [
    "Vector data is a type of geospatial data used in GIS that represents geographic features as points, lines, and polygons. \n",
    "These features are defined by their geometric properties such as location, size, and shape, as well as their attributes \n",
    "such as name, population, or elevation.\n",
    "\n",
    "Vector data is composed of two basic elements: \n",
    "- Points and their connecting lines, and \n",
    "- Areas bounded by closed lines, or polygons.\n",
    "\n",
    "Points represent features with no area, such as a city or a landmark, while lines represent features with a linear extent, such as a river or a road. \n",
    "\n",
    "Polygons represent features with an area, such as a country or a lake.\n",
    "\n",
    "Vector data is often used to represent discrete objects or features such as buildings, roads, and administrative boundaries. It is stored as a set of coordinates and attributes, with each point, line, or polygon having a unique identifier and a set of attributes that describe its properties.\n",
    "\n",
    "Some common formats for storing vector data include \n",
    "- shapefiles,\n",
    "- GeoJSON, \n",
    "- KML, and \n",
    "- ESRI File Geodatabase. \n",
    "\n",
    "Vector data can be processed, analyzed, and visualized using GIS software and Python libraries such as Geopandas, Fiona, and Shapely.\n",
    "\n",
    "Overall, vector data is a fundamental data type in GIS and is widely used in various applications, such as urban planning, natural resource management, and disaster response.\n",
    "\n"
   ]
  },
  {
   "cell_type": "markdown",
   "metadata": {},
   "source": [
    "# Vector Data I/O in Python"
   ]
  },
  {
   "cell_type": "markdown",
   "metadata": {},
   "source": [
    "There are various different file formats and data sources for geographic information. \n",
    "I will show some typical examples how to read (and write) data from different sources"
   ]
  },
  {
   "cell_type": "markdown",
   "metadata": {},
   "source": [
    "### Vector datasets consist of points, lines, and polygons that are defined by their geometries and attributes.\n",
    "#### Python provides a powerful and flexible platform for working with vector datasets in GIS. Its ability to manipulate, analyze, and visualize geospatial data makes it an ideal tool for a wide range of GIS applications.\n",
    "\n",
    "\n",
    "Python has several libraries, such as Geopandas, Fiona, and Shapely, that allow for the reading, writing, and manipulation of vector datasets.\n",
    "\n",
    "\n",
    "Geopandas\n",
    "- a popular Python library that provides a high-level interface for working with vector datasets in Python. It is built on top of Pandas and provides functionality for reading, writing, and manipulating vector datasets in various formats, including shapefiles, GeoJSON, and KML.\n",
    "\n",
    "Fiona\n",
    "- a Python library that provides lower-level access to vector datasets in various formats, including shapefiles and GeoJSON. It provides a simple and efficient interface for reading and writing vector datasets, and it can be used in combination with other Python libraries for data manipulation and analysis.\n",
    "\n",
    "Shapely\n",
    "- a Python library that provides advanced geometry processing capabilities for vector datasets. It can be used to perform various geometric operations, such as buffer analysis, spatial intersections, and distance calculations, on vector datasets.\n",
    "\n",
    "Python also provides functionality for visualizing vector datasets using various plotting libraries, such as \n",
    "Matplotlib, Seaborn, and Plotly. \n",
    "These libraries allow for the creation of interactive and informative maps that can be used for data exploration and communication.\n",
    "\n",
    "\n",
    "\n",
    "\n"
   ]
  },
  {
   "cell_type": "markdown",
   "metadata": {},
   "source": [
    "# Using Fiona to read spatial data\n",
    "\n",
    "- Fiona streams simple feature data to and from GIS formats like GeoPackage and Shapefile.\n",
    "\n",
    "- Fiona can read and write real-world data using multi-layered GIS formats, zipped and in-memory virtual file systems, from files on your hard drive or in cloud storage\n",
    "\n",
    "- Fiona depends on GDAL but is different from GDAL's own bindings. Fiona is designed to be highly productive and \n",
    "to make it easy to write code which is easy to read."
   ]
  },
  {
   "cell_type": "markdown",
   "metadata": {},
   "source": [
    "# Useful links\n",
    "- https://github.com/Toblerity/Fiona/tree/master/examples\n",
    "- https://gist.github.com/tmcw/5078699\n",
    "- https://github.com/Kevin-Sambuli/AutomateGISnotebooks\n",
    "- https://macwright.com/2012/10/31/gis-with-python-shapely-fiona.html\n",
    "- https://youtu.be/fxUagyDxDGs\n",
    "- https://skelouse.github.io/faster_mapping_with_folium"
   ]
  },
  {
   "cell_type": "code",
   "execution_count": null,
   "metadata": {},
   "outputs": [],
   "source": [
    "# See all available drivers supported by GDAL\n",
    "import fiona"
   ]
  },
  {
   "cell_type": "code",
   "execution_count": null,
   "metadata": {},
   "outputs": [],
   "source": [
    "# help(fiona)"
   ]
  },
  {
   "cell_type": "markdown",
   "metadata": {},
   "source": [
    "# File formats\n",
    "## check which file formats are supported by fiona"
   ]
  },
  {
   "cell_type": "code",
   "execution_count": 107,
   "metadata": {},
   "outputs": [
    {
     "data": {
      "text/plain": [
       "{'AeronavFAA': 'r',\n",
       " 'ARCGEN': 'r',\n",
       " 'BNA': 'raw',\n",
       " 'DXF': 'raw',\n",
       " 'CSV': 'raw',\n",
       " 'OpenFileGDB': 'r',\n",
       " 'ESRIJSON': 'r',\n",
       " 'ESRI Shapefile': 'raw',\n",
       " 'GeoJSON': 'rw',\n",
       " 'GeoJSONSeq': 'rw',\n",
       " 'GPKG': 'rw',\n",
       " 'GML': 'raw',\n",
       " 'GPX': 'raw',\n",
       " 'GPSTrackMaker': 'raw',\n",
       " 'Idrisi': 'r',\n",
       " 'MapInfo File': 'raw',\n",
       " 'DGN': 'raw',\n",
       " 'PCIDSK': 'r',\n",
       " 'S57': 'r',\n",
       " 'SEGY': 'r',\n",
       " 'SUA': 'r',\n",
       " 'TopoJSON': 'r'}"
      ]
     },
     "execution_count": 107,
     "metadata": {},
     "output_type": "execute_result"
    }
   ],
   "source": [
    "# check which file formats are supported by fiona\n",
    "fiona.supported_drivers"
   ]
  },
  {
   "cell_type": "code",
   "execution_count": 108,
   "metadata": {},
   "outputs": [
    {
     "data": {
      "text/plain": [
       "{'AeronavFAA': 'r',\n",
       " 'ARCGEN': 'r',\n",
       " 'BNA': 'raw',\n",
       " 'DXF': 'raw',\n",
       " 'CSV': 'raw',\n",
       " 'OpenFileGDB': 'r',\n",
       " 'ESRIJSON': 'r',\n",
       " 'ESRI Shapefile': 'raw',\n",
       " 'GeoJSON': 'rw',\n",
       " 'GeoJSONSeq': 'rw',\n",
       " 'GPKG': 'rw',\n",
       " 'GML': 'raw',\n",
       " 'GPX': 'raw',\n",
       " 'GPSTrackMaker': 'raw',\n",
       " 'Idrisi': 'r',\n",
       " 'MapInfo File': 'raw',\n",
       " 'DGN': 'raw',\n",
       " 'PCIDSK': 'r',\n",
       " 'S57': 'r',\n",
       " 'SEGY': 'r',\n",
       " 'SUA': 'r',\n",
       " 'TopoJSON': 'r'}"
      ]
     },
     "execution_count": 108,
     "metadata": {},
     "output_type": "execute_result"
    }
   ],
   "source": [
    "# Check supported format drivers\n",
    "gpd.io.file.fiona.drvsupport.supported_drivers\n",
    "\n",
    "# Same as:\n",
    "# fiona.supported_drivers"
   ]
  },
  {
   "cell_type": "code",
   "execution_count": 100,
   "metadata": {},
   "outputs": [],
   "source": [
    "# Open a file for reading. We'll call this the \"source.\"\n",
    "\n",
    "data_dir = r\" C:\\Users\\DELL\\Desktop\\jupyter\\AutomateGISnotebooks\\lessons\\data\"\n",
    "\n",
    "try:\n",
    "    with fiona.open('../data/plots2.shp') as src: \n",
    "        pprint.pprint(src[1])\n",
    "        \n",
    "        assert True is False\n",
    "except:\n",
    "    print(src.closed)\n",
    "#     raise\n",
    "\n"
   ]
  },
  {
   "cell_type": "markdown",
   "metadata": {},
   "source": []
  },
  {
   "cell_type": "markdown",
   "metadata": {},
   "source": [
    "##  Getting the driver used to open the file"
   ]
  },
  {
   "cell_type": "code",
   "execution_count": 115,
   "metadata": {},
   "outputs": [
    {
     "name": "stdout",
     "output_type": "stream",
     "text": [
      "Shapefile---- ESRI Shapefile\n",
      "Geojson---- GeoJSON\n"
     ]
    }
   ],
   "source": [
    "#  getting the driver used to open the file\n",
    "\n",
    "# opening up a shapefile\n",
    "data= fiona.open('../data/plots2.shp')\n",
    "\n",
    "# opening up geojson\n",
    "geojson = fiona.open('../data/myfile.geojson')\n",
    "\n",
    "\n",
    "print('Shapefile----', data.driver)\n",
    "print('Geojson----', geojson.driver)"
   ]
  },
  {
   "cell_type": "code",
   "execution_count": 116,
   "metadata": {},
   "outputs": [
    {
     "data": {
      "text/plain": [
       "{'init': 'epsg:4326'}"
      ]
     },
     "execution_count": 116,
     "metadata": {},
     "output_type": "execute_result"
    }
   ],
   "source": [
    "# getting the epsg code of the opened shapefile\n",
    "data.crs"
   ]
  },
  {
   "cell_type": "markdown",
   "metadata": {},
   "source": [
    "# Here's the complete code for adding a new property to a shapefile using Fiona:"
   ]
  },
  {
   "cell_type": "markdown",
   "metadata": {},
   "source": [
    "import fiona\n",
    "\n",
    "## Open the input shapefile\n",
    "\n",
    "with fiona.open('input_shapefile.shp', 'r') as input_file:\n",
    "\n",
    "    # Open the output shapefile\n",
    "    \n",
    "    \"\"\"\n",
    "    specify the same CRS and schema as the input shapefile. You can use input_file.meta to get the CRS and \n",
    "    schema of the input shapefile. \"\"\"\n",
    "    \n",
    "    with fiona.open('output_shapefile.shp', 'w', **input_file.meta) as output_file:\n",
    "    \n",
    "        # Iterate over the features in the input shapefile\n",
    "        for input_feature in input_file:\n",
    "        \n",
    "            # Create a new feature with additional properties\n",
    "            output_feature = {\n",
    "                'type': 'Feature',\n",
    "                'geometry': input_feature['geometry'],\n",
    "                'properties': {\n",
    "                    'existing_property': input_feature['properties']['existing_property'],\n",
    "                    'new_property': 'new_value'\n",
    "                }\n",
    "            }\n",
    "            \n",
    "            # Write the new feature to the output shapefile\n",
    "            output_file.write(output_feature)\n",
    "            \n",
    "            \n",
    "## Close the input and output shapefiles using            \n",
    "input_file.close()\n",
    "output_file.close()"
   ]
  },
  {
   "cell_type": "code",
   "execution_count": null,
   "metadata": {},
   "outputs": [],
   "source": []
  },
  {
   "cell_type": "code",
   "execution_count": 87,
   "metadata": {},
   "outputs": [],
   "source": [
    "from fiona.crs import to_string, from_string, from_epsg\n",
    "\n",
    "# print(to_string(data.crs))\n",
    "\n",
    "# print(from_epsg(3857))"
   ]
  },
  {
   "cell_type": "code",
   "execution_count": 86,
   "metadata": {},
   "outputs": [],
   "source": [
    "\n",
    "with fiona.open('../data/plots2.shp', 'r') as file:\n",
    "    for feature in file:\n",
    "        # access the feature properties here\n",
    "        print(feature['properties'])\n",
    "        \n",
    "        # access the geometry of the feature here\n",
    "        print(feature['geometry'])"
   ]
  },
  {
   "cell_type": "markdown",
   "metadata": {},
   "source": [
    "## Getting bounds of the opened shapefile\n",
    "\n",
    "Bounds, also known as bounding box, are the minimum and maximum coordinates that define the extent of a spatial dataset. It is usually represented as a rectangular box that encloses the geographic area covered by the dataset. The bounding box is defined by four values: the minimum longitude, the minimum latitude, the maximum longitude, and the maximum latitude.\n",
    "\n",
    "Bounds are an important attribute of spatial datasets because they allow you to quickly determine the geographic extent of a dataset without having to load the entire dataset into memory. They are commonly used in GIS applications to perform operations such as clipping, subsetting, and filtering data based on geographic extent."
   ]
  },
  {
   "cell_type": "code",
   "execution_count": 104,
   "metadata": {},
   "outputs": [
    {
     "data": {
      "text/plain": [
       "(36.684704988961315,\n",
       " -1.3695956160940446,\n",
       " 37.005329874043724,\n",
       " -1.1996492664037388)"
      ]
     },
     "execution_count": 104,
     "metadata": {},
     "output_type": "execute_result"
    }
   ],
   "source": [
    "data.bounds"
   ]
  },
  {
   "cell_type": "code",
   "execution_count": 117,
   "metadata": {},
   "outputs": [],
   "source": [
    "import pprint\n",
    "\n",
    "# help(pprint)"
   ]
  },
  {
   "cell_type": "code",
   "execution_count": 103,
   "metadata": {},
   "outputs": [
    {
     "name": "stdout",
     "output_type": "stream",
     "text": [
      "{'geometry': 'Polygon',\n",
      " 'properties': OrderedDict([('AreaH', 'float:24.15'),\n",
      "                            ('PerM', 'float:24.15'),\n",
      "                            ('PlotNo', 'int:18'),\n",
      "                            ('LRNumber', 'str:80')])}\n"
     ]
    }
   ],
   "source": [
    "#  Describe the schema using the pprint of the opened shapefile and check the columns and its data types\n",
    "pprint.pprint(data.schema)"
   ]
  },
  {
   "cell_type": "code",
   "execution_count": 118,
   "metadata": {},
   "outputs": [
    {
     "data": {
      "image/svg+xml": [
       "<svg xmlns=\"http://www.w3.org/2000/svg\" xmlns:xlink=\"http://www.w3.org/1999/xlink\" width=\"100.0\" height=\"100.0\" viewBox=\"35.0 -2.0 2.0 2.0\" preserveAspectRatio=\"xMinYMin meet\"><g transform=\"matrix(1,0,0,-1,0,-2.0)\"><circle cx=\"36.0\" cy=\"-1.0\" r=\"0.06\" stroke=\"#555555\" stroke-width=\"0.02\" fill=\"#66cc99\" opacity=\"0.6\" /></g></svg>"
      ],
      "text/plain": [
       "<shapely.geometry.point.Point at 0x2a8dc8a9cf8>"
      ]
     },
     "execution_count": 118,
     "metadata": {},
     "output_type": "execute_result"
    }
   ],
   "source": [
    "# create geometry object from a json or geojson\n",
    "\n",
    "# json.loads converts a normal json to python dictionary \n",
    "# json.dumps converts a python dictionary to json\n",
    "\n",
    "s = shape(json.loads('{\"type\": \"Point\", \"coordinates\": [36.0, -1.0]}'))\n",
    "s"
   ]
  },
  {
   "cell_type": "code",
   "execution_count": 119,
   "metadata": {},
   "outputs": [
    {
     "name": "stdout",
     "output_type": "stream",
     "text": [
      "<shapely.geometry.point.Point object at 0x000002A8DC8A9CF8>\n",
      "'POINT (36 -1)'\n",
      "(b'\\x01\\x01\\x00\\x00\\x00\\x00\\x00\\x00\\x00\\x00\\x00B@\\x00\\x00\\x00\\x00\\x00\\x00\\xf0'\n",
      " b'\\xbf')\n"
     ]
    }
   ],
   "source": [
    "# prints the type of object class you are working on\n",
    "pprint.pprint(s)\n",
    "\n",
    "# prints the type of object class you are working on converted to Well Known Text\n",
    "pprint.pprint(s.wkt)\n",
    "\n",
    "# prints the type of object class you are working on converted to Well Known Binary\n",
    "pprint.pprint(s.wkb)"
   ]
  },
  {
   "cell_type": "code",
   "execution_count": 121,
   "metadata": {},
   "outputs": [
    {
     "name": "stdout",
     "output_type": "stream",
     "text": [
      "{\"type\": \"Point\", \"coordinates\": [36.0, -1.0]}\n"
     ]
    }
   ],
   "source": [
    "# Writing the data as json format\n",
    "\n",
    "print(json.dumps(mapping(s)))"
   ]
  },
  {
   "cell_type": "markdown",
   "metadata": {},
   "source": [
    "# Turning Arbitrary Data into Geodata (csv, xlsx, json, xml)"
   ]
  },
  {
   "cell_type": "markdown",
   "metadata": {},
   "source": [
    "#### First: grab the documentation to Python’s CSV reader. It’s a good one, and pretty simple to use. Using one of the code examples on that page, you can make"
   ]
  },
  {
   "cell_type": "code",
   "execution_count": null,
   "metadata": {},
   "outputs": [],
   "source": []
  },
  {
   "cell_type": "code",
   "execution_count": 122,
   "metadata": {},
   "outputs": [],
   "source": [
    "import csv\n",
    "from shapely.geometry import Point, MultiPoint ,mapping, shape\n",
    "from fiona import collection"
   ]
  },
  {
   "cell_type": "code",
   "execution_count": 123,
   "metadata": {},
   "outputs": [
    {
     "name": "stdout",
     "output_type": "stream",
     "text": [
      "OrderedDict([('city', 'Nairobi'), ('lat', '-1.2864'), ('lng', '36.8172'), ('country', 'Kenya'), ('iso2', 'KE'), ('admin_name', 'Nairobi City'), ('capital', 'primary'), ('population', '5545000'), ('population_proper', '5545000')])\n",
      "OrderedDict([('city', 'Meru'), ('lat', '0.05'), ('lng', '37.65'), ('country', 'Kenya'), ('iso2', 'KE'), ('admin_name', 'Meru'), ('capital', 'admin'), ('population', '1833000'), ('population_proper', '1833000')])\n",
      "OrderedDict([('city', 'Mombasa'), ('lat', '-4.05'), ('lng', '39.6667'), ('country', 'Kenya'), ('iso2', 'KE'), ('admin_name', 'Mombasa'), ('capital', 'admin'), ('population', '1200000'), ('population_proper', '1200000')])\n",
      "OrderedDict([('city', 'Kisumu'), ('lat', '-0.1'), ('lng', '34.75'), ('country', 'Kenya'), ('iso2', 'KE'), ('admin_name', 'Kisumu'), ('capital', 'admin'), ('population', '409928'), ('population_proper', '409928')])\n",
      "OrderedDict([('city', 'Nakuru'), ('lat', '-0.2833'), ('lng', '36.0667'), ('country', 'Kenya'), ('iso2', 'KE'), ('admin_name', 'Nakuru'), ('capital', 'admin'), ('population', '307990'), ('population_proper', '307990')])\n",
      "OrderedDict([('city', 'Eldoret'), ('lat', '0.5167'), ('lng', '35.2833'), ('country', 'Kenya'), ('iso2', 'KE'), ('admin_name', 'Uasin Gishu'), ('capital', 'admin'), ('population', '193830'), ('population_proper', '193830')])\n",
      "OrderedDict([('city', 'Machakos'), ('lat', '-1.5167'), ('lng', '37.2667'), ('country', 'Kenya'), ('iso2', 'KE'), ('admin_name', 'Machakos'), ('capital', 'admin'), ('population', '114109'), ('population_proper', '114109')])\n",
      "OrderedDict([('city', 'Kisii'), ('lat', '-0.6698'), ('lng', '34.7675'), ('country', 'Kenya'), ('iso2', 'KE'), ('admin_name', 'Kisii'), ('capital', 'admin'), ('population', '112417'), ('population_proper', '112417')])\n",
      "OrderedDict([('city', 'Mumias'), ('lat', '0.3333'), ('lng', '34.4833'), ('country', 'Kenya'), ('iso2', 'KE'), ('admin_name', 'Kakamega'), ('capital', ''), ('population', '99987'), ('population_proper', '99987')])\n",
      "OrderedDict([('city', 'Thika'), ('lat', '-1.0396'), ('lng', '37.09'), ('country', 'Kenya'), ('iso2', 'KE'), ('admin_name', 'Kiambu'), ('capital', ''), ('population', '99322'), ('population_proper', '87821')])\n",
      "OrderedDict([('city', 'Nyeri'), ('lat', '-0.4167'), ('lng', '36.95'), ('country', 'Kenya'), ('iso2', 'KE'), ('admin_name', 'Nyeri'), ('capital', 'admin'), ('population', '98908'), ('population_proper', '98908')])\n",
      "OrderedDict([('city', 'Malindi'), ('lat', '-3.21'), ('lng', '40.1'), ('country', 'Kenya'), ('iso2', 'KE'), ('admin_name', 'Kilifi'), ('capital', ''), ('population', '94016'), ('population_proper', '68304')])\n",
      "OrderedDict([('city', 'Kakamega'), ('lat', '0.2833'), ('lng', '34.75'), ('country', 'Kenya'), ('iso2', 'KE'), ('admin_name', 'Kakamega'), ('capital', 'admin'), ('population', '91778'), ('population_proper', '91778')])\n",
      "OrderedDict([('city', 'Kendu Bay'), ('lat', '-0.3596'), ('lng', '34.64'), ('country', 'Kenya'), ('iso2', 'KE'), ('admin_name', 'Homa Bay'), ('capital', ''), ('population', '91248'), ('population_proper', '91248')])\n",
      "OrderedDict([('city', 'Lodwar'), ('lat', '3.1167'), ('lng', '35.6'), ('country', 'Kenya'), ('iso2', 'KE'), ('admin_name', 'Turkana'), ('capital', 'admin'), ('population', '82970'), ('population_proper', '82970')])\n",
      "OrderedDict([('city', 'Athi River'), ('lat', '-1.45'), ('lng', '36.9833'), ('country', 'Kenya'), ('iso2', 'KE'), ('admin_name', 'Machakos'), ('capital', ''), ('population', '81302'), ('population_proper', '81302')])\n",
      "OrderedDict([('city', 'Kilifi'), ('lat', '-3.6333'), ('lng', '39.85'), ('country', 'Kenya'), ('iso2', 'KE'), ('admin_name', 'Kilifi'), ('capital', ''), ('population', '80339'), ('population_proper', '46118')])\n",
      "OrderedDict([('city', 'Sotik'), ('lat', '-0.6796'), ('lng', '35.12'), ('country', 'Kenya'), ('iso2', 'KE'), ('admin_name', 'Bomet'), ('capital', ''), ('population', '71285'), ('population_proper', '2600')])\n",
      "OrderedDict([('city', 'Garissa'), ('lat', '-0.4569'), ('lng', '39.6583'), ('country', 'Kenya'), ('iso2', 'KE'), ('admin_name', 'Garissa'), ('capital', 'admin'), ('population', '65881'), ('population_proper', '65881')])\n",
      "OrderedDict([('city', 'Kitale'), ('lat', '1.0167'), ('lng', '35'), ('country', 'Kenya'), ('iso2', 'KE'), ('admin_name', 'Trans Nzoia'), ('capital', 'admin'), ('population', '63245'), ('population_proper', '63245')])\n",
      "OrderedDict([('city', 'Bungoma'), ('lat', '0.5666'), ('lng', '34.5666'), ('country', 'Kenya'), ('iso2', 'KE'), ('admin_name', 'Bungoma'), ('capital', 'admin'), ('population', '55857'), ('population_proper', '55857')])\n",
      "OrderedDict([('city', 'Isiolo'), ('lat', '0.35'), ('lng', '37.5833'), ('country', 'Kenya'), ('iso2', 'KE'), ('admin_name', 'Isiolo'), ('capital', 'admin'), ('population', '45989'), ('population_proper', '45989')])\n",
      "OrderedDict([('city', 'Wajir'), ('lat', '1.75'), ('lng', '40.0667'), ('country', 'Kenya'), ('iso2', 'KE'), ('admin_name', 'Wajir'), ('capital', 'admin'), ('population', '45771'), ('population_proper', '34709')])\n",
      "OrderedDict([('city', 'Embu'), ('lat', '-0.5333'), ('lng', '37.45'), ('country', 'Kenya'), ('iso2', 'KE'), ('admin_name', 'Embu'), ('capital', 'admin'), ('population', '41092'), ('population_proper', '41092')])\n",
      "OrderedDict([('city', 'Voi'), ('lat', '-3.3696'), ('lng', '38.57'), ('country', 'Kenya'), ('iso2', 'KE'), ('admin_name', 'Taita/Taveta'), ('capital', ''), ('population', '36487'), ('population_proper', '19624')])\n",
      "OrderedDict([('city', 'Homa Bay'), ('lat', '-0.5167'), ('lng', '34.45'), ('country', 'Kenya'), ('iso2', 'KE'), ('admin_name', 'Homa Bay'), ('capital', 'admin'), ('population', '32174'), ('population_proper', '32174')])\n",
      "OrderedDict([('city', 'Nanyuki'), ('lat', '0.0167'), ('lng', '37.0667'), ('country', 'Kenya'), ('iso2', 'KE'), ('admin_name', 'Laikipia'), ('capital', ''), ('population', '31577'), ('population_proper', '31577')])\n",
      "OrderedDict([('city', 'Busia'), ('lat', '0.4608'), ('lng', '34.1108'), ('country', 'Kenya'), ('iso2', 'KE'), ('admin_name', 'Busia'), ('capital', 'admin'), ('population', '30777'), ('population_proper', '30777')])\n",
      "OrderedDict([('city', 'Mandera'), ('lat', '3.9167'), ('lng', '41.8333'), ('country', 'Kenya'), ('iso2', 'KE'), ('admin_name', 'Mandera'), ('capital', 'admin'), ('population', '30433'), ('population_proper', '30433')])\n",
      "OrderedDict([('city', 'Kericho'), ('lat', '-0.3692'), ('lng', '35.2839'), ('country', 'Kenya'), ('iso2', 'KE'), ('admin_name', 'Kericho'), ('capital', 'admin'), ('population', '30023'), ('population_proper', '30023')])\n",
      "OrderedDict([('city', 'Kitui'), ('lat', '-1.3667'), ('lng', '38.0167'), ('country', 'Kenya'), ('iso2', 'KE'), ('admin_name', 'Kitui'), ('capital', 'admin'), ('population', '29062'), ('population_proper', '29062')])\n",
      "OrderedDict([('city', 'Maralal'), ('lat', '1.1'), ('lng', '36.7'), ('country', 'Kenya'), ('iso2', 'KE'), ('admin_name', 'Samburu'), ('capital', 'admin'), ('population', '20841'), ('population_proper', '20841')])\n",
      "OrderedDict([('city', 'Lamu'), ('lat', '-2.2686'), ('lng', '40.9003'), ('country', 'Kenya'), ('iso2', 'KE'), ('admin_name', 'Lamu'), ('capital', 'admin'), ('population', '18382'), ('population_proper', '18382')])\n",
      "OrderedDict([('city', 'Kapsabet'), ('lat', '0.2'), ('lng', '35.1'), ('country', 'Kenya'), ('iso2', 'KE'), ('admin_name', 'Nandi'), ('capital', 'admin'), ('population', '17918'), ('population_proper', '17918')])\n",
      "OrderedDict([('city', 'Marsabit'), ('lat', '2.3333'), ('lng', '37.9833'), ('country', 'Kenya'), ('iso2', 'KE'), ('admin_name', 'Marsabit'), ('capital', 'admin'), ('population', '17127'), ('population_proper', '17127')])\n",
      "OrderedDict([('city', 'Hola'), ('lat', '-1.5'), ('lng', '40.03'), ('country', 'Kenya'), ('iso2', 'KE'), ('admin_name', 'Tana River'), ('capital', 'admin'), ('population', '6931'), ('population_proper', '6931')])\n",
      "OrderedDict([('city', 'Kiambu'), ('lat', '-1.1714'), ('lng', '36.8356'), ('country', 'Kenya'), ('iso2', 'KE'), ('admin_name', 'Kiambu'), ('capital', 'admin'), ('population', ''), ('population_proper', '')])\n",
      "OrderedDict([('city', 'Kabarnet'), ('lat', '0.4919'), ('lng', '35.743'), ('country', 'Kenya'), ('iso2', 'KE'), ('admin_name', 'Baringo'), ('capital', 'admin'), ('population', ''), ('population_proper', '')])\n",
      "OrderedDict([('city', 'Migori'), ('lat', '-1.0634'), ('lng', '34.4731'), ('country', 'Kenya'), ('iso2', 'KE'), ('admin_name', 'Migori'), ('capital', 'admin'), ('population', ''), ('population_proper', '')])\n",
      "OrderedDict([('city', 'Kerugoya'), ('lat', '-0.4989'), ('lng', '37.2803'), ('country', 'Kenya'), ('iso2', 'KE'), ('admin_name', 'Kirinyaga'), ('capital', 'admin'), ('population', ''), ('population_proper', '')])\n",
      "OrderedDict([('city', 'Iten'), ('lat', '0.6703'), ('lng', '35.5081'), ('country', 'Kenya'), ('iso2', 'KE'), ('admin_name', 'Elgeyo/Marakwet'), ('capital', 'admin'), ('population', ''), ('population_proper', '')])\n",
      "OrderedDict([('city', 'Nyamira'), ('lat', '-0.5633'), ('lng', '34.9358'), ('country', 'Kenya'), ('iso2', 'KE'), ('admin_name', 'Nyamira'), ('capital', 'admin'), ('population', ''), ('population_proper', '')])\n",
      "OrderedDict([('city', 'Murangâ€™a'), ('lat', '-0.721'), ('lng', '37.1526'), ('country', 'Kenya'), ('iso2', 'KE'), ('admin_name', 'Murangâ€™a'), ('capital', 'admin'), ('population', ''), ('population_proper', '')])\n",
      "OrderedDict([('city', 'Sotik Post'), ('lat', '-0.7813'), ('lng', '35.3416'), ('country', 'Kenya'), ('iso2', 'KE'), ('admin_name', 'Bomet'), ('capital', 'admin'), ('population', ''), ('population_proper', '')])\n",
      "OrderedDict([('city', 'Siaya'), ('lat', '0.0607'), ('lng', '34.2881'), ('country', 'Kenya'), ('iso2', 'KE'), ('admin_name', 'Siaya'), ('capital', 'admin'), ('population', ''), ('population_proper', '')])\n",
      "OrderedDict([('city', 'Kapenguria'), ('lat', '1.2389'), ('lng', '35.1119'), ('country', 'Kenya'), ('iso2', 'KE'), ('admin_name', 'West Pokot'), ('capital', 'admin'), ('population', ''), ('population_proper', '')])\n",
      "OrderedDict([('city', 'Wote'), ('lat', '-1.7808'), ('lng', '37.6288'), ('country', 'Kenya'), ('iso2', 'KE'), ('admin_name', 'Makueni'), ('capital', 'admin'), ('population', ''), ('population_proper', '')])\n",
      "OrderedDict([('city', 'Mwatate'), ('lat', '-3.505'), ('lng', '38.3772'), ('country', 'Kenya'), ('iso2', 'KE'), ('admin_name', 'Taita/Taveta'), ('capital', 'admin'), ('population', ''), ('population_proper', '')])\n",
      "OrderedDict([('city', 'Kajiado'), ('lat', '-1.85'), ('lng', '36.7833'), ('country', 'Kenya'), ('iso2', 'KE'), ('admin_name', 'Kajiado'), ('capital', 'admin'), ('population', ''), ('population_proper', '')])\n",
      "OrderedDict([('city', 'Ol Kalou'), ('lat', '-0.2643'), ('lng', '36.3788'), ('country', 'Kenya'), ('iso2', 'KE'), ('admin_name', 'Nyandarua'), ('capital', 'admin'), ('population', ''), ('population_proper', '')])\n",
      "OrderedDict([('city', 'Narok'), ('lat', '-1.0833'), ('lng', '35.8667'), ('country', 'Kenya'), ('iso2', 'KE'), ('admin_name', 'Narok'), ('capital', 'admin'), ('population', ''), ('population_proper', '')])\n",
      "OrderedDict([('city', 'Kwale'), ('lat', '-4.1737'), ('lng', '39.4521'), ('country', 'Kenya'), ('iso2', 'KE'), ('admin_name', 'Kwale'), ('capital', 'admin'), ('population', ''), ('population_proper', '')])\n",
      "OrderedDict([('city', 'Rumuruti'), ('lat', '0.2725'), ('lng', '36.5381'), ('country', 'Kenya'), ('iso2', 'KE'), ('admin_name', 'Laikipia'), ('capital', 'admin'), ('population', ''), ('population_proper', '')])\n"
     ]
    }
   ],
   "source": [
    "# Opening the csv using the csv module and reading each line a s row\n",
    "\n",
    "with open('../data/cities.csv', 'r') as f:\n",
    "    reader = csv.DictReader(f)\n",
    "    for row in reader:\n",
    "        print(row)"
   ]
  },
  {
   "cell_type": "code",
   "execution_count": null,
   "metadata": {},
   "outputs": [],
   "source": []
  },
  {
   "cell_type": "markdown",
   "metadata": {},
   "source": [
    "### Converting Point geometry from lat and long from the datasets"
   ]
  },
  {
   "cell_type": "code",
   "execution_count": 171,
   "metadata": {},
   "outputs": [
    {
     "data": {
      "image/svg+xml": [
       "<svg xmlns=\"http://www.w3.org/2000/svg\" xmlns:xlink=\"http://www.w3.org/1999/xlink\" width=\"100.0\" height=\"100.0\" viewBox=\"35.5381 -0.7275 2.0 2.0\" preserveAspectRatio=\"xMinYMin meet\"><g transform=\"matrix(1,0,0,-1,0,0.5449999999999999)\"><circle cx=\"36.5381\" cy=\"0.2725\" r=\"0.06\" stroke=\"#555555\" stroke-width=\"0.02\" fill=\"#66cc99\" opacity=\"0.6\" /></g></svg>"
      ],
      "text/plain": [
       "<shapely.geometry.point.Point at 0x2a8d1d96780>"
      ]
     },
     "execution_count": 171,
     "metadata": {},
     "output_type": "execute_result"
    }
   ],
   "source": [
    "# Converting Point geometry from lat and long from the datasets\n",
    "\n",
    "with open('../data/cities.csv', 'r') as f:\n",
    "    reader = csv.DictReader(f)\n",
    "    for row in reader:\n",
    "        point = Point(float(row['lng']), float(row['lat']))\n",
    "                                                   \n",
    "point # returns the last point from the list"
   ]
  },
  {
   "cell_type": "code",
   "execution_count": null,
   "metadata": {},
   "outputs": [],
   "source": []
  },
  {
   "cell_type": "markdown",
   "metadata": {},
   "source": [
    "### Okay, now to save those points. Let’s bring in Fiona, and save these points to a shapefile."
   ]
  },
  {
   "cell_type": "code",
   "execution_count": 172,
   "metadata": {},
   "outputs": [
    {
     "name": "stdout",
     "output_type": "stream",
     "text": [
      "Results folder exists already.\n"
     ]
    }
   ],
   "source": [
    "# Determine output directory\n",
    "output_folder = r\"C:\\Users\\DELL\\Desktop\\jupyter\\AutomateGISnotebooks\\lessons\\data\"\n",
    "\n",
    "# Create a new folder called 'Results' \n",
    "result_folder = os.path.join(output_folder, 'Results')\n",
    "\n",
    "# Check if the folder exists already\n",
    "if not os.path.exists(result_folder):\n",
    "    \n",
    "    print(\"Creating a folder for the results..\")\n",
    "    \n",
    "    # If it does not exist, create one\n",
    "    os.makedirs(result_folder)\n",
    "    \n",
    "else:\n",
    "    print(\"Results folder exists already.\")"
   ]
  },
  {
   "cell_type": "markdown",
   "metadata": {},
   "source": [
    "# Creating shapefile from the csv data\n",
    "### - First create a mapping of what attributes your shapefile should have\n",
    "### - Loop through the csv and create attributes and create the geometry"
   ]
  },
  {
   "cell_type": "code",
   "execution_count": 173,
   "metadata": {},
   "outputs": [],
   "source": [
    "\n",
    "schema = { 'geometry': 'Point', \n",
    "              'properties': { 'name': 'str', 'population': 'int', 'county' : 'str' } \n",
    "         }\n",
    "\n",
    "with collection( \"..\\data\\Results\\cities.shp\", \"w\", \"ESRI Shapefile\", schema) as output:\n",
    "    \n",
    "    with open('../data/cities.csv', 'r') as f:\n",
    "        reader = csv.DictReader(f)\n",
    "        \n",
    "        for row in reader:\n",
    "            point = Point(float(row['lng']), float(row['lat']))\n",
    "            \n",
    "            output.write({\n",
    "                'properties': {\n",
    "                    'name': row['city'],\n",
    "                    'population': row['population'],\n",
    "                    'county': row['admin_name']\n",
    "                },\n",
    "                'geometry': mapping(point) \n",
    "            })"
   ]
  },
  {
   "cell_type": "code",
   "execution_count": 174,
   "metadata": {},
   "outputs": [],
   "source": [
    "# Reading the shapefile using geopandas\n",
    "path_to_data = r\"C:\\Users\\DELL\\Desktop\\jupyter\\AutomateGISnotebooks\\lessons\\data\\Results\\cities.shp\"\n",
    "\n",
    "gdf = gpd.read_file(path_to_data)\n",
    "\n",
    "\n",
    "# gdf\n",
    "# gdf.head()"
   ]
  },
  {
   "cell_type": "code",
   "execution_count": 175,
   "metadata": {},
   "outputs": [
    {
     "data": {
      "text/plain": [
       "<matplotlib.axes._subplots.AxesSubplot at 0x2a8d1ee7160>"
      ]
     },
     "execution_count": 175,
     "metadata": {},
     "output_type": "execute_result"
    },
    {
     "data": {
      "image/png": "[encoded data removed]",
      "text/plain": [
       "<Figure size 432x288 with 1 Axes>"
      ]
     },
     "metadata": {
      "needs_background": "light"
     },
     "output_type": "display_data"
    }
   ],
   "source": [
    "# Plot the generated points\n",
    "gdf.plot()"
   ]
  },
  {
   "cell_type": "markdown",
   "metadata": {},
   "source": [
    "# Buffering Points\n",
    "\n",
    "- refers to the process of creating a polygon that surrounds a feature based on a specified distance or buffer distance"
   ]
  },
  {
   "cell_type": "markdown",
   "metadata": {},
   "source": [
    "## Accessing the geometry part of the shapefile to allow buffering"
   ]
  },
  {
   "cell_type": "code",
   "execution_count": 176,
   "metadata": {},
   "outputs": [
    {
     "name": "stdout",
     "output_type": "stream",
     "text": [
      "POINT (36.8172 -1.2864)\n",
      "POINT (37.65 0.05)\n",
      "POINT (39.6667 -4.05)\n",
      "POINT (34.75 -0.1)\n",
      "POINT (36.0667 -0.2833)\n",
      "POINT (35.2833 0.5167)\n",
      "POINT (37.2667 -1.5167)\n",
      "POINT (34.7675 -0.6698)\n",
      "POINT (34.4833 0.3333)\n",
      "POINT (37.09 -1.0396)\n",
      "POINT (36.95 -0.4167)\n",
      "POINT (40.1 -3.21)\n",
      "POINT (34.75 0.2833)\n",
      "POINT (34.64 -0.3596)\n",
      "POINT (35.6 3.1167)\n",
      "POINT (36.9833 -1.45)\n",
      "POINT (39.85 -3.6333)\n",
      "POINT (35.12 -0.6796)\n",
      "POINT (39.6583 -0.4569)\n",
      "POINT (35 1.0167)\n",
      "POINT (34.5666 0.5666)\n",
      "POINT (37.5833 0.35)\n",
      "POINT (40.0667 1.75)\n",
      "POINT (37.45 -0.5333)\n",
      "POINT (38.57 -3.3696)\n",
      "POINT (34.45 -0.5167)\n",
      "POINT (37.0667 0.0167)\n",
      "POINT (34.1108 0.4608)\n",
      "POINT (41.8333 3.9167)\n",
      "POINT (35.2839 -0.3692)\n",
      "POINT (38.0167 -1.3667)\n",
      "POINT (36.7 1.1)\n",
      "POINT (40.9003 -2.2686)\n",
      "POINT (35.1 0.2)\n",
      "POINT (37.9833 2.3333)\n",
      "POINT (40.03 -1.5)\n",
      "POINT (36.8356 -1.1714)\n",
      "POINT (35.743 0.4919)\n",
      "POINT (34.4731 -1.0634)\n",
      "POINT (37.2803 -0.4989)\n",
      "POINT (35.5081 0.6703)\n",
      "POINT (34.9358 -0.5633)\n",
      "POINT (37.1526 -0.721)\n",
      "POINT (35.3416 -0.7813)\n",
      "POINT (34.2881 0.0607)\n",
      "POINT (35.1119 1.2389)\n",
      "POINT (37.6288 -1.7808)\n",
      "POINT (38.3772 -3.505)\n",
      "POINT (36.7833 -1.85)\n",
      "POINT (36.3788 -0.2643)\n",
      "POINT (35.8667 -1.0833)\n",
      "POINT (39.4521 -4.1737)\n",
      "POINT (36.5381 0.2725)\n"
     ]
    }
   ],
   "source": [
    "with collection(path_to_data, \"r\") as dinput:\n",
    "    for point in dinput:\n",
    "        print (shape(point['geometry']))"
   ]
  },
  {
   "cell_type": "code",
   "execution_count": 177,
   "metadata": {},
   "outputs": [
    {
     "name": "stdout",
     "output_type": "stream",
     "text": [
      "Writing the file to file system\n"
     ]
    }
   ],
   "source": [
    "\n",
    "with collection(path_to_data, \"r\") as dinput:\n",
    "    # schema = input.schema.copy()\n",
    "    schema = { 'geometry': 'Polygon', 'properties': { 'name': 'str' } }\n",
    "    \n",
    "    with collection(\n",
    "        \"..\\data\\Results\\citybuffer.shp\", \"w\", \"ESRI Shapefile\", schema) as output:\n",
    "        for point in dinput:\n",
    "            output.write({\n",
    "                'properties': {\n",
    "                    'name': point['properties']['name']\n",
    "                },\n",
    "                'geometry': mapping(shape(point['geometry']).buffer(1.0))\n",
    "            })\n",
    "print(\"Writing the file to file system\")"
   ]
  },
  {
   "cell_type": "code",
   "execution_count": 178,
   "metadata": {},
   "outputs": [
    {
     "data": {
      "text/html": [
       "<div>\n",
       "<style scoped>\n",
       "    .dataframe tbody tr th:only-of-type {\n",
       "        vertical-align: middle;\n",
       "    }\n",
       "\n",
       "    .dataframe tbody tr th {\n",
       "        vertical-align: top;\n",
       "    }\n",
       "\n",
       "    .dataframe thead th {\n",
       "        text-align: right;\n",
       "    }\n",
       "</style>\n",
       "<table border=\"1\" class=\"dataframe\">\n",
       "  <thead>\n",
       "    <tr style=\"text-align: right;\">\n",
       "      <th></th>\n",
       "      <th>name</th>\n",
       "      <th>geometry</th>\n",
       "    </tr>\n",
       "  </thead>\n",
       "  <tbody>\n",
       "    <tr>\n",
       "      <th>0</th>\n",
       "      <td>Nairobi</td>\n",
       "      <td>POLYGON ((37.81720 -1.28640, 37.81238 -1.38442...</td>\n",
       "    </tr>\n",
       "    <tr>\n",
       "      <th>1</th>\n",
       "      <td>Meru</td>\n",
       "      <td>POLYGON ((38.65000 0.05000, 38.64518 -0.04802,...</td>\n",
       "    </tr>\n",
       "    <tr>\n",
       "      <th>2</th>\n",
       "      <td>Mombasa</td>\n",
       "      <td>POLYGON ((40.66670 -4.05000, 40.66188 -4.14802...</td>\n",
       "    </tr>\n",
       "    <tr>\n",
       "      <th>3</th>\n",
       "      <td>Kisumu</td>\n",
       "      <td>POLYGON ((35.75000 -0.10000, 35.74518 -0.19802...</td>\n",
       "    </tr>\n",
       "    <tr>\n",
       "      <th>4</th>\n",
       "      <td>Nakuru</td>\n",
       "      <td>POLYGON ((37.06670 -0.28330, 37.06188 -0.38132...</td>\n",
       "    </tr>\n",
       "  </tbody>\n",
       "</table>\n",
       "</div>"
      ],
      "text/plain": [
       "      name                                           geometry\n",
       "0  Nairobi  POLYGON ((37.81720 -1.28640, 37.81238 -1.38442...\n",
       "1     Meru  POLYGON ((38.65000 0.05000, 38.64518 -0.04802,...\n",
       "2  Mombasa  POLYGON ((40.66670 -4.05000, 40.66188 -4.14802...\n",
       "3   Kisumu  POLYGON ((35.75000 -0.10000, 35.74518 -0.19802...\n",
       "4   Nakuru  POLYGON ((37.06670 -0.28330, 37.06188 -0.38132..."
      ]
     },
     "execution_count": 178,
     "metadata": {},
     "output_type": "execute_result"
    }
   ],
   "source": [
    "# Reading the buffer shapefile using geopandas\n",
    "path_to_data = r\"C:\\Users\\DELL\\Desktop\\jupyter\\AutomateGISnotebooks\\lessons\\data\\Results\\citybuffer.shp\"\n",
    "\n",
    "gdf = gpd.read_file(path_to_data)\n",
    "\n",
    "\n",
    "gdf.head()"
   ]
  },
  {
   "cell_type": "code",
   "execution_count": 179,
   "metadata": {},
   "outputs": [
    {
     "data": {
      "text/plain": [
       "<matplotlib.axes._subplots.AxesSubplot at 0x2a8d1fb13c8>"
      ]
     },
     "execution_count": 179,
     "metadata": {},
     "output_type": "execute_result"
    },
    {
     "data": {
      "image/png": "[encoded data removed]",
      "text/plain": [
       "<Figure size 432x288 with 1 Axes>"
      ]
     },
     "metadata": {
      "needs_background": "light"
     },
     "output_type": "display_data"
    }
   ],
   "source": [
    "gdf.plot()"
   ]
  },
  {
   "cell_type": "code",
   "execution_count": 181,
   "metadata": {},
   "outputs": [],
   "source": [
    "# Merging the resulting circle polygons into one polygon\n",
    "\n",
    "# cascaded_union Returns a representation of the union of the given geometric objects.\n",
    "\n",
    "from shapely.geometry import mapping, shape\n",
    "from shapely.ops import cascaded_union\n",
    "from fiona import collection\n",
    "\n",
    "with collection(\"..\\data\\Results\\citybuffer.shp\", \"r\") as input:\n",
    "    \n",
    "    schema = input.schema.copy()\n",
    "    \n",
    "    with collection(\n",
    "            \"..\\data\\Results\\citybu_union.shp\", \"w\", \"ESRI Shapefile\", schema) as output:\n",
    "        shapes = []\n",
    "        \n",
    "        for f in input:\n",
    "            shapes.append(shape(f['geometry']))\n",
    "            \n",
    "        # Merging the shapefile using cascaded union, it takes in a list of geometries as its first entry   \n",
    "        merged = cascaded_union(shapes)\n",
    "        \n",
    "        output.write({\n",
    "            'properties': {\n",
    "                'name': 'Buffer Area'\n",
    "                },\n",
    "            'geometry': mapping(merged)\n",
    "            })"
   ]
  },
  {
   "cell_type": "code",
   "execution_count": null,
   "metadata": {},
   "outputs": [],
   "source": []
  },
  {
   "cell_type": "code",
   "execution_count": null,
   "metadata": {},
   "outputs": [],
   "source": []
  },
  {
   "cell_type": "markdown",
   "metadata": {},
   "source": [
    "# Shapely and geometric objects"
   ]
  },
  {
   "cell_type": "markdown",
   "metadata": {},
   "source": [
    "The most fundamental geometric objects are \n",
    "    - Points, \n",
    "    - Lines and \n",
    "    - Polygons \n",
    "\n",
    "which are the basic ingredients when working with spatial data in vector format. \n",
    "\n",
    "Python has a specific module called Shapely for doing various geometric operations. \n",
    "\n",
    "Basic knowledge of using Shapely is fundamental for understanding how geometries are stored and handled in GeoPandas."
   ]
  },
  {
   "cell_type": "markdown",
   "metadata": {},
   "source": [
    "## Geometric objects consist of coordinate tuples where:\n",
    "\n",
    "- Point\n",
    "object represents a single point in space. Points can be either two-dimensional (x, y) or three dimensional (x, y, z).\n",
    "\n",
    "- LineString\n",
    "object (i.e. a line) represents a sequence of points joined together to form a line. Hence, a line consist of a list of at least two coordinate tuples\n",
    "\n",
    "- Polygon\n",
    "object represents a filled area that consists of a list of at least three coordinate tuples that forms the outerior ring and a (possible) list of hole polygons.\n",
    "\n",
    "## It is also possible to have a collection of geometric objects (e.g. Polygons with multiple parts):\n",
    "\n",
    "- MultiPoint\n",
    "object represents a collection of points and consists of a list of coordinate-tuples\n",
    "\n",
    "- MultiLineString\n",
    "object represents a collection of lines and consists of a list of line-like sequences\n",
    "\n",
    "- MultiPolygon\n",
    "object represents a collection of polygons that consists of a list of polygon-like sequences that construct from exterior ring and (possible) hole list tuples\n",
    "\n",
    "## Useful attributes and methods in Shapely include:\n",
    "\n",
    "    - Creating lines and polygons based on a collection of point objects.\n",
    "\n",
    "    - Calculating areas/length/bounds etc. of input geometries\n",
    "\n",
    "    - Conducting geometric operations based on the input geometries such as union, difference, distance etc.\n",
    "\n",
    "    - Conducting spatial queries between geometries such as intersects, touches, crosses, within etc."
   ]
  },
  {
   "cell_type": "markdown",
   "metadata": {},
   "source": [
    "# Useful links\n",
    "- https://shapely.readthedocs.io/en/stable/manual.html?highlight=shapely.ops#shapely.ops.polygonize"
   ]
  },
  {
   "cell_type": "code",
   "execution_count": null,
   "metadata": {},
   "outputs": [],
   "source": []
  },
  {
   "cell_type": "markdown",
   "metadata": {},
   "source": [
    " ## Point\n",
    "Creating point is easy, you pass x and y coordinates into Point() -object (+ possibly also z -coordinate):"
   ]
  },
  {
   "cell_type": "code",
   "execution_count": 182,
   "metadata": {},
   "outputs": [],
   "source": [
    "# Import necessary geometric objects from shapely module\n",
    "from shapely.geometry import Point, LineString, Polygon\n"
   ]
  },
  {
   "cell_type": "code",
   "execution_count": 183,
   "metadata": {},
   "outputs": [],
   "source": [
    "# Create Point geometric object(s) with coordinates\n",
    "\n",
    "point1 = Point(36, -1)\n",
    "point2 = Point(37,  2)\n",
    "point3 = Point(36, -4)\n",
    "# point3D = Point(9.26, -2.456, 0.57)"
   ]
  },
  {
   "cell_type": "code",
   "execution_count": 184,
   "metadata": {},
   "outputs": [
    {
     "data": {
      "image/svg+xml": [
       "<svg xmlns=\"http://www.w3.org/2000/svg\" xmlns:xlink=\"http://www.w3.org/1999/xlink\" width=\"100.0\" height=\"100.0\" viewBox=\"35.0 -2.0 2.0 2.0\" preserveAspectRatio=\"xMinYMin meet\"><g transform=\"matrix(1,0,0,-1,0,-2.0)\"><circle cx=\"36.0\" cy=\"-1.0\" r=\"0.06\" stroke=\"#555555\" stroke-width=\"0.02\" fill=\"#66cc99\" opacity=\"0.6\" /></g></svg>"
      ],
      "text/plain": [
       "<shapely.geometry.point.Point at 0x2a8d20165c0>"
      ]
     },
     "execution_count": 184,
     "metadata": {},
     "output_type": "execute_result"
    }
   ],
   "source": [
    "point1"
   ]
  },
  {
   "cell_type": "code",
   "execution_count": 185,
   "metadata": {},
   "outputs": [
    {
     "data": {
      "text/plain": [
       "shapely.geometry.point.Point"
      ]
     },
     "execution_count": 185,
     "metadata": {},
     "output_type": "execute_result"
    }
   ],
   "source": [
    "# you can check the type of geometry you are working om\n",
    "type(point1)"
   ]
  },
  {
   "cell_type": "markdown",
   "metadata": {},
   "source": [
    "## Point attributes and functions"
   ]
  },
  {
   "cell_type": "markdown",
   "metadata": {},
   "source": [
    "Points and other shapely objects have useful built-in attributes and methods. Using the available attributes, we can for example extract the coordinate values of a Point and calculate the Euclidian distance between points."
   ]
  },
  {
   "cell_type": "markdown",
   "metadata": {},
   "source": [
    "### geom_type\n",
    "geom_type attribute contains information about the geometry type of the Shapely object:"
   ]
  },
  {
   "cell_type": "code",
   "execution_count": 186,
   "metadata": {},
   "outputs": [
    {
     "data": {
      "text/plain": [
       "'Point'"
      ]
     },
     "execution_count": 186,
     "metadata": {},
     "output_type": "execute_result"
    }
   ],
   "source": [
    " # helps you know the geomerty type\n",
    "point1.geom_type"
   ]
  },
  {
   "cell_type": "markdown",
   "metadata": {},
   "source": [
    "### coords \n",
    "attribute contains the coordinate information as a Coordinate\n",
    "Sequence which is another data type related to Shapely."
   ]
  },
  {
   "cell_type": "code",
   "execution_count": 187,
   "metadata": {},
   "outputs": [
    {
     "data": {
      "text/plain": [
       "[(36.0, -1.0)]"
      ]
     },
     "execution_count": 187,
     "metadata": {},
     "output_type": "execute_result"
    }
   ],
   "source": [
    "# Get xy coordinate tuple\n",
    "list(point1.coords)"
   ]
  },
  {
   "cell_type": "code",
   "execution_count": 189,
   "metadata": {},
   "outputs": [
    {
     "name": "stdout",
     "output_type": "stream",
     "text": [
      "36.0 -1.0\n"
     ]
    }
   ],
   "source": [
    "# Read x and y coordinates separately\n",
    "x = point1.x\n",
    "y = point1.y\n",
    "\n",
    "print( x, y)"
   ]
  },
  {
   "cell_type": "code",
   "execution_count": 190,
   "metadata": {},
   "outputs": [
    {
     "name": "stdout",
     "output_type": "stream",
     "text": [
      "Distance between the points is 3.1622776601683795 units\n"
     ]
    }
   ],
   "source": [
    "# Calculate the distance between point1 and point2\n",
    "dist = point1.distance(point2)\n",
    "\n",
    "# Print out a nicely formatted info message\n",
    "print(f\"Distance between the points is {dist} units\")"
   ]
  },
  {
   "cell_type": "markdown",
   "metadata": {},
   "source": [
    "##  LineString\n",
    "Creating LineString -objects is fairly similar to creating Shapely Points.\n",
    "\n",
    "Now instead using a single coordinate-tuple we can construct the line using either a list of shapely Point -objects or pass the points as coordinate-tuples:"
   ]
  },
  {
   "cell_type": "code",
   "execution_count": 191,
   "metadata": {},
   "outputs": [],
   "source": [
    "# Create a LineString from our Point objects\n",
    "# line = LineString([point1, point2, point3])\n",
    "line = LineString([point1, point2])"
   ]
  },
  {
   "cell_type": "code",
   "execution_count": 192,
   "metadata": {},
   "outputs": [
    {
     "data": {
      "image/svg+xml": [
       "<svg xmlns=\"http://www.w3.org/2000/svg\" xmlns:xlink=\"http://www.w3.org/1999/xlink\" width=\"100.0\" height=\"100.0\" viewBox=\"35.88 -1.12 1.2399999999999949 3.24\" preserveAspectRatio=\"xMinYMin meet\"><g transform=\"matrix(1,0,0,-1,0,1.0)\"><polyline fill=\"none\" stroke=\"#66cc99\" stroke-width=\"0.06480000000000001\" points=\"36.0,-1.0 37.0,2.0\" opacity=\"0.8\" /></g></svg>"
      ],
      "text/plain": [
       "<shapely.geometry.linestring.LineString at 0x2a8d20337f0>"
      ]
     },
     "execution_count": 192,
     "metadata": {},
     "output_type": "execute_result"
    }
   ],
   "source": [
    "line"
   ]
  },
  {
   "cell_type": "code",
   "execution_count": 193,
   "metadata": {},
   "outputs": [
    {
     "name": "stdout",
     "output_type": "stream",
     "text": [
      "LINESTRING (36 -1, 37 2)\n"
     ]
    },
    {
     "data": {
      "text/plain": [
       "'LineString'"
      ]
     },
     "execution_count": 193,
     "metadata": {},
     "output_type": "execute_result"
    }
   ],
   "source": [
    "print(line)\n",
    "\n",
    "\n",
    "# Check data type of the line object\n",
    "type(line)\n",
    "\n",
    "\n",
    "# Check geometry type of the line object\n",
    "line.geom_type"
   ]
  },
  {
   "cell_type": "markdown",
   "metadata": {},
   "source": [
    "## LineString attributes and functions\n",
    "LineString -object has many useful built-in attributes and functionalities. It is for instance possible to extract the coordinates or the length of a LineString (line), calculate the centroid of the line, create points along the line at specific distance, calculate the closest distance from a line to specified Point and simplify the geometry. See full list of functionalities from Shapely documentation. Here, we go through a few of them.\n",
    "\n",
    "We can extract the coordinates of a LineString similarly as with Point"
   ]
  },
  {
   "cell_type": "code",
   "execution_count": 194,
   "metadata": {},
   "outputs": [
    {
     "data": {
      "text/plain": [
       "[(36.0, -1.0), (37.0, 2.0)]"
      ]
     },
     "execution_count": 194,
     "metadata": {},
     "output_type": "execute_result"
    }
   ],
   "source": [
    "# Get xy coordinate tuples\n",
    "list(line.coords)"
   ]
  },
  {
   "cell_type": "code",
   "execution_count": 195,
   "metadata": {},
   "outputs": [],
   "source": [
    "# Extract x and y coordinates separately\n",
    "xcoords = list(line.xy[0])\n",
    "ycoords = list(line.xy[1])"
   ]
  },
  {
   "cell_type": "code",
   "execution_count": 196,
   "metadata": {},
   "outputs": [
    {
     "name": "stdout",
     "output_type": "stream",
     "text": [
      "[36.0, 37.0]\n",
      "[-1.0, 2.0]\n"
     ]
    }
   ],
   "source": [
    "print(xcoords)\n",
    "print(ycoords)"
   ]
  },
  {
   "cell_type": "code",
   "execution_count": 197,
   "metadata": {},
   "outputs": [
    {
     "name": "stdout",
     "output_type": "stream",
     "text": [
      "Length of our line: 3.1622776601683795 units\n"
     ]
    }
   ],
   "source": [
    "# Get the lenght of the line\n",
    "\n",
    "l_length = line.length\n",
    "print(f\"Length of our line: {l_length} units\")"
   ]
  },
  {
   "cell_type": "code",
   "execution_count": 198,
   "metadata": {},
   "outputs": [
    {
     "name": "stdout",
     "output_type": "stream",
     "text": [
      "POINT (36.5 0.5)\n"
     ]
    }
   ],
   "source": [
    "# Get the centroid of the line\n",
    "print(line.centroid)"
   ]
  },
  {
   "cell_type": "markdown",
   "metadata": {},
   "source": [
    "## Polygon\n",
    "Creating a Polygon -object continues the same logic of how Point and LineString were created but Polygon object only accepts a sequence of coordinates as input.\n",
    "\n",
    "Polygon needs at least three coordinate-tuples (three points are reguired to form a surface):"
   ]
  },
  {
   "cell_type": "code",
   "execution_count": 203,
   "metadata": {},
   "outputs": [
    {
     "data": {
      "image/svg+xml": [
       "<svg xmlns=\"http://www.w3.org/2000/svg\" xmlns:xlink=\"http://www.w3.org/1999/xlink\" width=\"100.0\" height=\"100.0\" viewBox=\"1.028 -26.272000000000002 9.404 31.644000000000002\" preserveAspectRatio=\"xMinYMin meet\"><g transform=\"matrix(1,0,0,-1,0,-20.900000000000002)\"><path fill-rule=\"evenodd\" fill=\"#66cc99\" stroke=\"#555555\" stroke-width=\"0.63288\" opacity=\"0.6\" d=\"M 2.2,4.2 L 7.2,-25.1 L 9.26,-2.456 L 2.2,4.2 z\" /></g></svg>"
      ],
      "text/plain": [
       "<shapely.geometry.polygon.Polygon at 0x2a8d2033dd8>"
      ]
     },
     "execution_count": 203,
     "metadata": {},
     "output_type": "execute_result"
    }
   ],
   "source": [
    "# Create a Polygon from the coordinates\n",
    "\n",
    "point1 = (2.2, 4.2)\n",
    "point2 =  (7.2, -25.1),\n",
    "point3 =  (9.26, -2.456)\n",
    "\n",
    "poly = Polygon([(2.2, 4.2), (7.2, -25.1), (9.26, -2.456)])\n",
    "\n",
    "poly"
   ]
  },
  {
   "cell_type": "code",
   "execution_count": 201,
   "metadata": {},
   "outputs": [],
   "source": [
    "# Create a Polygon based on information from the Shapely points\n",
    "point1 = Point(36, -1)\n",
    "point2 = Point(37,  2)\n",
    "point3 = Point(36, -4)\n",
    "\n",
    "poly2 = Polygon([[p.x, p.y] for p in [point1, point2, point3]])"
   ]
  },
  {
   "cell_type": "code",
   "execution_count": 202,
   "metadata": {},
   "outputs": [
    {
     "data": {
      "image/svg+xml": [
       "<svg xmlns=\"http://www.w3.org/2000/svg\" xmlns:xlink=\"http://www.w3.org/1999/xlink\" width=\"100.0\" height=\"100.0\" viewBox=\"35.76 -4.24 1.480000000000004 6.48\" preserveAspectRatio=\"xMinYMin meet\"><g transform=\"matrix(1,0,0,-1,0,-2.0)\"><path fill-rule=\"evenodd\" fill=\"#66cc99\" stroke=\"#555555\" stroke-width=\"0.12960000000000002\" opacity=\"0.6\" d=\"M 36.0,-1.0 L 37.0,2.0 L 36.0,-4.0 L 36.0,-1.0 z\" /></g></svg>"
      ],
      "text/plain": [
       "<shapely.geometry.polygon.Polygon at 0x2a8d6557390>"
      ]
     },
     "execution_count": 202,
     "metadata": {},
     "output_type": "execute_result"
    }
   ],
   "source": [
    "poly2"
   ]
  },
  {
   "cell_type": "code",
   "execution_count": 204,
   "metadata": {},
   "outputs": [
    {
     "name": "stdout",
     "output_type": "stream",
     "text": [
      "POLYGON ((36 -1, 37 2, 36 -4, 36 -1))\n"
     ]
    }
   ],
   "source": [
    "print(poly2)"
   ]
  },
  {
   "cell_type": "markdown",
   "metadata": {},
   "source": [
    "Notice that Polygon representation has double parentheses around the coordinates (i.e. POLYGON ((<values in here>)) ). This is because Polygon can also have holes inside of it.\n",
    "\n",
    "Check also the data type:"
   ]
  },
  {
   "cell_type": "code",
   "execution_count": 206,
   "metadata": {},
   "outputs": [
    {
     "data": {
      "text/plain": [
       "'Polygon'"
      ]
     },
     "execution_count": 206,
     "metadata": {},
     "output_type": "execute_result"
    }
   ],
   "source": [
    "# Data type\n",
    "type(poly)\n",
    "\n",
    "\n",
    "# Geometry type\n",
    "poly.geom_type\n",
    "\n",
    "\n",
    "# Check the help for Polygon objects:\n",
    "help(Polygon)"
   ]
  },
  {
   "cell_type": "markdown",
   "metadata": {},
   "source": [
    "### As the help of Polygon -object tells, a Polygon can be constructed using exterior coordinates and interior coordinates (optional) where the interior coordinates creates a hole inside the Polygon:\n",
    "\n",
    "Let’s see how we can create a Polygon with a hole:"
   ]
  },
  {
   "cell_type": "code",
   "execution_count": 207,
   "metadata": {},
   "outputs": [],
   "source": [
    "# Define the outer border\n",
    "border = [(-180, 90), (-180, -90), (180, -90), (180, 90)]"
   ]
  },
  {
   "cell_type": "code",
   "execution_count": 208,
   "metadata": {},
   "outputs": [
    {
     "name": "stdout",
     "output_type": "stream",
     "text": [
      "POLYGON ((-180 90, -180 -90, 180 -90, 180 90, -180 90))\n"
     ]
    }
   ],
   "source": [
    "# Outer polygon\n",
    "world = Polygon(shell=border)\n",
    "print(world)"
   ]
  },
  {
   "cell_type": "code",
   "execution_count": 209,
   "metadata": {},
   "outputs": [
    {
     "data": {
      "image/svg+xml": [
       "<svg xmlns=\"http://www.w3.org/2000/svg\" xmlns:xlink=\"http://www.w3.org/1999/xlink\" width=\"300\" height=\"208.8\" viewBox=\"-194.4 -104.4 388.8 208.8\" preserveAspectRatio=\"xMinYMin meet\"><g transform=\"matrix(1,0,0,-1,0,0.0)\"><path fill-rule=\"evenodd\" fill=\"#66cc99\" stroke=\"#555555\" stroke-width=\"2.592\" opacity=\"0.6\" d=\"M -180.0,90.0 L -180.0,-90.0 L 180.0,-90.0 L 180.0,90.0 L -180.0,90.0 z\" /></g></svg>"
      ],
      "text/plain": [
       "<shapely.geometry.polygon.Polygon at 0x2a8d20333c8>"
      ]
     },
     "execution_count": 209,
     "metadata": {},
     "output_type": "execute_result"
    }
   ],
   "source": [
    "world"
   ]
  },
  {
   "cell_type": "code",
   "execution_count": 210,
   "metadata": {},
   "outputs": [],
   "source": [
    "# Let's create a single big hole where we leave ten units at the boundaries\n",
    "# Note: there could be multiple holes, so we need to provide list of coordinates for the hole inside a list\n",
    "hole = [[(-170, 80), (-170, -80), (170, -80), (170, 80)]]"
   ]
  },
  {
   "cell_type": "code",
   "execution_count": 212,
   "metadata": {},
   "outputs": [
    {
     "name": "stdout",
     "output_type": "stream",
     "text": [
      "POLYGON ((-180 90, -180 -90, 180 -90, 180 90, -180 90), (-170 80, -170 -80, 170 -80, 170 80, -170 80))\n"
     ]
    }
   ],
   "source": [
    "# Now we can construct our Polygon with the hole inside\n",
    "frame = Polygon(shell=border, holes=hole)\n",
    "print(frame)"
   ]
  },
  {
   "cell_type": "code",
   "execution_count": 213,
   "metadata": {},
   "outputs": [
    {
     "data": {
      "image/svg+xml": [
       "<svg xmlns=\"http://www.w3.org/2000/svg\" xmlns:xlink=\"http://www.w3.org/1999/xlink\" width=\"300\" height=\"208.8\" viewBox=\"-194.4 -104.4 388.8 208.8\" preserveAspectRatio=\"xMinYMin meet\"><g transform=\"matrix(1,0,0,-1,0,0.0)\"><path fill-rule=\"evenodd\" fill=\"#66cc99\" stroke=\"#555555\" stroke-width=\"2.592\" opacity=\"0.6\" d=\"M -180.0,90.0 L -180.0,-90.0 L 180.0,-90.0 L 180.0,90.0 L -180.0,90.0 z M -170.0,80.0 L -170.0,-80.0 L 170.0,-80.0 L 170.0,80.0 L -170.0,80.0 z\" /></g></svg>"
      ],
      "text/plain": [
       "<shapely.geometry.polygon.Polygon at 0x2a8d202a3c8>"
      ]
     },
     "execution_count": 213,
     "metadata": {},
     "output_type": "execute_result"
    }
   ],
   "source": [
    "frame"
   ]
  },
  {
   "cell_type": "markdown",
   "metadata": {},
   "source": [
    "As we can see the Polygon has now two different tuples of coordinates. The first one represents the outerior and the second one represents the hole inside of the Polygon."
   ]
  },
  {
   "cell_type": "markdown",
   "metadata": {},
   "source": [
    "## Polygon attributes and functions\n",
    "We can again access different attributes directly from the Polygon object itself that can be really useful for many analyses, such as area, centroid, bounding box, exterior, and exterior-length. See a full list of methods in the Shapely User Manual.\n",
    "\n",
    "Here, we can see a few of the available attributes and how to access them:"
   ]
  },
  {
   "cell_type": "code",
   "execution_count": 214,
   "metadata": {},
   "outputs": [
    {
     "name": "stdout",
     "output_type": "stream",
     "text": [
      "Polygon centroid: POINT (-0 -0)\n",
      "Polygon Area: 64800.0\n",
      "Polygon Bounding Box: (-180.0, -90.0, 180.0, 90.0)\n",
      "Polygon Exterior: LINEARRING (-180 90, -180 -90, 180 -90, 180 90, -180 90)\n",
      "Polygon Exterior Length: 1080.0\n"
     ]
    }
   ],
   "source": [
    "# Print the outputs\n",
    "print(f\"Polygon centroid: {world.centroid}\")\n",
    "print(f\"Polygon Area: {world.area}\")\n",
    "print(f\"Polygon Bounding Box: {world.bounds}\")\n",
    "print(f\"Polygon Exterior: {world.exterior}\")\n",
    "print(f\"Polygon Exterior Length: {world.exterior.length}\")"
   ]
  },
  {
   "cell_type": "markdown",
   "metadata": {},
   "source": [
    "## Check your understanding\n",
    "Plot these shapes using Shapely!\n",
    "\n",
    "### example coords: (30, 2.01), (31.91, 0.62), (31.18, -1.63), (28.82, -1.63), (28.09, 0.62)\n",
    "\n",
    "Pentagon, \n",
    "\n",
    "Triangle\n",
    "\n",
    "Square\n",
    "\n",
    "Cicrle"
   ]
  },
  {
   "cell_type": "markdown",
   "metadata": {},
   "source": [
    "# Answers"
   ]
  },
  {
   "cell_type": "code",
   "execution_count": 215,
   "metadata": {},
   "outputs": [
    {
     "data": {
      "image/svg+xml": [
       "<svg xmlns=\"http://www.w3.org/2000/svg\" xmlns:xlink=\"http://www.w3.org/1999/xlink\" width=\"100.0\" height=\"100.0\" viewBox=\"27.9372 -1.7828 4.125600000000002 3.9455999999999998\" preserveAspectRatio=\"xMinYMin meet\"><g transform=\"matrix(1,0,0,-1,0,0.3799999999999999)\"><path fill-rule=\"evenodd\" fill=\"#66cc99\" stroke=\"#555555\" stroke-width=\"0.08251200000000004\" opacity=\"0.6\" d=\"M 30.0,2.01 L 31.91,0.62 L 31.18,-1.63 L 28.82,-1.63 L 28.09,0.62 L 30.0,2.01 z\" /></g></svg>"
      ],
      "text/plain": [
       "<shapely.geometry.polygon.Polygon at 0x2a8d200a0b8>"
      ]
     },
     "execution_count": 215,
     "metadata": {},
     "output_type": "execute_result"
    }
   ],
   "source": [
    "# Pentagon - Coordinates borrowed from this thread: https://tex.stackexchange.com/questions/179843/make-a-polygon-with-automatically-labelled-nodes-according-to-their-coordinates \n",
    "# Pentagon\n",
    "Polygon([(30, 2.01), (31.91, 0.62), (31.18, -1.63), (28.82, -1.63), (28.09, 0.62)])"
   ]
  },
  {
   "cell_type": "code",
   "execution_count": 216,
   "metadata": {},
   "outputs": [
    {
     "data": {
      "image/svg+xml": [
       "<svg xmlns=\"http://www.w3.org/2000/svg\" xmlns:xlink=\"http://www.w3.org/1999/xlink\" width=\"100.0\" height=\"100.0\" viewBox=\"-0.16 -0.16 4.32 4.32\" preserveAspectRatio=\"xMinYMin meet\"><g transform=\"matrix(1,0,0,-1,0,4.0)\"><path fill-rule=\"evenodd\" fill=\"#66cc99\" stroke=\"#555555\" stroke-width=\"0.0864\" opacity=\"0.6\" d=\"M 0.0,0.0 L 2.0,4.0 L 4.0,0.0 L 0.0,0.0 z\" /></g></svg>"
      ],
      "text/plain": [
       "<shapely.geometry.polygon.Polygon at 0x2a8d200a358>"
      ]
     },
     "execution_count": 216,
     "metadata": {},
     "output_type": "execute_result"
    }
   ],
   "source": [
    "# Triangle\n",
    "Polygon([(0,0), (2,4), (4,0)])"
   ]
  },
  {
   "cell_type": "code",
   "execution_count": 217,
   "metadata": {},
   "outputs": [
    {
     "data": {
      "image/svg+xml": [
       "<svg xmlns=\"http://www.w3.org/2000/svg\" xmlns:xlink=\"http://www.w3.org/1999/xlink\" width=\"100.0\" height=\"100.0\" viewBox=\"-0.16 -0.16 4.32 4.32\" preserveAspectRatio=\"xMinYMin meet\"><g transform=\"matrix(1,0,0,-1,0,4.0)\"><path fill-rule=\"evenodd\" fill=\"#66cc99\" stroke=\"#555555\" stroke-width=\"0.0864\" opacity=\"0.6\" d=\"M 0.0,0.0 L 0.0,4.0 L 4.0,4.0 L 4.0,0.0 L 0.0,0.0 z\" /></g></svg>"
      ],
      "text/plain": [
       "<shapely.geometry.polygon.Polygon at 0x2a8d200a5f8>"
      ]
     },
     "execution_count": 217,
     "metadata": {},
     "output_type": "execute_result"
    }
   ],
   "source": [
    "# Square\n",
    "Polygon([(0,0), (0,4), (4,4), (4,0)])"
   ]
  },
  {
   "cell_type": "code",
   "execution_count": 218,
   "metadata": {},
   "outputs": [
    {
     "data": {
      "image/svg+xml": [
       "<svg xmlns=\"http://www.w3.org/2000/svg\" xmlns:xlink=\"http://www.w3.org/1999/xlink\" width=\"100.0\" height=\"100.0\" viewBox=\"-1.08 -1.08 2.16 2.16\" preserveAspectRatio=\"xMinYMin meet\"><g transform=\"matrix(1,0,0,-1,0,0.0)\"><path fill-rule=\"evenodd\" fill=\"#66cc99\" stroke=\"#555555\" stroke-width=\"0.0432\" opacity=\"0.6\" d=\"M 1.0,0.0 L 0.9951847266721969,-0.0980171403295605 L 0.9807852804032305,-0.19509032201612808 L 0.9569403357322089,-0.2902846772544621 L 0.923879532511287,-0.3826834323650894 L 0.8819212643483553,-0.4713967368259972 L 0.8314696123025456,-0.5555702330196017 L 0.7730104533627374,-0.6343932841636449 L 0.7071067811865481,-0.707106781186547 L 0.6343932841636463,-0.7730104533627363 L 0.5555702330196031,-0.8314696123025447 L 0.4713967368259986,-0.8819212643483545 L 0.38268343236509084,-0.9238795325112863 L 0.2902846772544636,-0.9569403357322085 L 0.19509032201612964,-0.9807852804032302 L 0.09801714032956209,-0.9951847266721967 L 1.6155445744325867e-15,-1.0 L -0.09801714032955888,-0.995184726672197 L -0.19509032201612647,-0.9807852804032308 L -0.2902846772544605,-0.9569403357322095 L -0.38268343236508784,-0.9238795325112875 L -0.4713967368259957,-0.881921264348356 L -0.5555702330196005,-0.8314696123025463 L -0.6343932841636439,-0.7730104533627382 L -0.7071067811865462,-0.7071067811865488 L -0.7730104533627359,-0.6343932841636468 L -0.8314696123025443,-0.5555702330196036 L -0.8819212643483543,-0.47139673682599903 L -0.9238795325112862,-0.3826834323650911 L -0.9569403357322085,-0.29028467725446366 L -0.9807852804032302,-0.19509032201612947 L -0.9951847266721968,-0.09801714032956171 L -1.0,-1.0106430996148606e-15 L -0.9951847266721969,0.0980171403295597 L -0.9807852804032307,0.1950903220161275 L -0.956940335732209,0.2902846772544617 L -0.923879532511287,0.3826834323650892 L -0.8819212643483553,0.47139673682599725 L -0.8314696123025455,0.555570233019602 L -0.7730104533627371,0.6343932841636453 L -0.7071067811865477,0.7071067811865475 L -0.6343932841636459,0.7730104533627367 L -0.5555702330196028,0.8314696123025448 L -0.4713967368259987,0.8819212643483545 L -0.38268343236509117,0.9238795325112862 L -0.2902846772544641,0.9569403357322084 L -0.1950903220161304,0.98078528040323 L -0.0980171403295631,0.9951847266721966 L -2.848232278972479e-15,1.0 L 0.09801714032955743,0.9951847266721972 L 0.1950903220161248,0.9807852804032311 L 0.29028467725445867,0.9569403357322099 L 0.3826834323650859,0.9238795325112884 L 0.47139673682599365,0.8819212643483572 L 0.5555702330195982,0.8314696123025479 L 0.6343932841636415,0.7730104533627402 L 0.7071067811865436,0.7071067811865515 L 0.7730104533627332,0.63439328416365 L 0.8314696123025418,0.5555702330196074 L 0.8819212643483519,0.4713967368260034 L 0.9238795325112841,0.3826834323650961 L 0.9569403357322067,0.29028467725446927 L 0.980785280403229,0.1950903220161357 L 0.9951847266721962,0.09801714032956847 L 1.0,8.238535137130597e-15 L 1.0,0.0 z\" /></g></svg>"
      ],
      "text/plain": [
       "<shapely.geometry.polygon.Polygon at 0x2a8d202a4a8>"
      ]
     },
     "execution_count": 218,
     "metadata": {},
     "output_type": "execute_result"
    }
   ],
   "source": [
    "# Circle (using a buffer around a point)\n",
    "point = Point((0,0))\n",
    "point.buffer(1)"
   ]
  },
  {
   "cell_type": "markdown",
   "metadata": {},
   "source": [
    "# Geometry collections (optional)\n",
    "In some occassions it is useful to store multiple geometries (for example, several points or several polygons) in a single feature. \n",
    "\n",
    "A practical example would be a country that is composed of several islands. In such case, all these polygons share the same attributes on the country-level and it might be reasonable to store that country as geometry collection that contains all the polygons. The attribute table would then contain one row of information with country-level attributes, and the geometry related to those attributes would represent several polygon.\n",
    "\n",
    "In Shapely, collections of \n",
    "- points are implemented by using a MultiPoint -object, \n",
    "- collections of curves by using a MultiLineString -object, and \n",
    "- collections of surfaces by a MultiPolygon -object."
   ]
  },
  {
   "cell_type": "code",
   "execution_count": 219,
   "metadata": {},
   "outputs": [],
   "source": [
    "# Import constructors for creating geometry collections\n",
    "from shapely.geometry import MultiPoint, MultiLineString, MultiPolygon"
   ]
  },
  {
   "cell_type": "code",
   "execution_count": 227,
   "metadata": {},
   "outputs": [],
   "source": [
    "point1 = Point(36, -1)\n",
    "point2 = Point(37,  2)\n",
    "point3 = Point(36, -4)"
   ]
  },
  {
   "cell_type": "code",
   "execution_count": 229,
   "metadata": {},
   "outputs": [
    {
     "name": "stdout",
     "output_type": "stream",
     "text": [
      "MULTIPOINT (36 -1, 37 2, 36 -4)\n",
      "MULTILINESTRING ((36 -1, 37 2), (37 2, 36 -4))\n"
     ]
    }
   ],
   "source": [
    "# Create a MultiPoint object of our points 1,2 and 3\n",
    "multi_point = MultiPoint([point1, point2, point3])\n",
    "\n",
    "# It is also possible to pass coordinate tuples inside\n",
    "multi_point2 = MultiPoint([(2.2, 4.2), (7.2, -25.1), (9.26, -2.456)])\n",
    "\n",
    "# We can also create a MultiLineString with two lines\n",
    "line1 = LineString([point1, point2])\n",
    "line2 = LineString([point2, point3])\n",
    "multi_line = MultiLineString([line1, line2])\n",
    "\n",
    "# # Print object definitions\n",
    "print(multi_point)\n",
    "print(multi_line)"
   ]
  },
  {
   "cell_type": "code",
   "execution_count": 230,
   "metadata": {},
   "outputs": [
    {
     "data": {
      "image/svg+xml": [
       "<svg xmlns=\"http://www.w3.org/2000/svg\" xmlns:xlink=\"http://www.w3.org/1999/xlink\" width=\"100.0\" height=\"100.0\" viewBox=\"35.76 -4.24 1.480000000000004 6.48\" preserveAspectRatio=\"xMinYMin meet\"><g transform=\"matrix(1,0,0,-1,0,-2.0)\"><g><circle cx=\"36.0\" cy=\"-1.0\" r=\"0.19440000000000002\" stroke=\"#555555\" stroke-width=\"0.06480000000000001\" fill=\"#66cc99\" opacity=\"0.6\" /><circle cx=\"37.0\" cy=\"2.0\" r=\"0.19440000000000002\" stroke=\"#555555\" stroke-width=\"0.06480000000000001\" fill=\"#66cc99\" opacity=\"0.6\" /><circle cx=\"36.0\" cy=\"-4.0\" r=\"0.19440000000000002\" stroke=\"#555555\" stroke-width=\"0.06480000000000001\" fill=\"#66cc99\" opacity=\"0.6\" /></g></g></svg>"
      ],
      "text/plain": [
       "<shapely.geometry.multipoint.MultiPoint at 0x2a8d20315f8>"
      ]
     },
     "execution_count": 230,
     "metadata": {},
     "output_type": "execute_result"
    }
   ],
   "source": [
    "multi_point"
   ]
  },
  {
   "cell_type": "code",
   "execution_count": 231,
   "metadata": {},
   "outputs": [
    {
     "data": {
      "image/svg+xml": [
       "<svg xmlns=\"http://www.w3.org/2000/svg\" xmlns:xlink=\"http://www.w3.org/1999/xlink\" width=\"100.0\" height=\"100.0\" viewBox=\"35.76 -4.24 1.480000000000004 6.48\" preserveAspectRatio=\"xMinYMin meet\"><g transform=\"matrix(1,0,0,-1,0,-2.0)\"><g><polyline fill=\"none\" stroke=\"#66cc99\" stroke-width=\"0.12960000000000002\" points=\"36.0,-1.0 37.0,2.0\" opacity=\"0.8\" /><polyline fill=\"none\" stroke=\"#66cc99\" stroke-width=\"0.12960000000000002\" points=\"37.0,2.0 36.0,-4.0\" opacity=\"0.8\" /></g></g></svg>"
      ],
      "text/plain": [
       "<shapely.geometry.multilinestring.MultiLineString at 0x2a8d20440b8>"
      ]
     },
     "execution_count": 231,
     "metadata": {},
     "output_type": "execute_result"
    }
   ],
   "source": [
    "multi_line"
   ]
  },
  {
   "cell_type": "code",
   "execution_count": null,
   "metadata": {},
   "outputs": [],
   "source": [
    "# create a multipolygon from a list of polygons\n",
    "\n",
    "from shapely.geometry import  MultiPolygon, shape\n",
    "Multi = MultiPolygon([shape(pol['geometry']) for pol in fiona.open(data)])\n",
    "# Multi.wkt\n",
    "# Multi.wkb\n",
    "# Multi.wkt"
   ]
  },
  {
   "cell_type": "code",
   "execution_count": null,
   "metadata": {},
   "outputs": [],
   "source": []
  },
  {
   "cell_type": "markdown",
   "metadata": {},
   "source": [
    "## Real Working Example\n",
    "### First work on geopandas\n",
    "- Digital Divide Data Dataset - \n",
    "- Nairobi parcels \n",
    "        - adding columns\n",
    "        _ Grouping Parcels based on sub county/Zones\n",
    "        - filtering based on sub county name"
   ]
  },
  {
   "cell_type": "markdown",
   "metadata": {},
   "source": [
    "# Projections and Coordinate Reference System"
   ]
  },
  {
   "cell_type": "code",
   "execution_count": 232,
   "metadata": {},
   "outputs": [],
   "source": [
    "from pyproj import CRS"
   ]
  },
  {
   "cell_type": "code",
   "execution_count": 261,
   "metadata": {},
   "outputs": [],
   "source": [
    "nairobi = '../data/shp/Nairobi.shp'\n",
    "scounty = '../data/shp/SubCounty.shp'\n",
    "# plots = '../data/plots2.shp'\n",
    "plots = '../data/nairobi.shp'"
   ]
  },
  {
   "cell_type": "code",
   "execution_count": 247,
   "metadata": {
    "scrolled": true
   },
   "outputs": [
    {
     "data": {
      "text/plain": [
       "<Geographic 2D CRS: EPSG:4326>\n",
       "Name: WGS 84\n",
       "Axis Info [ellipsoidal]:\n",
       "- Lat[north]: Geodetic latitude (degree)\n",
       "- Lon[east]: Geodetic longitude (degree)\n",
       "Area of Use:\n",
       "- name: World\n",
       "- bounds: (-180.0, -90.0, 180.0, 90.0)\n",
       "Datum: World Geodetic System 1984\n",
       "- Ellipsoid: WGS 84\n",
       "- Prime Meridian: Greenwich"
      ]
     },
     "execution_count": 247,
     "metadata": {},
     "output_type": "execute_result"
    }
   ],
   "source": [
    "nairobi= gpd.read_file(nairobi)\n",
    "\n",
    "# check the coordinate reference system of the input shapefile\n",
    "nairobi.crs"
   ]
  },
  {
   "cell_type": "code",
   "execution_count": 248,
   "metadata": {},
   "outputs": [
    {
     "data": {
      "text/html": [
       "<div>\n",
       "<style scoped>\n",
       "    .dataframe tbody tr th:only-of-type {\n",
       "        vertical-align: middle;\n",
       "    }\n",
       "\n",
       "    .dataframe tbody tr th {\n",
       "        vertical-align: top;\n",
       "    }\n",
       "\n",
       "    .dataframe thead th {\n",
       "        text-align: right;\n",
       "    }\n",
       "</style>\n",
       "<table border=\"1\" class=\"dataframe\">\n",
       "  <thead>\n",
       "    <tr style=\"text-align: right;\">\n",
       "      <th></th>\n",
       "      <th>minx</th>\n",
       "      <th>miny</th>\n",
       "      <th>maxx</th>\n",
       "      <th>maxy</th>\n",
       "    </tr>\n",
       "  </thead>\n",
       "  <tbody>\n",
       "    <tr>\n",
       "      <th>0</th>\n",
       "      <td>36.65987</td>\n",
       "      <td>-1.44406</td>\n",
       "      <td>37.104515</td>\n",
       "      <td>-1.160105</td>\n",
       "    </tr>\n",
       "  </tbody>\n",
       "</table>\n",
       "</div>"
      ],
      "text/plain": [
       "       minx     miny       maxx      maxy\n",
       "0  36.65987 -1.44406  37.104515 -1.160105"
      ]
     },
     "execution_count": 248,
     "metadata": {},
     "output_type": "execute_result"
    }
   ],
   "source": [
    "nairobi.bounds"
   ]
  },
  {
   "cell_type": "code",
   "execution_count": 249,
   "metadata": {},
   "outputs": [
    {
     "data": {
      "text/plain": [
       "<matplotlib.axes._subplots.AxesSubplot at 0x2a8d215e3c8>"
      ]
     },
     "execution_count": 249,
     "metadata": {},
     "output_type": "execute_result"
    },
    {
     "data": {
      "image/png": "[encoded data removed]",
      "text/plain": [
       "<Figure size 432x288 with 1 Axes>"
      ]
     },
     "metadata": {
      "needs_background": "light"
     },
     "output_type": "display_data"
    }
   ],
   "source": [
    "nairobi.plot()"
   ]
  },
  {
   "cell_type": "markdown",
   "metadata": {},
   "source": [
    "## Converting the coordinate system of the input shapefile"
   ]
  },
  {
   "cell_type": "code",
   "execution_count": 250,
   "metadata": {},
   "outputs": [
    {
     "data": {
      "text/plain": [
       "<Projected CRS: EPSG:21037>\n",
       "Name: Arc 1960 / UTM zone 37S\n",
       "Axis Info [cartesian]:\n",
       "- E[east]: Easting (metre)\n",
       "- N[north]: Northing (metre)\n",
       "Area of Use:\n",
       "- name: Africa - Kenya and Tanzania - south of equator and east of 36°E\n",
       "- bounds: (36.0, -11.75, 41.6, 0.0)\n",
       "Coordinate Operation:\n",
       "- name: UTM zone 37S\n",
       "- method: Transverse Mercator\n",
       "Datum: Arc 1960\n",
       "- Ellipsoid: Clarke 1880 (RGS)\n",
       "- Prime Meridian: Greenwich"
      ]
     },
     "execution_count": 250,
     "metadata": {},
     "output_type": "execute_result"
    }
   ],
   "source": [
    "nairobi = nairobi.to_crs(CRS('EPSG:21037'))\n",
    "nairobi.crs"
   ]
  },
  {
   "cell_type": "code",
   "execution_count": 251,
   "metadata": {},
   "outputs": [],
   "source": [
    "# reading the shapefile as geodataframe\n",
    "plots = gpd.read_file(plots) \n",
    "# plots\n",
    "# plots.crs\n",
    "# plots.head()"
   ]
  },
  {
   "cell_type": "code",
   "execution_count": 253,
   "metadata": {},
   "outputs": [
    {
     "data": {
      "text/plain": [
       "<Geographic 2D CRS: EPSG:4326>\n",
       "Name: WGS 84\n",
       "Axis Info [ellipsoidal]:\n",
       "- Lat[north]: Geodetic latitude (degree)\n",
       "- Lon[east]: Geodetic longitude (degree)\n",
       "Area of Use:\n",
       "- name: World\n",
       "- bounds: (-180.0, -90.0, 180.0, 90.0)\n",
       "Datum: World Geodetic System 1984\n",
       "- Ellipsoid: WGS 84\n",
       "- Prime Meridian: Greenwich"
      ]
     },
     "execution_count": 253,
     "metadata": {},
     "output_type": "execute_result"
    }
   ],
   "source": [
    "plots.crs"
   ]
  },
  {
   "cell_type": "code",
   "execution_count": 252,
   "metadata": {},
   "outputs": [
    {
     "data": {
      "text/html": [
       "<div>\n",
       "<style scoped>\n",
       "    .dataframe tbody tr th:only-of-type {\n",
       "        vertical-align: middle;\n",
       "    }\n",
       "\n",
       "    .dataframe tbody tr th {\n",
       "        vertical-align: top;\n",
       "    }\n",
       "\n",
       "    .dataframe thead th {\n",
       "        text-align: right;\n",
       "    }\n",
       "</style>\n",
       "<table border=\"1\" class=\"dataframe\">\n",
       "  <thead>\n",
       "    <tr style=\"text-align: right;\">\n",
       "      <th></th>\n",
       "      <th>AreaH</th>\n",
       "      <th>PerM</th>\n",
       "      <th>AreaM</th>\n",
       "      <th>PlotNo</th>\n",
       "      <th>LRNumber</th>\n",
       "      <th>geometry</th>\n",
       "    </tr>\n",
       "  </thead>\n",
       "  <tbody>\n",
       "    <tr>\n",
       "      <th>0</th>\n",
       "      <td>0.075741</td>\n",
       "      <td>113.8550</td>\n",
       "      <td>757.413</td>\n",
       "      <td>1000</td>\n",
       "      <td>LRNO/1000</td>\n",
       "      <td>POLYGON ((36.87962 -1.28471, 36.87955 -1.28454...</td>\n",
       "    </tr>\n",
       "    <tr>\n",
       "      <th>1</th>\n",
       "      <td>0.015678</td>\n",
       "      <td>64.2584</td>\n",
       "      <td>156.776</td>\n",
       "      <td>1001</td>\n",
       "      <td>LRNO/1001</td>\n",
       "      <td>POLYGON ((36.87969 -1.28489, 36.87967 -1.28484...</td>\n",
       "    </tr>\n",
       "    <tr>\n",
       "      <th>2</th>\n",
       "      <td>0.015935</td>\n",
       "      <td>64.4557</td>\n",
       "      <td>159.353</td>\n",
       "      <td>1002</td>\n",
       "      <td>LRNO/1002</td>\n",
       "      <td>POLYGON ((36.88004 -1.28490, 36.87982 -1.28499...</td>\n",
       "    </tr>\n",
       "    <tr>\n",
       "      <th>3</th>\n",
       "      <td>0.015678</td>\n",
       "      <td>64.2601</td>\n",
       "      <td>156.781</td>\n",
       "      <td>1003</td>\n",
       "      <td>LRNO/1003</td>\n",
       "      <td>POLYGON ((36.88008 -1.28500, 36.87986 -1.28509...</td>\n",
       "    </tr>\n",
       "    <tr>\n",
       "      <th>4</th>\n",
       "      <td>0.015678</td>\n",
       "      <td>64.2601</td>\n",
       "      <td>156.781</td>\n",
       "      <td>1004</td>\n",
       "      <td>LRNO/1004</td>\n",
       "      <td>POLYGON ((36.87988 -1.28514, 36.87986 -1.28509...</td>\n",
       "    </tr>\n",
       "  </tbody>\n",
       "</table>\n",
       "</div>"
      ],
      "text/plain": [
       "      AreaH      PerM    AreaM  PlotNo   LRNumber  \\\n",
       "0  0.075741  113.8550  757.413    1000  LRNO/1000   \n",
       "1  0.015678   64.2584  156.776    1001  LRNO/1001   \n",
       "2  0.015935   64.4557  159.353    1002  LRNO/1002   \n",
       "3  0.015678   64.2601  156.781    1003  LRNO/1003   \n",
       "4  0.015678   64.2601  156.781    1004  LRNO/1004   \n",
       "\n",
       "                                            geometry  \n",
       "0  POLYGON ((36.87962 -1.28471, 36.87955 -1.28454...  \n",
       "1  POLYGON ((36.87969 -1.28489, 36.87967 -1.28484...  \n",
       "2  POLYGON ((36.88004 -1.28490, 36.87982 -1.28499...  \n",
       "3  POLYGON ((36.88008 -1.28500, 36.87986 -1.28509...  \n",
       "4  POLYGON ((36.87988 -1.28514, 36.87986 -1.28509...  "
      ]
     },
     "execution_count": 252,
     "metadata": {},
     "output_type": "execute_result"
    }
   ],
   "source": [
    "plots.head()"
   ]
  },
  {
   "cell_type": "markdown",
   "metadata": {},
   "source": [
    "## link to wikipedia\n",
    "\n",
    "##### http://50.57.85.98/crs_21037/Arc-1960-UTM-zone-37S.html#:~:text=Arc%201960%20%2F%20UTM%20zone%2037S%20is%20a%20projected%20CRS%20last,Transverse%20Mercator)%20as%20its%20projection."
   ]
  },
  {
   "cell_type": "code",
   "execution_count": 254,
   "metadata": {},
   "outputs": [
    {
     "data": {
      "text/plain": [
       "<Projected CRS: EPSG:21037>\n",
       "Name: Arc 1960 / UTM zone 37S\n",
       "Axis Info [cartesian]:\n",
       "- E[east]: Easting (metre)\n",
       "- N[north]: Northing (metre)\n",
       "Area of Use:\n",
       "- name: Africa - Kenya and Tanzania - south of equator and east of 36°E\n",
       "- bounds: (36.0, -11.75, 41.6, 0.0)\n",
       "Coordinate Operation:\n",
       "- name: UTM zone 37S\n",
       "- method: Transverse Mercator\n",
       "Datum: Arc 1960\n",
       "- Ellipsoid: Clarke 1880 (RGS)\n",
       "- Prime Meridian: Greenwich"
      ]
     },
     "execution_count": 254,
     "metadata": {},
     "output_type": "execute_result"
    }
   ],
   "source": [
    "# concert to projected coordinate system Arc 1960 UTM ZONE 37 S\n",
    "\n",
    "plotsProjected = plots.to_crs(CRS('EPSG:21037'))\n",
    "plotsProjected.crs"
   ]
  },
  {
   "cell_type": "code",
   "execution_count": 258,
   "metadata": {},
   "outputs": [
    {
     "data": {
      "text/html": [
       "<div>\n",
       "<style scoped>\n",
       "    .dataframe tbody tr th:only-of-type {\n",
       "        vertical-align: middle;\n",
       "    }\n",
       "\n",
       "    .dataframe tbody tr th {\n",
       "        vertical-align: top;\n",
       "    }\n",
       "\n",
       "    .dataframe thead th {\n",
       "        text-align: right;\n",
       "    }\n",
       "</style>\n",
       "<table border=\"1\" class=\"dataframe\">\n",
       "  <thead>\n",
       "    <tr style=\"text-align: right;\">\n",
       "      <th></th>\n",
       "      <th>AreaH</th>\n",
       "      <th>PerM</th>\n",
       "      <th>AreaM</th>\n",
       "      <th>PlotNo</th>\n",
       "      <th>LRNumber</th>\n",
       "      <th>geometry</th>\n",
       "      <th>area_m2</th>\n",
       "      <th>area_ha</th>\n",
       "      <th>area_km2</th>\n",
       "    </tr>\n",
       "  </thead>\n",
       "  <tbody>\n",
       "    <tr>\n",
       "      <th>0</th>\n",
       "      <td>0.075741</td>\n",
       "      <td>113.8550</td>\n",
       "      <td>757.413</td>\n",
       "      <td>1000</td>\n",
       "      <td>LRNO/1000</td>\n",
       "      <td>POLYGON ((263964.362 9858204.763, 263956.512 9...</td>\n",
       "      <td>757.411708</td>\n",
       "      <td>0.075741</td>\n",
       "      <td>0.000757</td>\n",
       "    </tr>\n",
       "    <tr>\n",
       "      <th>1</th>\n",
       "      <td>0.015678</td>\n",
       "      <td>64.2584</td>\n",
       "      <td>156.776</td>\n",
       "      <td>1001</td>\n",
       "      <td>LRNO/1001</td>\n",
       "      <td>POLYGON ((263972.189 9858185.172, 263969.966 9...</td>\n",
       "      <td>156.775472</td>\n",
       "      <td>0.015678</td>\n",
       "      <td>0.000157</td>\n",
       "    </tr>\n",
       "    <tr>\n",
       "      <th>2</th>\n",
       "      <td>0.015935</td>\n",
       "      <td>64.4557</td>\n",
       "      <td>159.353</td>\n",
       "      <td>1002</td>\n",
       "      <td>LRNO/1002</td>\n",
       "      <td>POLYGON ((264011.002 9858184.290, 263986.733 9...</td>\n",
       "      <td>159.352886</td>\n",
       "      <td>0.015935</td>\n",
       "      <td>0.000159</td>\n",
       "    </tr>\n",
       "    <tr>\n",
       "      <th>3</th>\n",
       "      <td>0.015678</td>\n",
       "      <td>64.2601</td>\n",
       "      <td>156.781</td>\n",
       "      <td>1003</td>\n",
       "      <td>LRNO/1003</td>\n",
       "      <td>POLYGON ((264015.449 9858173.145, 263991.179 9...</td>\n",
       "      <td>156.780479</td>\n",
       "      <td>0.015678</td>\n",
       "      <td>0.000157</td>\n",
       "    </tr>\n",
       "    <tr>\n",
       "      <th>4</th>\n",
       "      <td>0.015678</td>\n",
       "      <td>64.2601</td>\n",
       "      <td>156.781</td>\n",
       "      <td>1004</td>\n",
       "      <td>LRNO/1004</td>\n",
       "      <td>POLYGON ((263993.402 9858157.889, 263991.179 9...</td>\n",
       "      <td>156.780479</td>\n",
       "      <td>0.015678</td>\n",
       "      <td>0.000157</td>\n",
       "    </tr>\n",
       "  </tbody>\n",
       "</table>\n",
       "</div>"
      ],
      "text/plain": [
       "      AreaH      PerM    AreaM  PlotNo   LRNumber  \\\n",
       "0  0.075741  113.8550  757.413    1000  LRNO/1000   \n",
       "1  0.015678   64.2584  156.776    1001  LRNO/1001   \n",
       "2  0.015935   64.4557  159.353    1002  LRNO/1002   \n",
       "3  0.015678   64.2601  156.781    1003  LRNO/1003   \n",
       "4  0.015678   64.2601  156.781    1004  LRNO/1004   \n",
       "\n",
       "                                            geometry     area_m2   area_ha  \\\n",
       "0  POLYGON ((263964.362 9858204.763, 263956.512 9...  757.411708  0.075741   \n",
       "1  POLYGON ((263972.189 9858185.172, 263969.966 9...  156.775472  0.015678   \n",
       "2  POLYGON ((264011.002 9858184.290, 263986.733 9...  159.352886  0.015935   \n",
       "3  POLYGON ((264015.449 9858173.145, 263991.179 9...  156.780479  0.015678   \n",
       "4  POLYGON ((263993.402 9858157.889, 263991.179 9...  156.780479  0.015678   \n",
       "\n",
       "   area_km2  \n",
       "0  0.000757  \n",
       "1  0.000157  \n",
       "2  0.000159  \n",
       "3  0.000157  \n",
       "4  0.000157  "
      ]
     },
     "execution_count": 258,
     "metadata": {},
     "output_type": "execute_result"
    }
   ],
   "source": [
    "# Adding columns to a geodata frame\n",
    "plotsProjected['area_m2'] = plotsProjected.area \n",
    "\n",
    "# area in hectares\n",
    "plotsProjected['area_ha'] = plotsProjected.area / 10000\n",
    "\n",
    "# Add column with Area in kilometers\n",
    "plotsProjected['area_km2'] = plotsProjected.area / 1000000\n",
    "\n",
    "\n",
    "plotsProjected.head()"
   ]
  },
  {
   "cell_type": "code",
   "execution_count": null,
   "metadata": {},
   "outputs": [],
   "source": [
    "# Deleteing colums\n",
    "# del gdf_slice['owner_id']\n",
    "# del gdf_slice['AreaM']\n",
    "# gdf_slice\n",
    "# gdf_slice.to_file('plots2.shp')"
   ]
  },
  {
   "cell_type": "code",
   "execution_count": null,
   "metadata": {},
   "outputs": [],
   "source": [
    "# save to file\n",
    "plots.to_file('your_file_with_area.geojson', driver='GeoJSON')"
   ]
  },
  {
   "cell_type": "markdown",
   "metadata": {},
   "source": [
    "# PRACTICAL"
   ]
  },
  {
   "cell_type": "markdown",
   "metadata": {},
   "source": [
    "## QUESTION\n",
    "### 1 Find Parcels that are within a certain subcounty(Westlands)?\n",
    "### Procedure\n",
    "1. Read first the shapefiles required using geopandas.\n",
    "2. Check if both shapefiles have the same coordinate reference systems.\n",
    "3. Filter the SubCounties GeodataFrame to only return the row with the required SubCounty\n",
    "4. Use spatial join to check for spatial correlation between subcounties and parcels of land.\n",
    "       - This can be acheived through the following spatial relation\n",
    "           - within\n",
    "           - contains\n",
    "           - touches\n",
    "           - intersects\n",
    "           - overlaps\n",
    "5. Save the result to a new shapefile"
   ]
  },
  {
   "cell_type": "code",
   "execution_count": null,
   "metadata": {},
   "outputs": [],
   "source": []
  },
  {
   "cell_type": "markdown",
   "metadata": {},
   "source": [
    "### 1 Reading in the shapefile using geopandas\n"
   ]
  },
  {
   "cell_type": "code",
   "execution_count": 389,
   "metadata": {},
   "outputs": [],
   "source": [
    "# nairobi = '../data/shp/Nairobi.shp'\n",
    "scounties = '../data/shp/SubCounty.shp'\n",
    "kenyaSubCounties = '../data/Kenya_subcounties.shp'\n",
    "plots = '../data/nairobi.shp'"
   ]
  },
  {
   "cell_type": "markdown",
   "metadata": {},
   "source": [
    "###  Generating the Geodataframes from each shapefile\n",
    "#### A GeoDataFrame is a tabular data structure that contains a column which contains a GeoSeries storing geometry. Whereas\n",
    "#### A GeoSeries is a series object designed to store shapely geometry objects."
   ]
  },
  {
   "cell_type": "code",
   "execution_count": 390,
   "metadata": {},
   "outputs": [],
   "source": [
    "# Generating the geodataframes from each shapefile\n",
    "kenyaSubCounty =gpd.read_file(kenyaSubCounties)\n",
    "\n",
    "scounty = gpd.read_file(scounties)\n",
    "\n",
    "parcels = gpd.read_file(plots)"
   ]
  },
  {
   "cell_type": "code",
   "execution_count": 345,
   "metadata": {},
   "outputs": [
    {
     "data": {
      "text/html": [
       "<div>\n",
       "<style scoped>\n",
       "    .dataframe tbody tr th:only-of-type {\n",
       "        vertical-align: middle;\n",
       "    }\n",
       "\n",
       "    .dataframe tbody tr th {\n",
       "        vertical-align: top;\n",
       "    }\n",
       "\n",
       "    .dataframe thead th {\n",
       "        text-align: right;\n",
       "    }\n",
       "</style>\n",
       "<table border=\"1\" class=\"dataframe\">\n",
       "  <thead>\n",
       "    <tr style=\"text-align: right;\">\n",
       "      <th></th>\n",
       "      <th>Shape_Leng</th>\n",
       "      <th>Shape_Area</th>\n",
       "      <th>ADM2_EN</th>\n",
       "      <th>ADM2_PCODE</th>\n",
       "      <th>ADM2_REF</th>\n",
       "      <th>ADM2ALT1EN</th>\n",
       "      <th>ADM2ALT2EN</th>\n",
       "      <th>ADM1_EN</th>\n",
       "      <th>ADM1_PCODE</th>\n",
       "      <th>ADM0_EN</th>\n",
       "      <th>ADM0_PCODE</th>\n",
       "      <th>date</th>\n",
       "      <th>validOn</th>\n",
       "      <th>ValidTo</th>\n",
       "      <th>geometry</th>\n",
       "    </tr>\n",
       "  </thead>\n",
       "  <tbody>\n",
       "    <tr>\n",
       "      <th>0</th>\n",
       "      <td>1.746986</td>\n",
       "      <td>0.040829</td>\n",
       "      <td>Ainabkoi</td>\n",
       "      <td>KE027144</td>\n",
       "      <td>None</td>\n",
       "      <td>None</td>\n",
       "      <td>None</td>\n",
       "      <td>Uasin Gishu</td>\n",
       "      <td>KE027</td>\n",
       "      <td>Kenya</td>\n",
       "      <td>KE</td>\n",
       "      <td>2017-11-03</td>\n",
       "      <td>2019-10-31</td>\n",
       "      <td>None</td>\n",
       "      <td>POLYGON ((35.35933 0.52108, 35.36047 0.52079, ...</td>\n",
       "    </tr>\n",
       "    <tr>\n",
       "      <th>1</th>\n",
       "      <td>0.917307</td>\n",
       "      <td>0.019957</td>\n",
       "      <td>Ainamoi</td>\n",
       "      <td>KE035190</td>\n",
       "      <td>None</td>\n",
       "      <td>None</td>\n",
       "      <td>None</td>\n",
       "      <td>Kericho</td>\n",
       "      <td>KE035</td>\n",
       "      <td>Kenya</td>\n",
       "      <td>KE</td>\n",
       "      <td>2017-11-03</td>\n",
       "      <td>2019-10-31</td>\n",
       "      <td>None</td>\n",
       "      <td>POLYGON ((35.26262 -0.23064, 35.26395 -0.23135...</td>\n",
       "    </tr>\n",
       "  </tbody>\n",
       "</table>\n",
       "</div>"
      ],
      "text/plain": [
       "   Shape_Leng  Shape_Area   ADM2_EN ADM2_PCODE ADM2_REF ADM2ALT1EN ADM2ALT2EN  \\\n",
       "0    1.746986    0.040829  Ainabkoi   KE027144     None       None       None   \n",
       "1    0.917307    0.019957   Ainamoi   KE035190     None       None       None   \n",
       "\n",
       "       ADM1_EN ADM1_PCODE ADM0_EN ADM0_PCODE        date     validOn ValidTo  \\\n",
       "0  Uasin Gishu      KE027   Kenya         KE  2017-11-03  2019-10-31    None   \n",
       "1      Kericho      KE035   Kenya         KE  2017-11-03  2019-10-31    None   \n",
       "\n",
       "                                            geometry  \n",
       "0  POLYGON ((35.35933 0.52108, 35.36047 0.52079, ...  \n",
       "1  POLYGON ((35.26262 -0.23064, 35.26395 -0.23135...  "
      ]
     },
     "execution_count": 345,
     "metadata": {},
     "output_type": "execute_result"
    }
   ],
   "source": [
    "kenyaSubCounty.head(2)"
   ]
  },
  {
   "cell_type": "code",
   "execution_count": 346,
   "metadata": {
    "scrolled": true
   },
   "outputs": [
    {
     "data": {
      "text/html": [
       "<div>\n",
       "<style scoped>\n",
       "    .dataframe tbody tr th:only-of-type {\n",
       "        vertical-align: middle;\n",
       "    }\n",
       "\n",
       "    .dataframe tbody tr th {\n",
       "        vertical-align: top;\n",
       "    }\n",
       "\n",
       "    .dataframe thead th {\n",
       "        text-align: right;\n",
       "    }\n",
       "</style>\n",
       "<table border=\"1\" class=\"dataframe\">\n",
       "  <thead>\n",
       "    <tr style=\"text-align: right;\">\n",
       "      <th></th>\n",
       "      <th>AreaH</th>\n",
       "      <th>PerM</th>\n",
       "      <th>AreaM</th>\n",
       "      <th>PlotNo</th>\n",
       "      <th>LRNumber</th>\n",
       "      <th>geometry</th>\n",
       "    </tr>\n",
       "  </thead>\n",
       "  <tbody>\n",
       "    <tr>\n",
       "      <th>0</th>\n",
       "      <td>0.075741</td>\n",
       "      <td>113.8550</td>\n",
       "      <td>757.413</td>\n",
       "      <td>1000</td>\n",
       "      <td>LRNO/1000</td>\n",
       "      <td>POLYGON ((36.87962 -1.28471, 36.87955 -1.28454...</td>\n",
       "    </tr>\n",
       "    <tr>\n",
       "      <th>1</th>\n",
       "      <td>0.015678</td>\n",
       "      <td>64.2584</td>\n",
       "      <td>156.776</td>\n",
       "      <td>1001</td>\n",
       "      <td>LRNO/1001</td>\n",
       "      <td>POLYGON ((36.87969 -1.28489, 36.87967 -1.28484...</td>\n",
       "    </tr>\n",
       "  </tbody>\n",
       "</table>\n",
       "</div>"
      ],
      "text/plain": [
       "      AreaH      PerM    AreaM  PlotNo   LRNumber  \\\n",
       "0  0.075741  113.8550  757.413    1000  LRNO/1000   \n",
       "1  0.015678   64.2584  156.776    1001  LRNO/1001   \n",
       "\n",
       "                                            geometry  \n",
       "0  POLYGON ((36.87962 -1.28471, 36.87955 -1.28454...  \n",
       "1  POLYGON ((36.87969 -1.28489, 36.87967 -1.28484...  "
      ]
     },
     "execution_count": 346,
     "metadata": {},
     "output_type": "execute_result"
    }
   ],
   "source": [
    "parcels.head(2)"
   ]
  },
  {
   "cell_type": "code",
   "execution_count": 467,
   "metadata": {},
   "outputs": [],
   "source": [
    "# Assigning Each Parcel Random Priced\n",
    "import numpy as np\n",
    "\n",
    "# Define price ranges\n",
    "price_ranges = {\n",
    "    'low': (1000000, 5000000),\n",
    "    'medium': (5000000, 10000000),\n",
    "    'high': (10000000, 50000000)\n",
    "}\n",
    "\n",
    "# Assign prices to parcels based on price ranges\n",
    "parcel_prices = np.random.choice(list(price_ranges.keys()), size=len(parcels))\n",
    "\n",
    "\n",
    "for price_range, (min_price, max_price) in price_ranges.items():\n",
    "    mask = parcel_prices == price_range\n",
    "    parcel_prices[mask] = np.random.randint(min_price, max_price, size=mask.sum())\n",
    "\n",
    "    \n",
    "# Add parcel prices as a new column to the parcels geodataframe\n",
    "parcels['price'] = parcel_prices\n"
   ]
  },
  {
   "cell_type": "code",
   "execution_count": 468,
   "metadata": {},
   "outputs": [
    {
     "data": {
      "text/html": [
       "<div>\n",
       "<style scoped>\n",
       "    .dataframe tbody tr th:only-of-type {\n",
       "        vertical-align: middle;\n",
       "    }\n",
       "\n",
       "    .dataframe tbody tr th {\n",
       "        vertical-align: top;\n",
       "    }\n",
       "\n",
       "    .dataframe thead th {\n",
       "        text-align: right;\n",
       "    }\n",
       "</style>\n",
       "<table border=\"1\" class=\"dataframe\">\n",
       "  <thead>\n",
       "    <tr style=\"text-align: right;\">\n",
       "      <th></th>\n",
       "      <th>AreaH</th>\n",
       "      <th>PerM</th>\n",
       "      <th>AreaM</th>\n",
       "      <th>PlotNo</th>\n",
       "      <th>LRNumber</th>\n",
       "      <th>geometry</th>\n",
       "      <th>price</th>\n",
       "    </tr>\n",
       "  </thead>\n",
       "  <tbody>\n",
       "    <tr>\n",
       "      <th>0</th>\n",
       "      <td>0.075741</td>\n",
       "      <td>113.8550</td>\n",
       "      <td>757.413</td>\n",
       "      <td>1000</td>\n",
       "      <td>LRNO/1000</td>\n",
       "      <td>POLYGON ((36.87962 -1.28471, 36.87955 -1.28454...</td>\n",
       "      <td>134103</td>\n",
       "    </tr>\n",
       "    <tr>\n",
       "      <th>1</th>\n",
       "      <td>0.015678</td>\n",
       "      <td>64.2584</td>\n",
       "      <td>156.776</td>\n",
       "      <td>1001</td>\n",
       "      <td>LRNO/1001</td>\n",
       "      <td>POLYGON ((36.87969 -1.28489, 36.87967 -1.28484...</td>\n",
       "      <td>155866</td>\n",
       "    </tr>\n",
       "  </tbody>\n",
       "</table>\n",
       "</div>"
      ],
      "text/plain": [
       "      AreaH      PerM    AreaM  PlotNo   LRNumber  \\\n",
       "0  0.075741  113.8550  757.413    1000  LRNO/1000   \n",
       "1  0.015678   64.2584  156.776    1001  LRNO/1001   \n",
       "\n",
       "                                            geometry   price  \n",
       "0  POLYGON ((36.87962 -1.28471, 36.87955 -1.28454...  134103  \n",
       "1  POLYGON ((36.87969 -1.28489, 36.87967 -1.28484...  155866  "
      ]
     },
     "execution_count": 468,
     "metadata": {},
     "output_type": "execute_result"
    }
   ],
   "source": [
    "parcels.head(2)"
   ]
  },
  {
   "cell_type": "code",
   "execution_count": 347,
   "metadata": {},
   "outputs": [
    {
     "data": {
      "text/html": [
       "<div>\n",
       "<style scoped>\n",
       "    .dataframe tbody tr th:only-of-type {\n",
       "        vertical-align: middle;\n",
       "    }\n",
       "\n",
       "    .dataframe tbody tr th {\n",
       "        vertical-align: top;\n",
       "    }\n",
       "\n",
       "    .dataframe thead th {\n",
       "        text-align: right;\n",
       "    }\n",
       "</style>\n",
       "<table border=\"1\" class=\"dataframe\">\n",
       "  <thead>\n",
       "    <tr style=\"text-align: right;\">\n",
       "      <th></th>\n",
       "      <th>Shape_Leng</th>\n",
       "      <th>Shape_Area</th>\n",
       "      <th>ADM2_EN</th>\n",
       "      <th>ADM2_PCODE</th>\n",
       "      <th>ADM2_REF</th>\n",
       "      <th>ADM2ALT1EN</th>\n",
       "      <th>ADM2ALT2EN</th>\n",
       "      <th>ADM1_EN</th>\n",
       "      <th>ADM1_PCODE</th>\n",
       "      <th>ADM0_EN</th>\n",
       "      <th>ADM0_PCODE</th>\n",
       "      <th>date</th>\n",
       "      <th>validOn</th>\n",
       "      <th>ValidTo</th>\n",
       "      <th>geometry</th>\n",
       "    </tr>\n",
       "  </thead>\n",
       "  <tbody>\n",
       "    <tr>\n",
       "      <th>33</th>\n",
       "      <td>0.267128</td>\n",
       "      <td>0.001986</td>\n",
       "      <td>Dagoretti</td>\n",
       "      <td>KE047276</td>\n",
       "      <td>None</td>\n",
       "      <td>None</td>\n",
       "      <td>None</td>\n",
       "      <td>Nairobi</td>\n",
       "      <td>KE047</td>\n",
       "      <td>Kenya</td>\n",
       "      <td>KE</td>\n",
       "      <td>2017-11-03</td>\n",
       "      <td>2019-10-31</td>\n",
       "      <td>None</td>\n",
       "      <td>POLYGON ((36.71748 -1.25983, 36.71854 -1.26081...</td>\n",
       "    </tr>\n",
       "    <tr>\n",
       "      <th>37</th>\n",
       "      <td>0.130085</td>\n",
       "      <td>0.000665</td>\n",
       "      <td>Embakasi Central</td>\n",
       "      <td>KE047284</td>\n",
       "      <td>None</td>\n",
       "      <td>None</td>\n",
       "      <td>None</td>\n",
       "      <td>Nairobi</td>\n",
       "      <td>KE047</td>\n",
       "      <td>Kenya</td>\n",
       "      <td>KE</td>\n",
       "      <td>2017-11-03</td>\n",
       "      <td>2019-10-31</td>\n",
       "      <td>None</td>\n",
       "      <td>POLYGON ((36.93617 -1.25759, 36.93801 -1.26309...</td>\n",
       "    </tr>\n",
       "  </tbody>\n",
       "</table>\n",
       "</div>"
      ],
      "text/plain": [
       "    Shape_Leng  Shape_Area           ADM2_EN ADM2_PCODE ADM2_REF ADM2ALT1EN  \\\n",
       "33    0.267128    0.001986         Dagoretti   KE047276     None       None   \n",
       "37    0.130085    0.000665  Embakasi Central   KE047284     None       None   \n",
       "\n",
       "   ADM2ALT2EN  ADM1_EN ADM1_PCODE ADM0_EN ADM0_PCODE        date     validOn  \\\n",
       "33       None  Nairobi      KE047   Kenya         KE  2017-11-03  2019-10-31   \n",
       "37       None  Nairobi      KE047   Kenya         KE  2017-11-03  2019-10-31   \n",
       "\n",
       "   ValidTo                                           geometry  \n",
       "33    None  POLYGON ((36.71748 -1.25983, 36.71854 -1.26081...  \n",
       "37    None  POLYGON ((36.93617 -1.25759, 36.93801 -1.26309...  "
      ]
     },
     "execution_count": 347,
     "metadata": {},
     "output_type": "execute_result"
    }
   ],
   "source": [
    "# getting Subcounties in Nairobi\n",
    "\n",
    "subcounties = kenyaSubCounty[kenyaSubCounty['ADM1_EN'] == 'Nairobi']\n",
    "\n",
    "subcounties.head(2)"
   ]
  },
  {
   "cell_type": "code",
   "execution_count": 348,
   "metadata": {},
   "outputs": [
    {
     "data": {
      "text/html": [
       "<div>\n",
       "<style scoped>\n",
       "    .dataframe tbody tr th:only-of-type {\n",
       "        vertical-align: middle;\n",
       "    }\n",
       "\n",
       "    .dataframe tbody tr th {\n",
       "        vertical-align: top;\n",
       "    }\n",
       "\n",
       "    .dataframe thead th {\n",
       "        text-align: right;\n",
       "    }\n",
       "</style>\n",
       "<table border=\"1\" class=\"dataframe\">\n",
       "  <thead>\n",
       "    <tr style=\"text-align: right;\">\n",
       "      <th></th>\n",
       "      <th>ADM2_EN</th>\n",
       "      <th>ADM1_EN</th>\n",
       "      <th>geometry</th>\n",
       "    </tr>\n",
       "  </thead>\n",
       "  <tbody>\n",
       "    <tr>\n",
       "      <th>33</th>\n",
       "      <td>Dagoretti</td>\n",
       "      <td>Nairobi</td>\n",
       "      <td>POLYGON ((36.71748 -1.25983, 36.71854 -1.26081...</td>\n",
       "    </tr>\n",
       "    <tr>\n",
       "      <th>37</th>\n",
       "      <td>Embakasi Central</td>\n",
       "      <td>Nairobi</td>\n",
       "      <td>POLYGON ((36.93617 -1.25759, 36.93801 -1.26309...</td>\n",
       "    </tr>\n",
       "  </tbody>\n",
       "</table>\n",
       "</div>"
      ],
      "text/plain": [
       "             ADM2_EN  ADM1_EN  \\\n",
       "33         Dagoretti  Nairobi   \n",
       "37  Embakasi Central  Nairobi   \n",
       "\n",
       "                                             geometry  \n",
       "33  POLYGON ((36.71748 -1.25983, 36.71854 -1.26081...  \n",
       "37  POLYGON ((36.93617 -1.25759, 36.93801 -1.26309...  "
      ]
     },
     "execution_count": 348,
     "metadata": {},
     "output_type": "execute_result"
    }
   ],
   "source": [
    "# Deleteing colums\n",
    "# del subcounties['Shape_Leng']\n",
    "\n",
    "\n",
    "columns_to_drop = ['Shape_Leng', 'Shape_Area', 'ADM2_PCODE', 'ADM2_REF','ADM2ALT1EN','ADM2ALT2EN','ADM1_PCODE',\n",
    "                   'ADM0_EN','ADM0_PCODE','date','validOn','ValidTo']\n",
    "\n",
    "subcounties = subcounties.drop(columns_to_drop, axis=1)\n",
    "\n",
    "subcounties.head(2)\n",
    "\n",
    "# Save to file \n",
    "# subcounties.to_file('plots2.shp')"
   ]
  },
  {
   "cell_type": "markdown",
   "metadata": {},
   "source": [
    "## Preparing the datasets\n",
    "\n",
    "### Check the coordinate reference system of the two shapefiles and make sure they match: python"
   ]
  },
  {
   "cell_type": "code",
   "execution_count": 349,
   "metadata": {},
   "outputs": [
    {
     "name": "stdout",
     "output_type": "stream",
     "text": [
      "epsg:4326\n",
      "epsg:4326\n"
     ]
    }
   ],
   "source": [
    "# Check the coordinate reference system of the two shapefiles and make sure they match: python\n",
    "\n",
    "print(subcounties.crs)\n",
    "print(parcels.crs)"
   ]
  },
  {
   "cell_type": "code",
   "execution_count": 350,
   "metadata": {},
   "outputs": [],
   "source": [
    "\"\"\"\n",
    "If they do not match, you will need to reproject one of the shapefiles so that they have the same \n",
    "coordinate reference system. \n",
    "\n",
    "You can use the to_crs() method for this. \"\"\"\n",
    "\n",
    "parcels = parcels.to_crs(subcounties.crs)"
   ]
  },
  {
   "cell_type": "code",
   "execution_count": 469,
   "metadata": {},
   "outputs": [
    {
     "data": {
      "text/html": [
       "<div>\n",
       "<style scoped>\n",
       "    .dataframe tbody tr th:only-of-type {\n",
       "        vertical-align: middle;\n",
       "    }\n",
       "\n",
       "    .dataframe tbody tr th {\n",
       "        vertical-align: top;\n",
       "    }\n",
       "\n",
       "    .dataframe thead th {\n",
       "        text-align: right;\n",
       "    }\n",
       "</style>\n",
       "<table border=\"1\" class=\"dataframe\">\n",
       "  <thead>\n",
       "    <tr style=\"text-align: right;\">\n",
       "      <th></th>\n",
       "      <th>ADM2_EN</th>\n",
       "      <th>ADM1_EN</th>\n",
       "      <th>geometry</th>\n",
       "    </tr>\n",
       "  </thead>\n",
       "  <tbody>\n",
       "    <tr>\n",
       "      <th>33</th>\n",
       "      <td>Dagoretti</td>\n",
       "      <td>Nairobi</td>\n",
       "      <td>POLYGON ((36.71748 -1.25983, 36.71854 -1.26081...</td>\n",
       "    </tr>\n",
       "    <tr>\n",
       "      <th>37</th>\n",
       "      <td>Embakasi Central</td>\n",
       "      <td>Nairobi</td>\n",
       "      <td>POLYGON ((36.93617 -1.25759, 36.93801 -1.26309...</td>\n",
       "    </tr>\n",
       "  </tbody>\n",
       "</table>\n",
       "</div>"
      ],
      "text/plain": [
       "             ADM2_EN  ADM1_EN  \\\n",
       "33         Dagoretti  Nairobi   \n",
       "37  Embakasi Central  Nairobi   \n",
       "\n",
       "                                             geometry  \n",
       "33  POLYGON ((36.71748 -1.25983, 36.71854 -1.26081...  \n",
       "37  POLYGON ((36.93617 -1.25759, 36.93801 -1.26309...  "
      ]
     },
     "execution_count": 469,
     "metadata": {},
     "output_type": "execute_result"
    }
   ],
   "source": [
    "#  Display the schema of subcounties geodataframe to check the column names and the data types\n",
    "subcounties.head(2)"
   ]
  },
  {
   "cell_type": "code",
   "execution_count": null,
   "metadata": {},
   "outputs": [],
   "source": []
  },
  {
   "cell_type": "markdown",
   "metadata": {},
   "source": [
    "### Perform a spatial join between the two GeoDataFrames to obtain a new GeoDataFrame with each parcel and the subcounty it lies within:\n",
    "\n",
    "    parcels_subcounties = gpd.sjoin(parcels, subcounties, how='left', op='within')\n",
    "\n",
    "The how='left' \n",
    "   - argument ensures that all parcels are included in the resulting GeoDataFrame, even if they do not lie within a subcounty. \n",
    "\n",
    "The op='within' \n",
    "   - argument specifies that the join should be based on the spatial relationship of being within the subcounty boundaries.\n",
    "   \n",
    "\n",
    "### Group the parcels by subcounty using the groupby method:\n",
    "    \n",
    "    parcels_by_subcounty = parcels_subcounties.groupby('subcounty_name')\n",
    "\n",
    "This will return a GroupBy object that you can use to perform further operations on the parcels within each subcounty.\n",
    "\n",
    "### If you want to create a new shapefile showing the grouped parcels, you can use the dissolve method on the GroupBy object:\n",
    "\n",
    "    parcels_by_subcounty_geom = parcels_by_subcounty.dissolve(by='subcounty_name', aggfunc='sum')\n",
    "    \n",
    "    parcels_by_subcounty_geom.to_file('parcels_by_subcounty.shp')\n",
    "\n",
    "\n",
    "The aggfunc='sum' \n",
    "   - argument specifies that any non-geometry columns in the original GeoDataFrame should be summed when dissolving the geometries.\n",
    "\n",
    "\n",
    "\n",
    "\n",
    "\n",
    "\n"
   ]
  },
  {
   "cell_type": "markdown",
   "metadata": {},
   "source": [
    "###  Renaming columns "
   ]
  },
  {
   "cell_type": "code",
   "execution_count": 470,
   "metadata": {},
   "outputs": [
    {
     "data": {
      "text/html": [
       "<div>\n",
       "<style scoped>\n",
       "    .dataframe tbody tr th:only-of-type {\n",
       "        vertical-align: middle;\n",
       "    }\n",
       "\n",
       "    .dataframe tbody tr th {\n",
       "        vertical-align: top;\n",
       "    }\n",
       "\n",
       "    .dataframe thead th {\n",
       "        text-align: right;\n",
       "    }\n",
       "</style>\n",
       "<table border=\"1\" class=\"dataframe\">\n",
       "  <thead>\n",
       "    <tr style=\"text-align: right;\">\n",
       "      <th></th>\n",
       "      <th>Subcounty</th>\n",
       "      <th>County</th>\n",
       "      <th>geometry</th>\n",
       "    </tr>\n",
       "  </thead>\n",
       "  <tbody>\n",
       "    <tr>\n",
       "      <th>33</th>\n",
       "      <td>Dagoretti</td>\n",
       "      <td>Nairobi</td>\n",
       "      <td>POLYGON ((36.71748 -1.25983, 36.71854 -1.26081...</td>\n",
       "    </tr>\n",
       "    <tr>\n",
       "      <th>37</th>\n",
       "      <td>Embakasi Central</td>\n",
       "      <td>Nairobi</td>\n",
       "      <td>POLYGON ((36.93617 -1.25759, 36.93801 -1.26309...</td>\n",
       "    </tr>\n",
       "    <tr>\n",
       "      <th>38</th>\n",
       "      <td>Embakasi East</td>\n",
       "      <td>Nairobi</td>\n",
       "      <td>POLYGON ((36.97043 -1.26017, 36.97996 -1.26634...</td>\n",
       "    </tr>\n",
       "    <tr>\n",
       "      <th>39</th>\n",
       "      <td>Embakasi North</td>\n",
       "      <td>Nairobi</td>\n",
       "      <td>POLYGON ((36.91315 -1.23519, 36.91427 -1.23564...</td>\n",
       "    </tr>\n",
       "    <tr>\n",
       "      <th>40</th>\n",
       "      <td>Embakasi South</td>\n",
       "      <td>Nairobi</td>\n",
       "      <td>POLYGON ((36.90722 -1.35991, 36.90650 -1.36105...</td>\n",
       "    </tr>\n",
       "    <tr>\n",
       "      <th>41</th>\n",
       "      <td>Embakasi West</td>\n",
       "      <td>Nairobi</td>\n",
       "      <td>POLYGON ((36.90205 -1.25518, 36.90304 -1.25503...</td>\n",
       "    </tr>\n",
       "    <tr>\n",
       "      <th>81</th>\n",
       "      <td>Kamukunji</td>\n",
       "      <td>Nairobi</td>\n",
       "      <td>POLYGON ((36.87826 -1.25992, 36.87870 -1.26226...</td>\n",
       "    </tr>\n",
       "    <tr>\n",
       "      <th>89</th>\n",
       "      <td>Kasarani</td>\n",
       "      <td>Nairobi</td>\n",
       "      <td>POLYGON ((37.10176 -1.25908, 37.10172 -1.26034...</td>\n",
       "    </tr>\n",
       "    <tr>\n",
       "      <th>98</th>\n",
       "      <td>Kibra</td>\n",
       "      <td>Nairobi</td>\n",
       "      <td>POLYGON ((36.82329 -1.29718, 36.82215 -1.29751...</td>\n",
       "    </tr>\n",
       "    <tr>\n",
       "      <th>108</th>\n",
       "      <td>Kilimani</td>\n",
       "      <td>Nairobi</td>\n",
       "      <td>POLYGON ((36.81181 -1.27208, 36.81225 -1.27344...</td>\n",
       "    </tr>\n",
       "    <tr>\n",
       "      <th>144</th>\n",
       "      <td>Langata</td>\n",
       "      <td>Nairobi</td>\n",
       "      <td>POLYGON ((36.73027 -1.29962, 36.73092 -1.30119...</td>\n",
       "    </tr>\n",
       "    <tr>\n",
       "      <th>157</th>\n",
       "      <td>Makadara</td>\n",
       "      <td>Nairobi</td>\n",
       "      <td>POLYGON ((36.88246 -1.27953, 36.88284 -1.28094...</td>\n",
       "    </tr>\n",
       "    <tr>\n",
       "      <th>171</th>\n",
       "      <td>Mathare</td>\n",
       "      <td>Nairobi</td>\n",
       "      <td>POLYGON ((36.87777 -1.24986, 36.87826 -1.25992...</td>\n",
       "    </tr>\n",
       "    <tr>\n",
       "      <th>231</th>\n",
       "      <td>Roysambu</td>\n",
       "      <td>Nairobi</td>\n",
       "      <td>POLYGON ((36.94164 -1.17330, 36.94084 -1.17420...</td>\n",
       "    </tr>\n",
       "    <tr>\n",
       "      <th>232</th>\n",
       "      <td>Ruaraka</td>\n",
       "      <td>Nairobi</td>\n",
       "      <td>POLYGON ((36.90633 -1.23187, 36.90723 -1.23240...</td>\n",
       "    </tr>\n",
       "    <tr>\n",
       "      <th>251</th>\n",
       "      <td>Starehe</td>\n",
       "      <td>Nairobi</td>\n",
       "      <td>POLYGON ((36.84190 -1.26200, 36.84305 -1.26502...</td>\n",
       "    </tr>\n",
       "    <tr>\n",
       "      <th>287</th>\n",
       "      <td>Westlands</td>\n",
       "      <td>Nairobi</td>\n",
       "      <td>POLYGON ((36.79870 -1.19291, 36.80208 -1.19470...</td>\n",
       "    </tr>\n",
       "  </tbody>\n",
       "</table>\n",
       "</div>"
      ],
      "text/plain": [
       "            Subcounty   County  \\\n",
       "33          Dagoretti  Nairobi   \n",
       "37   Embakasi Central  Nairobi   \n",
       "38      Embakasi East  Nairobi   \n",
       "39     Embakasi North  Nairobi   \n",
       "40     Embakasi South  Nairobi   \n",
       "41      Embakasi West  Nairobi   \n",
       "81          Kamukunji  Nairobi   \n",
       "89           Kasarani  Nairobi   \n",
       "98              Kibra  Nairobi   \n",
       "108          Kilimani  Nairobi   \n",
       "144           Langata  Nairobi   \n",
       "157          Makadara  Nairobi   \n",
       "171           Mathare  Nairobi   \n",
       "231          Roysambu  Nairobi   \n",
       "232           Ruaraka  Nairobi   \n",
       "251           Starehe  Nairobi   \n",
       "287         Westlands  Nairobi   \n",
       "\n",
       "                                              geometry  \n",
       "33   POLYGON ((36.71748 -1.25983, 36.71854 -1.26081...  \n",
       "37   POLYGON ((36.93617 -1.25759, 36.93801 -1.26309...  \n",
       "38   POLYGON ((36.97043 -1.26017, 36.97996 -1.26634...  \n",
       "39   POLYGON ((36.91315 -1.23519, 36.91427 -1.23564...  \n",
       "40   POLYGON ((36.90722 -1.35991, 36.90650 -1.36105...  \n",
       "41   POLYGON ((36.90205 -1.25518, 36.90304 -1.25503...  \n",
       "81   POLYGON ((36.87826 -1.25992, 36.87870 -1.26226...  \n",
       "89   POLYGON ((37.10176 -1.25908, 37.10172 -1.26034...  \n",
       "98   POLYGON ((36.82329 -1.29718, 36.82215 -1.29751...  \n",
       "108  POLYGON ((36.81181 -1.27208, 36.81225 -1.27344...  \n",
       "144  POLYGON ((36.73027 -1.29962, 36.73092 -1.30119...  \n",
       "157  POLYGON ((36.88246 -1.27953, 36.88284 -1.28094...  \n",
       "171  POLYGON ((36.87777 -1.24986, 36.87826 -1.25992...  \n",
       "231  POLYGON ((36.94164 -1.17330, 36.94084 -1.17420...  \n",
       "232  POLYGON ((36.90633 -1.23187, 36.90723 -1.23240...  \n",
       "251  POLYGON ((36.84190 -1.26200, 36.84305 -1.26502...  \n",
       "287  POLYGON ((36.79870 -1.19291, 36.80208 -1.19470...  "
      ]
     },
     "execution_count": 470,
     "metadata": {},
     "output_type": "execute_result"
    }
   ],
   "source": [
    "#  Rename FIRST_SCou column to Subcounty\n",
    "\n",
    "# parcels_subcounties = parcels_subcounties.rename(columns={'ADM2_EN': 'Subcounty'})\n",
    "\n",
    "\n",
    "new_column_names = {'ADM2_EN': 'Subcounty', 'ADM1_EN': 'County', }\n",
    "\n",
    "subcounty = subcounties.rename(columns=new_column_names)\n",
    "\n",
    "subcounty"
   ]
  },
  {
   "cell_type": "markdown",
   "metadata": {},
   "source": [
    "###  join the two shapefiles to match each parcel with the subcounty it belongs in"
   ]
  },
  {
   "cell_type": "code",
   "execution_count": 472,
   "metadata": {
    "scrolled": true
   },
   "outputs": [
    {
     "data": {
      "text/html": [
       "<div>\n",
       "<style scoped>\n",
       "    .dataframe tbody tr th:only-of-type {\n",
       "        vertical-align: middle;\n",
       "    }\n",
       "\n",
       "    .dataframe tbody tr th {\n",
       "        vertical-align: top;\n",
       "    }\n",
       "\n",
       "    .dataframe thead th {\n",
       "        text-align: right;\n",
       "    }\n",
       "</style>\n",
       "<table border=\"1\" class=\"dataframe\">\n",
       "  <thead>\n",
       "    <tr style=\"text-align: right;\">\n",
       "      <th></th>\n",
       "      <th>AreaH</th>\n",
       "      <th>PerM</th>\n",
       "      <th>AreaM</th>\n",
       "      <th>PlotNo</th>\n",
       "      <th>LRNumber</th>\n",
       "      <th>geometry</th>\n",
       "      <th>price</th>\n",
       "      <th>index_right</th>\n",
       "      <th>SCCodeFull</th>\n",
       "      <th>Subcounty</th>\n",
       "    </tr>\n",
       "  </thead>\n",
       "  <tbody>\n",
       "    <tr>\n",
       "      <th>0</th>\n",
       "      <td>0.075741</td>\n",
       "      <td>113.8550</td>\n",
       "      <td>757.413</td>\n",
       "      <td>1000</td>\n",
       "      <td>LRNO/1000</td>\n",
       "      <td>POLYGON ((36.87962 -1.28471, 36.87955 -1.28454...</td>\n",
       "      <td>134103</td>\n",
       "      <td>15.0</td>\n",
       "      <td>4707</td>\n",
       "      <td>Makadara</td>\n",
       "    </tr>\n",
       "    <tr>\n",
       "      <th>1</th>\n",
       "      <td>0.015678</td>\n",
       "      <td>64.2584</td>\n",
       "      <td>156.776</td>\n",
       "      <td>1001</td>\n",
       "      <td>LRNO/1001</td>\n",
       "      <td>POLYGON ((36.87969 -1.28489, 36.87967 -1.28484...</td>\n",
       "      <td>155866</td>\n",
       "      <td>15.0</td>\n",
       "      <td>4707</td>\n",
       "      <td>Makadara</td>\n",
       "    </tr>\n",
       "  </tbody>\n",
       "</table>\n",
       "</div>"
      ],
      "text/plain": [
       "      AreaH      PerM    AreaM  PlotNo   LRNumber  \\\n",
       "0  0.075741  113.8550  757.413    1000  LRNO/1000   \n",
       "1  0.015678   64.2584  156.776    1001  LRNO/1001   \n",
       "\n",
       "                                            geometry   price  index_right  \\\n",
       "0  POLYGON ((36.87962 -1.28471, 36.87955 -1.28454...  134103         15.0   \n",
       "1  POLYGON ((36.87969 -1.28489, 36.87967 -1.28484...  155866         15.0   \n",
       "\n",
       "  SCCodeFull Subcounty  \n",
       "0       4707  Makadara  \n",
       "1       4707  Makadara  "
      ]
     },
     "execution_count": 472,
     "metadata": {},
     "output_type": "execute_result"
    }
   ],
   "source": [
    "#  join the two shapefiles to match each parcel with the subcounty it belongs in\n",
    "\"\"\"\n",
    "The how='left'\n",
    "\n",
    "- argument ensures that all parcels are included in the resulting GeoDataFrame, even if they do not lie within a subcounty\n",
    ".\n",
    "The op='within'\n",
    "\n",
    "- argument specifies that the join should be based on the spatial relationship of being within the subcounty boundaries.\n",
    "\n",
    "\"\"\"\n",
    "\n",
    "# selected_subcounty = subcounty[subcounty['Subcounty'] == 'Westlands']\n",
    "# selected_subcounty.plot()\n",
    "\n",
    "# # parcels_within_subcounty = gpd.sjoin(parcels, selected_subcounty, op='within')\n",
    "# # parcels_within_subcounty.plot()\n",
    "\n",
    "\n",
    "# The shapefile is not correct\n",
    "# parcels_subcounties = gpd.sjoin(parcels, subcounty, how='left', op='within') scounty\n",
    "\n",
    "\n",
    "parcels_subcounties = gpd.sjoin(parcels, scounty, how='left', op='within')\n",
    "\n",
    "parcels_subcounties.head(2)\n"
   ]
  },
  {
   "cell_type": "code",
   "execution_count": 548,
   "metadata": {},
   "outputs": [
    {
     "data": {
      "text/plain": [
       "array(['Makadara', 'Kamukunji', 'Westlands', 'Mathare', 'Embakasi',\n",
       "       'Kibra', nan, \"Lang'ata\", 'Njiru', 'Dagoretti', 'Starehe',\n",
       "       'Kikuyu', 'Kasarani', 'Kabete', 'Kiambu'], dtype=object)"
      ]
     },
     "execution_count": 548,
     "metadata": {},
     "output_type": "execute_result"
    }
   ],
   "source": [
    "# getting unique values found in the column subcounty\n",
    "\n",
    "parcels_subcounties[\"Subcounty\"].unique()\n"
   ]
  },
  {
   "cell_type": "code",
   "execution_count": 549,
   "metadata": {},
   "outputs": [],
   "source": [
    "# Check for NaN values and delete empty columns\n",
    "\n",
    "# print(parcels_subcounties.isna())\n",
    "\n",
    "parcels_subcounties = parcels_subcounties.dropna()"
   ]
  },
  {
   "cell_type": "code",
   "execution_count": 550,
   "metadata": {},
   "outputs": [
    {
     "data": {
      "text/plain": [
       "array(['Makadara', 'Kamukunji', 'Westlands', 'Mathare', 'Embakasi',\n",
       "       'Kibra', \"Lang'ata\", 'Njiru', 'Dagoretti', 'Starehe', 'Kikuyu',\n",
       "       'Kasarani', 'Kabete', 'Kiambu'], dtype=object)"
      ]
     },
     "execution_count": 550,
     "metadata": {},
     "output_type": "execute_result"
    }
   ],
   "source": [
    "parcels_subcounties[\"Subcounty\"].unique()"
   ]
  },
  {
   "cell_type": "code",
   "execution_count": 551,
   "metadata": {},
   "outputs": [
    {
     "data": {
      "text/plain": [
       "<pandas.core.groupby.generic.DataFrameGroupBy object at 0x000002A88BE98710>"
      ]
     },
     "execution_count": 551,
     "metadata": {},
     "output_type": "execute_result"
    }
   ],
   "source": [
    "parcels_grouped = parcels_subcounties.groupby(\"Subcounty\")\n",
    "parcels_grouped"
   ]
  },
  {
   "cell_type": "code",
   "execution_count": 553,
   "metadata": {},
   "outputs": [],
   "source": [
    "parcels_grouped.groups"
   ]
  },
  {
   "cell_type": "code",
   "execution_count": 554,
   "metadata": {},
   "outputs": [
    {
     "name": "stdout",
     "output_type": "stream",
     "text": [
      "Dagoretti : has    5322     number of Parcels (rows).\n",
      "Embakasi : has    10862     number of Parcels (rows).\n",
      "Kabete : has    1     number of Parcels (rows).\n",
      "Kamukunji : has    3193     number of Parcels (rows).\n",
      "Kasarani : has    12499     number of Parcels (rows).\n",
      "Kiambu : has    3     number of Parcels (rows).\n",
      "Kibra : has    3253     number of Parcels (rows).\n",
      "Kikuyu : has    205     number of Parcels (rows).\n",
      "Lang'ata : has    7700     number of Parcels (rows).\n",
      "Makadara : has    3651     number of Parcels (rows).\n",
      "Mathare : has    1917     number of Parcels (rows).\n",
      "Njiru : has    11931     number of Parcels (rows).\n",
      "Starehe : has    4929     number of Parcels (rows).\n",
      "Westlands : has    12067     number of Parcels (rows).\n"
     ]
    }
   ],
   "source": [
    "for key, group in parcels_grouped:\n",
    "    print(f\"{key} : has    {len(group)}     number of Parcels (rows).\")"
   ]
  },
  {
   "cell_type": "markdown",
   "metadata": {},
   "source": [
    "##  Iterate over the input data, grouped by SubCounty and save them seperately as a shapefile"
   ]
  },
  {
   "cell_type": "code",
   "execution_count": 622,
   "metadata": {},
   "outputs": [
    {
     "name": "stdout",
     "output_type": "stream",
     "text": [
      "Saving Dagoretti to file system\n"
     ]
    },
    {
     "name": "stderr",
     "output_type": "stream",
     "text": [
      "C:\\Users\\DELL\\Anaconda3\\lib\\site-packages\\ipykernel_launcher.py:9: UserWarning: Column names longer than 10 characters will be truncated when saved to ESRI Shapefile.\n",
      "  if __name__ == '__main__':\n"
     ]
    },
    {
     "name": "stdout",
     "output_type": "stream",
     "text": [
      "Saving Embakasi to file system\n",
      "Saving Kabete to file system\n",
      "Saving Kamukunji to file system\n",
      "Saving Kasarani to file system\n",
      "Saving Kiambu to file system\n",
      "Saving Kibra to file system\n",
      "Saving Kikuyu to file system\n",
      "Saving Lang'ata to file system\n",
      "Saving Makadara to file system\n",
      "Saving Mathare to file system\n",
      "Saving Njiru to file system\n",
      "Saving Starehe to file system\n",
      "Saving Westlands to file system\n",
      "------------------\n",
      "Saving Completed\n"
     ]
    }
   ],
   "source": [
    "# Iterate over the input data, grouped by SubCounty and save them seperately as a shapefile\n",
    "\n",
    "for key, group in parcels_subcounties.groupby(\"Subcounty\"):\n",
    "    \n",
    "    results = data_dir + \"\\Results\"\n",
    "    \n",
    "#   save the group to a new shapefile    .format(key[:-5])\n",
    "\n",
    "    print(\"Saving\", key, \"Parcels to file system..............\")\n",
    "    \n",
    "    group.to_file(\"./data/{}.shp\".format(key))\n",
    "    \n",
    "    \n",
    "print(\"------------------\")\n",
    "\n",
    "print(\"Saving Completed\")"
   ]
  },
  {
   "cell_type": "code",
   "execution_count": 608,
   "metadata": {},
   "outputs": [
    {
     "name": "stderr",
     "output_type": "stream",
     "text": [
      "C:\\Users\\DELL\\Anaconda3\\lib\\site-packages\\ipykernel_launcher.py:11: UserWarning: Column names longer than 10 characters will be truncated when saved to ESRI Shapefile.\n",
      "  # This is added back by InteractiveShellApp.init_path()\n"
     ]
    },
    {
     "ename": "DriverIOError",
     "evalue": "Failed to create file  C:\\Users\\DELL\\Desktop\\jupyter\\AutomateGISnotebooks\\lessons\\data\\Results\\parcels_Dagoretti.shp: No error",
     "output_type": "error",
     "traceback": [
      "\u001b[1;31m---------------------------------------------------------------------------\u001b[0m",
      "\u001b[1;31mCPLE_AppDefinedError\u001b[0m                      Traceback (most recent call last)",
      "\u001b[1;32mfiona/ogrext.pyx\u001b[0m in \u001b[0;36mfiona.ogrext.WritingSession.start\u001b[1;34m()\u001b[0m\n",
      "\u001b[1;32mfiona/_err.pyx\u001b[0m in \u001b[0;36mfiona._err.exc_wrap_pointer\u001b[1;34m()\u001b[0m\n",
      "\u001b[1;31mCPLE_AppDefinedError\u001b[0m: Failed to create file  C:\\Users\\DELL\\Desktop\\jupyter\\AutomateGISnotebooks\\lessons\\data\\Results\\parcels_Dagoretti.shp: No error",
      "\nDuring handling of the above exception, another exception occurred:\n",
      "\u001b[1;31mDriverIOError\u001b[0m                             Traceback (most recent call last)",
      "\u001b[1;32m<ipython-input-608-640f1a7deabc>\u001b[0m in \u001b[0;36m<module>\u001b[1;34m\u001b[0m\n\u001b[0;32m      9\u001b[0m     \u001b[1;31m# save the group to a new shapefile\u001b[0m\u001b[1;33m\u001b[0m\u001b[1;33m\u001b[0m\u001b[1;33m\u001b[0m\u001b[0m\n\u001b[0;32m     10\u001b[0m \u001b[1;33m\u001b[0m\u001b[0m\n\u001b[1;32m---> 11\u001b[1;33m     \u001b[0mgroup\u001b[0m\u001b[1;33m.\u001b[0m\u001b[0mto_file\u001b[0m\u001b[1;33m(\u001b[0m\u001b[0mresults\u001b[0m \u001b[1;33m+\u001b[0m  \u001b[1;34m\"\\parcels_{}.shp\"\u001b[0m\u001b[1;33m.\u001b[0m\u001b[0mformat\u001b[0m\u001b[1;33m(\u001b[0m\u001b[0mname\u001b[0m\u001b[1;33m)\u001b[0m\u001b[1;33m)\u001b[0m\u001b[1;33m\u001b[0m\u001b[1;33m\u001b[0m\u001b[0m\n\u001b[0m\u001b[0;32m     12\u001b[0m \u001b[1;33m\u001b[0m\u001b[0m\n\u001b[0;32m     13\u001b[0m     \u001b[1;32mbreak\u001b[0m\u001b[1;33m\u001b[0m\u001b[1;33m\u001b[0m\u001b[0m\n",
      "\u001b[1;32m~\\Anaconda3\\lib\\site-packages\\geopandas\\geodataframe.py\u001b[0m in \u001b[0;36mto_file\u001b[1;34m(self, filename, driver, schema, index, **kwargs)\u001b[0m\n\u001b[0;32m   1084\u001b[0m         \u001b[1;32mfrom\u001b[0m \u001b[0mgeopandas\u001b[0m\u001b[1;33m.\u001b[0m\u001b[0mio\u001b[0m\u001b[1;33m.\u001b[0m\u001b[0mfile\u001b[0m \u001b[1;32mimport\u001b[0m \u001b[0m_to_file\u001b[0m\u001b[1;33m\u001b[0m\u001b[1;33m\u001b[0m\u001b[0m\n\u001b[0;32m   1085\u001b[0m \u001b[1;33m\u001b[0m\u001b[0m\n\u001b[1;32m-> 1086\u001b[1;33m         \u001b[0m_to_file\u001b[0m\u001b[1;33m(\u001b[0m\u001b[0mself\u001b[0m\u001b[1;33m,\u001b[0m \u001b[0mfilename\u001b[0m\u001b[1;33m,\u001b[0m \u001b[0mdriver\u001b[0m\u001b[1;33m,\u001b[0m \u001b[0mschema\u001b[0m\u001b[1;33m,\u001b[0m \u001b[0mindex\u001b[0m\u001b[1;33m,\u001b[0m \u001b[1;33m**\u001b[0m\u001b[0mkwargs\u001b[0m\u001b[1;33m)\u001b[0m\u001b[1;33m\u001b[0m\u001b[1;33m\u001b[0m\u001b[0m\n\u001b[0m\u001b[0;32m   1087\u001b[0m \u001b[1;33m\u001b[0m\u001b[0m\n\u001b[0;32m   1088\u001b[0m     \u001b[1;32mdef\u001b[0m \u001b[0mset_crs\u001b[0m\u001b[1;33m(\u001b[0m\u001b[0mself\u001b[0m\u001b[1;33m,\u001b[0m \u001b[0mcrs\u001b[0m\u001b[1;33m=\u001b[0m\u001b[1;32mNone\u001b[0m\u001b[1;33m,\u001b[0m \u001b[0mepsg\u001b[0m\u001b[1;33m=\u001b[0m\u001b[1;32mNone\u001b[0m\u001b[1;33m,\u001b[0m \u001b[0minplace\u001b[0m\u001b[1;33m=\u001b[0m\u001b[1;32mFalse\u001b[0m\u001b[1;33m,\u001b[0m \u001b[0mallow_override\u001b[0m\u001b[1;33m=\u001b[0m\u001b[1;32mFalse\u001b[0m\u001b[1;33m)\u001b[0m\u001b[1;33m:\u001b[0m\u001b[1;33m\u001b[0m\u001b[1;33m\u001b[0m\u001b[0m\n",
      "\u001b[1;32m~\\Anaconda3\\lib\\site-packages\\geopandas\\io\\file.py\u001b[0m in \u001b[0;36m_to_file\u001b[1;34m(df, filename, driver, schema, index, mode, crs, **kwargs)\u001b[0m\n\u001b[0;32m    326\u001b[0m             \u001b[0mcrs_wkt\u001b[0m \u001b[1;33m=\u001b[0m \u001b[0mcrs\u001b[0m\u001b[1;33m.\u001b[0m\u001b[0mto_wkt\u001b[0m\u001b[1;33m(\u001b[0m\u001b[1;34m\"WKT1_GDAL\"\u001b[0m\u001b[1;33m)\u001b[0m\u001b[1;33m\u001b[0m\u001b[1;33m\u001b[0m\u001b[0m\n\u001b[0;32m    327\u001b[0m         with fiona.open(\n\u001b[1;32m--> 328\u001b[1;33m             \u001b[0mfilename\u001b[0m\u001b[1;33m,\u001b[0m \u001b[0mmode\u001b[0m\u001b[1;33m=\u001b[0m\u001b[0mmode\u001b[0m\u001b[1;33m,\u001b[0m \u001b[0mdriver\u001b[0m\u001b[1;33m=\u001b[0m\u001b[0mdriver\u001b[0m\u001b[1;33m,\u001b[0m \u001b[0mcrs_wkt\u001b[0m\u001b[1;33m=\u001b[0m\u001b[0mcrs_wkt\u001b[0m\u001b[1;33m,\u001b[0m \u001b[0mschema\u001b[0m\u001b[1;33m=\u001b[0m\u001b[0mschema\u001b[0m\u001b[1;33m,\u001b[0m \u001b[1;33m**\u001b[0m\u001b[0mkwargs\u001b[0m\u001b[1;33m\u001b[0m\u001b[1;33m\u001b[0m\u001b[0m\n\u001b[0m\u001b[0;32m    329\u001b[0m         ) as colxn:\n\u001b[0;32m    330\u001b[0m             \u001b[0mcolxn\u001b[0m\u001b[1;33m.\u001b[0m\u001b[0mwriterecords\u001b[0m\u001b[1;33m(\u001b[0m\u001b[0mdf\u001b[0m\u001b[1;33m.\u001b[0m\u001b[0miterfeatures\u001b[0m\u001b[1;33m(\u001b[0m\u001b[1;33m)\u001b[0m\u001b[1;33m)\u001b[0m\u001b[1;33m\u001b[0m\u001b[1;33m\u001b[0m\u001b[0m\n",
      "\u001b[1;32m~\\Anaconda3\\lib\\site-packages\\fiona\\env.py\u001b[0m in \u001b[0;36mwrapper\u001b[1;34m(*args, **kwargs)\u001b[0m\n\u001b[0;32m    396\u001b[0m     \u001b[1;32mdef\u001b[0m \u001b[0mwrapper\u001b[0m\u001b[1;33m(\u001b[0m\u001b[1;33m*\u001b[0m\u001b[0margs\u001b[0m\u001b[1;33m,\u001b[0m \u001b[1;33m**\u001b[0m\u001b[0mkwargs\u001b[0m\u001b[1;33m)\u001b[0m\u001b[1;33m:\u001b[0m\u001b[1;33m\u001b[0m\u001b[1;33m\u001b[0m\u001b[0m\n\u001b[0;32m    397\u001b[0m         \u001b[1;32mif\u001b[0m \u001b[0mlocal\u001b[0m\u001b[1;33m.\u001b[0m\u001b[0m_env\u001b[0m\u001b[1;33m:\u001b[0m\u001b[1;33m\u001b[0m\u001b[1;33m\u001b[0m\u001b[0m\n\u001b[1;32m--> 398\u001b[1;33m             \u001b[1;32mreturn\u001b[0m \u001b[0mf\u001b[0m\u001b[1;33m(\u001b[0m\u001b[1;33m*\u001b[0m\u001b[0margs\u001b[0m\u001b[1;33m,\u001b[0m \u001b[1;33m**\u001b[0m\u001b[0mkwargs\u001b[0m\u001b[1;33m)\u001b[0m\u001b[1;33m\u001b[0m\u001b[1;33m\u001b[0m\u001b[0m\n\u001b[0m\u001b[0;32m    399\u001b[0m         \u001b[1;32melse\u001b[0m\u001b[1;33m:\u001b[0m\u001b[1;33m\u001b[0m\u001b[1;33m\u001b[0m\u001b[0m\n\u001b[0;32m    400\u001b[0m             \u001b[1;32mif\u001b[0m \u001b[0misinstance\u001b[0m\u001b[1;33m(\u001b[0m\u001b[0margs\u001b[0m\u001b[1;33m[\u001b[0m\u001b[1;36m0\u001b[0m\u001b[1;33m]\u001b[0m\u001b[1;33m,\u001b[0m \u001b[0mstr\u001b[0m\u001b[1;33m)\u001b[0m\u001b[1;33m:\u001b[0m\u001b[1;33m\u001b[0m\u001b[1;33m\u001b[0m\u001b[0m\n",
      "\u001b[1;32m~\\Anaconda3\\lib\\site-packages\\fiona\\__init__.py\u001b[0m in \u001b[0;36mopen\u001b[1;34m(fp, mode, driver, schema, crs, encoding, layer, vfs, enabled_drivers, crs_wkt, **kwargs)\u001b[0m\n\u001b[0;32m    262\u001b[0m             c = Collection(path, mode, crs=crs, driver=driver, schema=this_schema,\n\u001b[0;32m    263\u001b[0m                            \u001b[0mencoding\u001b[0m\u001b[1;33m=\u001b[0m\u001b[0mencoding\u001b[0m\u001b[1;33m,\u001b[0m \u001b[0mlayer\u001b[0m\u001b[1;33m=\u001b[0m\u001b[0mlayer\u001b[0m\u001b[1;33m,\u001b[0m \u001b[0menabled_drivers\u001b[0m\u001b[1;33m=\u001b[0m\u001b[0menabled_drivers\u001b[0m\u001b[1;33m,\u001b[0m \u001b[0mcrs_wkt\u001b[0m\u001b[1;33m=\u001b[0m\u001b[0mcrs_wkt\u001b[0m\u001b[1;33m,\u001b[0m\u001b[1;33m\u001b[0m\u001b[1;33m\u001b[0m\u001b[0m\n\u001b[1;32m--> 264\u001b[1;33m                            **kwargs)\n\u001b[0m\u001b[0;32m    265\u001b[0m         \u001b[1;32melse\u001b[0m\u001b[1;33m:\u001b[0m\u001b[1;33m\u001b[0m\u001b[1;33m\u001b[0m\u001b[0m\n\u001b[0;32m    266\u001b[0m             raise ValueError(\n",
      "\u001b[1;32m~\\Anaconda3\\lib\\site-packages\\fiona\\collection.py\u001b[0m in \u001b[0;36m__init__\u001b[1;34m(self, path, mode, driver, schema, crs, encoding, layer, vsi, archive, enabled_drivers, crs_wkt, ignore_fields, ignore_geometry, **kwargs)\u001b[0m\n\u001b[0;32m    155\u001b[0m             \u001b[1;32melif\u001b[0m \u001b[0mself\u001b[0m\u001b[1;33m.\u001b[0m\u001b[0mmode\u001b[0m \u001b[1;32min\u001b[0m \u001b[1;33m(\u001b[0m\u001b[1;34m'a'\u001b[0m\u001b[1;33m,\u001b[0m \u001b[1;34m'w'\u001b[0m\u001b[1;33m)\u001b[0m\u001b[1;33m:\u001b[0m\u001b[1;33m\u001b[0m\u001b[1;33m\u001b[0m\u001b[0m\n\u001b[0;32m    156\u001b[0m                 \u001b[0mself\u001b[0m\u001b[1;33m.\u001b[0m\u001b[0msession\u001b[0m \u001b[1;33m=\u001b[0m \u001b[0mWritingSession\u001b[0m\u001b[1;33m(\u001b[0m\u001b[1;33m)\u001b[0m\u001b[1;33m\u001b[0m\u001b[1;33m\u001b[0m\u001b[0m\n\u001b[1;32m--> 157\u001b[1;33m                 \u001b[0mself\u001b[0m\u001b[1;33m.\u001b[0m\u001b[0msession\u001b[0m\u001b[1;33m.\u001b[0m\u001b[0mstart\u001b[0m\u001b[1;33m(\u001b[0m\u001b[0mself\u001b[0m\u001b[1;33m,\u001b[0m \u001b[1;33m**\u001b[0m\u001b[0mkwargs\u001b[0m\u001b[1;33m)\u001b[0m\u001b[1;33m\u001b[0m\u001b[1;33m\u001b[0m\u001b[0m\n\u001b[0m\u001b[0;32m    158\u001b[0m         \u001b[1;32mexcept\u001b[0m \u001b[0mIOError\u001b[0m\u001b[1;33m:\u001b[0m\u001b[1;33m\u001b[0m\u001b[1;33m\u001b[0m\u001b[0m\n\u001b[0;32m    159\u001b[0m             \u001b[0mself\u001b[0m\u001b[1;33m.\u001b[0m\u001b[0msession\u001b[0m \u001b[1;33m=\u001b[0m \u001b[1;32mNone\u001b[0m\u001b[1;33m\u001b[0m\u001b[1;33m\u001b[0m\u001b[0m\n",
      "\u001b[1;32mfiona/ogrext.pyx\u001b[0m in \u001b[0;36mfiona.ogrext.WritingSession.start\u001b[1;34m()\u001b[0m\n",
      "\u001b[1;31mDriverIOError\u001b[0m: Failed to create file  C:\\Users\\DELL\\Desktop\\jupyter\\AutomateGISnotebooks\\lessons\\data\\Results\\parcels_Dagoretti.shp: No error"
     ]
    }
   ],
   "source": [
    "# Iterate over the input data, grouped by CLASS\n",
    "\n",
    "# # for key, group in parcels_grouped.groupby(\"CLASS\"):\n",
    "\n",
    "# for name, group in parcels_grouped:\n",
    "    \n",
    "#     results = data_dir + \"\\Results\"\n",
    "    \n",
    "#     # save the group to a new shapefile\n",
    "    \n",
    "#     group.to_file(results +  \"\\parcels_{}.shp\".format(name))\n",
    "    \n",
    "#     break"
   ]
  },
  {
   "cell_type": "markdown",
   "metadata": {},
   "source": [
    "##  Getting Parcel based on the group they belong in which is the subcounty name"
   ]
  },
  {
   "cell_type": "code",
   "execution_count": null,
   "metadata": {},
   "outputs": [],
   "source": []
  },
  {
   "cell_type": "code",
   "execution_count": 581,
   "metadata": {},
   "outputs": [
    {
     "data": {
      "text/plain": [
       "<matplotlib.axes._subplots.AxesSubplot at 0x2a890282a20>"
      ]
     },
     "execution_count": 581,
     "metadata": {},
     "output_type": "execute_result"
    },
    {
     "data": {
      "image/png": "[encoded data removed]",
      "text/plain": [
       "<Figure size 432x288 with 1 Axes>"
      ]
     },
     "metadata": {
      "needs_background": "light"
     },
     "output_type": "display_data"
    }
   ],
   "source": [
    "\n",
    "subParcels = parcels_grouped.get_group('Starehe')\n",
    "\n",
    "type(subParcels)\n",
    "\n",
    "subParcels.plot()"
   ]
  },
  {
   "cell_type": "code",
   "execution_count": 556,
   "metadata": {},
   "outputs": [],
   "source": [
    "# \"\"\"\n",
    "# # Select the sub-county you are interested in filtering: using subcounty column\n",
    "\n",
    "# # selected_subcounty = subcounties[subcounties['subcounty_name'] == 'Your Subcounty Name']\n",
    "\n",
    "# parcels_west = parcels_subcounties[parcels_subcounties['Subcounty'] == 'Westlands']\n",
    "# parcels_west \n",
    "\n",
    "# \"\"\""
   ]
  },
  {
   "cell_type": "markdown",
   "metadata": {},
   "source": [
    "### \"\"\"\n",
    "Use the within() method to select the parcels that are within the selected sub-county:\n",
    "\n",
    "The following creates a new geodataframe of parcels that only lie within Westland Sub County \n",
    "the geodta frame can be saved to a new shapefile or any other format \n",
    "\n",
    "###  \"\"\"\n",
    "\n",
    "\n",
    "### Rename the column names\n",
    "    scounty = scounty.rename(columns={'FIRST_SCou': 'Subcounty'})\n",
    "    \n",
    "\n",
    "### Select the sub-county you are interested in filtering: using subcounty column\n",
    "\n",
    "    selected_subcounty = subcounties[subcounties['subcounty_name'] == 'Your Subcounty Name']\n",
    "\n",
    "    selected_subcounty = scounty[scounty['Subcounty'] == 'Westlands']\n",
    "    \n",
    "    \n",
    "### spatial join the parcels with the selected subcounty    \n",
    "\n",
    "    parcels_within_subcounty = gpd.sjoin(parcels, selected_subcounty, op='within')\n",
    "\n",
    "\n",
    "    parcels_within_subcounty.head(2)\n",
    "    \n",
    "    \n",
    "    selected_subcounty.plot()"
   ]
  },
  {
   "cell_type": "code",
   "execution_count": 583,
   "metadata": {},
   "outputs": [],
   "source": [
    "selected_subcounty = scounty[scounty['Subcounty'] == 'Starehe']"
   ]
  },
  {
   "cell_type": "code",
   "execution_count": 584,
   "metadata": {},
   "outputs": [
    {
     "data": {
      "text/html": [
       "<div>\n",
       "<style scoped>\n",
       "    .dataframe tbody tr th:only-of-type {\n",
       "        vertical-align: middle;\n",
       "    }\n",
       "\n",
       "    .dataframe tbody tr th {\n",
       "        vertical-align: top;\n",
       "    }\n",
       "\n",
       "    .dataframe thead th {\n",
       "        text-align: right;\n",
       "    }\n",
       "</style>\n",
       "<table border=\"1\" class=\"dataframe\">\n",
       "  <thead>\n",
       "    <tr style=\"text-align: right;\">\n",
       "      <th></th>\n",
       "      <th>SCCodeFull</th>\n",
       "      <th>Subcounty</th>\n",
       "      <th>geometry</th>\n",
       "    </tr>\n",
       "  </thead>\n",
       "  <tbody>\n",
       "    <tr>\n",
       "      <th>18</th>\n",
       "      <td>4710</td>\n",
       "      <td>Starehe</td>\n",
       "      <td>POLYGON ((36.84378 -1.26740, 36.84387 -1.26763...</td>\n",
       "    </tr>\n",
       "  </tbody>\n",
       "</table>\n",
       "</div>"
      ],
      "text/plain": [
       "   SCCodeFull Subcounty                                           geometry\n",
       "18       4710   Starehe  POLYGON ((36.84378 -1.26740, 36.84387 -1.26763..."
      ]
     },
     "execution_count": 584,
     "metadata": {},
     "output_type": "execute_result"
    }
   ],
   "source": [
    "selected_subcounty"
   ]
  },
  {
   "cell_type": "code",
   "execution_count": 585,
   "metadata": {},
   "outputs": [
    {
     "data": {
      "text/plain": [
       "<matplotlib.axes._subplots.AxesSubplot at 0x2a8955ad0f0>"
      ]
     },
     "execution_count": 585,
     "metadata": {},
     "output_type": "execute_result"
    },
    {
     "data": {
      "image/png": "[encoded data removed]",
      "text/plain": [
       "<Figure size 432x288 with 1 Axes>"
      ]
     },
     "metadata": {
      "needs_background": "light"
     },
     "output_type": "display_data"
    }
   ],
   "source": [
    "selected_subcounty.plot()"
   ]
  },
  {
   "cell_type": "markdown",
   "metadata": {},
   "source": [
    "\n",
    "### matplotlib color maping\n",
    "https://geo-python.github.io/site/lessons/L7/python-plotting.html"
   ]
  },
  {
   "cell_type": "code",
   "execution_count": 586,
   "metadata": {},
   "outputs": [
    {
     "data": {
      "text/plain": [
       "Text(0.5, 1, 'Parcels within Westlands')"
      ]
     },
     "execution_count": 586,
     "metadata": {},
     "output_type": "execute_result"
    },
    {
     "data": {
      "image/png": "[encoded data removed]",
      "text/plain": [
       "<Figure size 720x720 with 1 Axes>"
      ]
     },
     "metadata": {
      "needs_background": "light"
     },
     "output_type": "display_data"
    }
   ],
   "source": [
    "# subcounty Name\n",
    "subcounty = 'Westlands'  # Makadara, Mathare, Njiru, Starehe, Westlands, Embakasi\n",
    "\n",
    "# Create a map of the parcels within the selected sub-county\n",
    "\n",
    "# ax = parcels_within_subcounty.plot(column='AreaH',  cmap='YlOrRd', figsize=(10, 10))\n",
    "ax = subParcels.plot(column='AreaH', figsize=(10, 10))\n",
    "\n",
    "selected_subcounty.plot(ax=ax, facecolor='none', edgecolor='black')\n",
    "\n",
    "title = 'Parcels within {}'.format(subcounty)\n",
    "\n",
    "# print(title)\n",
    "\n",
    "ax.set_title(title)"
   ]
  },
  {
   "cell_type": "code",
   "execution_count": null,
   "metadata": {},
   "outputs": [],
   "source": []
  },
  {
   "cell_type": "code",
   "execution_count": 587,
   "metadata": {},
   "outputs": [
    {
     "data": {
      "text/plain": [
       "['Makadara',\n",
       " 'Kamukunji',\n",
       " 'Westlands',\n",
       " 'Mathare',\n",
       " 'Embakasi',\n",
       " 'Kibra',\n",
       " \"Lang'ata\",\n",
       " 'Njiru',\n",
       " 'Dagoretti',\n",
       " 'Starehe',\n",
       " 'Kikuyu',\n",
       " 'Kasarani',\n",
       " 'Kabete',\n",
       " 'Kiambu']"
      ]
     },
     "execution_count": 587,
     "metadata": {},
     "output_type": "execute_result"
    }
   ],
   "source": [
    "# get the names of the subcounties\n",
    "\n",
    "unique_values = parcels_subcounties['Subcounty'].unique().tolist()\n",
    "unique_values"
   ]
  },
  {
   "cell_type": "markdown",
   "metadata": {},
   "source": [
    "## Automate map creation"
   ]
  },
  {
   "cell_type": "raw",
   "metadata": {},
   "source": [
    "# subcounty Name\n",
    "\n",
    "for i in range(len(unique_values)):\n",
    "    \n",
    "\n",
    "    if i == 8:\n",
    "\n",
    "        # Create a map of the parcels within the selected sub-county\n",
    "        \n",
    "        parcelSubCounty = parcels_grouped.get_group(unique_values[i])\n",
    "\n",
    "        selected_subcounty =  scounty[scounty['Subcounty'] == unique_values[i]]\n",
    "\n",
    "    #   ax = parcelSubCounty.plot(column='AreaH',  cmap='YlOrRd', figsize=(10, 10))\n",
    "\n",
    "        ax = parcelSubCounty.plot(column='AreaH', figsize=(12, 12))\n",
    "\n",
    "\n",
    "        selected_subcounty.plot(ax=ax, facecolor='none', edgecolor='black')\n",
    "        \n",
    "\n",
    "        title = 'Parcels within {}'.format(unique_values[i])\n",
    "\n",
    "\n",
    "        ax.set_title(title)"
   ]
  },
  {
   "cell_type": "code",
   "execution_count": null,
   "metadata": {},
   "outputs": [],
   "source": []
  },
  {
   "cell_type": "code",
   "execution_count": 588,
   "metadata": {},
   "outputs": [],
   "source": [
    "\"\"\"\n",
    "To find the parcel with the highest area among the selected parcels, you can use the sort_values()\n",
    "method of the geodataframe to sort the parcels by area, \n",
    "and then use the iloc[] method to select the parcel with the highest area: \n",
    "\n",
    "\"\"\"\n",
    "\n",
    "# Sort the selected parcels by area in descending order\n",
    "parcels_within_subcounty = parcels_within_subcounty.sort_values(by='AreaH', ascending=False)\n",
    "\n",
    "# Select the parcel with the highest area\n",
    "parcel_with_highest_area = parcels_within_subcounty.iloc[0]\n"
   ]
  },
  {
   "cell_type": "code",
   "execution_count": 589,
   "metadata": {},
   "outputs": [
    {
     "data": {
      "text/plain": [
       "56.3056"
      ]
     },
     "execution_count": 589,
     "metadata": {},
     "output_type": "execute_result"
    }
   ],
   "source": [
    "# This will return a new geodataframe parcels_within_subcounty that contains the selected parcels sorted by area in descending order, and a variable parcel_with_highest_area that contains the parcel with the highest area.\n",
    "\n",
    "# You can access the area of the selected parcel with the highest area using:\n",
    "\n",
    "highest_area = parcel_with_highest_area['AreaH']\n",
    "\n",
    "highest_area\n",
    "\n"
   ]
  },
  {
   "cell_type": "code",
   "execution_count": 591,
   "metadata": {},
   "outputs": [],
   "source": [
    "# You can also access any other attribute of the parcel using:\n",
    "\n",
    "attribute_value = parcel_with_highest_area['attribute_name']"
   ]
  },
  {
   "cell_type": "code",
   "execution_count": 595,
   "metadata": {},
   "outputs": [
    {
     "data": {
      "text/plain": [
       "Subcounty\n",
       "Dagoretti    1838.209310\n",
       "Embakasi      884.628656\n",
       "Kabete          0.093896\n",
       "Kamukunji     158.588607\n",
       "Kasarani     1845.248778\n",
       "Kiambu          3.091126\n",
       "Kibra         362.906045\n",
       "Kikuyu         63.320421\n",
       "Lang'ata     2908.094877\n",
       "Makadara      254.834268\n",
       "Mathare        50.130119\n",
       "Njiru        2845.685337\n",
       "Starehe       783.483036\n",
       "Westlands    3711.670034\n",
       "Name: AreaH, dtype: float64"
      ]
     },
     "execution_count": 595,
     "metadata": {},
     "output_type": "execute_result"
    }
   ],
   "source": [
    "# Calculate the total area of parcels within each sub-county:\n",
    "\n",
    "# parcels_subcounties are grouped parces and we are addregating the sum in eacg group\n",
    "\n",
    "# Group the resulting geodataframe by sub-county and calculate the sum of the areas\n",
    "total_area_by_subcounty = parcels_subcounties.groupby('Subcounty')['AreaH'].sum()\n",
    "\n",
    "total_area_by_subcounty"
   ]
  },
  {
   "cell_type": "code",
   "execution_count": 597,
   "metadata": {},
   "outputs": [
    {
     "data": {
      "text/plain": [
       "Subcounty\n",
       "Dagoretti    0.345398\n",
       "Embakasi     0.081443\n",
       "Kabete       0.093896\n",
       "Kamukunji    0.049668\n",
       "Kasarani     0.147632\n",
       "Kiambu       1.030375\n",
       "Kibra        0.111560\n",
       "Kikuyu       0.308880\n",
       "Lang'ata     0.377675\n",
       "Makadara     0.069798\n",
       "Mathare      0.026150\n",
       "Njiru        0.238512\n",
       "Starehe      0.158954\n",
       "Westlands    0.307588\n",
       "Name: AreaH, dtype: float64"
      ]
     },
     "execution_count": 597,
     "metadata": {},
     "output_type": "execute_result"
    }
   ],
   "source": [
    "# Calculate the average area of parcels within each sub-county:\n",
    "# You can use the groupby() method to group the parcels within sub-counties by sub-county name and then calculate the mean of the areas of the parcels within each sub-county:\n",
    "\n",
    "# Group parcels within sub-counties by sub-county name and calculate the mean of the areas\n",
    "average_area_by_subcounty = parcels_subcounties.groupby('Subcounty')['AreaH'].mean()\n",
    "\n",
    "average_area_by_subcounty"
   ]
  },
  {
   "cell_type": "code",
   "execution_count": 598,
   "metadata": {},
   "outputs": [],
   "source": [
    "# Calculate the distance between each parcel centroid and the nearest sub-county:\n",
    "# You can use the distance() method to calculate the distance between each parcel centroid and the nearest sub-county centroid:\n",
    "# python\n",
    "\n",
    "# Calculate the distance between each parcel centroid and the nearest sub-county centroid\n",
    "# Calculate the distance between each parcel centroid and the nearest sub-county centroid\n",
    "# nearest_subcounty_distance = gpd.GeoSeries(parcels_within_subcounties.centroid).distance(subcounties.centroid).min(axis=1)\n",
    "# nearest_subcounty_distance"
   ]
  },
  {
   "cell_type": "code",
   "execution_count": null,
   "metadata": {},
   "outputs": [],
   "source": []
  }
 ],
 "metadata": {
  "kernelspec": {
   "display_name": "Python 3",
   "language": "python",
   "name": "python3"
  },
  "language_info": {
   "codemirror_mode": {
    "name": "ipython",
    "version": 3
   },
   "file_extension": ".py",
   "mimetype": "text/x-python",
   "name": "python",
   "nbconvert_exporter": "python",
   "pygments_lexer": "ipython3",
   "version": "3.7.3"
  }
 },
 "nbformat": 4,
 "nbformat_minor": 2
}
